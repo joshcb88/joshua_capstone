{
 "cells": [
  {
   "cell_type": "code",
   "execution_count": null,
   "id": "9785f186",
   "metadata": {},
   "outputs": [],
   "source": [
    "import pandas as pd\n",
    "import requests"
   ]
  },
  {
   "cell_type": "code",
   "execution_count": null,
   "id": "b08227f6",
   "metadata": {},
   "outputs": [],
   "source": [
    "tracks=pd.read_csv('../data/spotifytracksclean.csv')"
   ]
  },
  {
   "cell_type": "code",
   "execution_count": null,
   "id": "f8411460",
   "metadata": {
    "scrolled": false
   },
   "outputs": [],
   "source": [
    "tracks.head()"
   ]
  },
  {
   "cell_type": "code",
   "execution_count": null,
   "id": "5b202dbd",
   "metadata": {},
   "outputs": [],
   "source": [
    "API_URL = 'https://musicbrainz.org/ws/2'"
   ]
  },
  {
   "cell_type": "code",
   "execution_count": null,
   "id": "c441a8f1",
   "metadata": {},
   "outputs": [],
   "source": [
    "def get_artist_info(artist_name):\n",
    "    params = {\n",
    "        'query': artist_name,\n",
    "        'fmt': 'json'\n",
    "    }\n",
    "    \n",
    "    response = requests.get(API_URL + '/artist', params=params)\n",
    "    data = response.json()\n",
    "    return data"
   ]
  },
  {
   "cell_type": "code",
   "execution_count": null,
   "id": "63138967",
   "metadata": {},
   "outputs": [],
   "source": [
    "def categorize_artist(artist_info):\n",
    "    if 'artists' in artist_info:\n",
    "        artists = artist_info['artists']\n",
    "        if artists:\n",
    "            artist = artists[0]\n",
    "            if 'type' in artist:\n",
    "                artist_type = artist['type']\n",
    "                if artist_type == 'Person':\n",
    "                    return 'Solo'\n",
    "                elif artist_type == 'Group':\n",
    "                    return 'Group'\n",
    "    return 'Unknown'"
   ]
  },
  {
   "cell_type": "code",
   "execution_count": null,
   "id": "edce0a5b",
   "metadata": {},
   "outputs": [],
   "source": []
  },
  {
   "cell_type": "code",
   "execution_count": null,
   "id": "dd19f3fa",
   "metadata": {},
   "outputs": [],
   "source": [
    "tracks['artist_category'] = tracks['Artist'].apply(lambda x: categorize_artist(get_artist_info(x)))"
   ]
  },
  {
   "cell_type": "code",
   "execution_count": null,
   "id": "cf7ee5ca",
   "metadata": {},
   "outputs": [],
   "source": [
    "tracks"
   ]
  },
  {
   "cell_type": "code",
   "execution_count": null,
   "id": "ffff0081",
   "metadata": {},
   "outputs": [],
   "source": [
    "tracks.to_csv('../data/spotify_full_data')"
   ]
  },
  {
   "cell_type": "code",
   "execution_count": null,
   "id": "25cbe96b",
   "metadata": {},
   "outputs": [],
   "source": []
  }
 ],
 "metadata": {
  "kernelspec": {
   "display_name": "Python 3 (ipykernel)",
   "language": "python",
   "name": "python3"
  },
  "language_info": {
   "codemirror_mode": {
    "name": "ipython",
    "version": 3
   },
   "file_extension": ".py",
   "mimetype": "text/x-python",
   "name": "python",
   "nbconvert_exporter": "python",
   "pygments_lexer": "ipython3",
   "version": "3.10.9"
  }
 },
 "nbformat": 4,
 "nbformat_minor": 5
}

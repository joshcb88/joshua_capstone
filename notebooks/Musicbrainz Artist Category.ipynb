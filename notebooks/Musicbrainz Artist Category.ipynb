{
 "cells": [
  {
   "cell_type": "code",
   "execution_count": 1,
   "id": "9785f186",
   "metadata": {},
   "outputs": [],
   "source": [
    "import pandas as pd\n",
    "import requests"
   ]
  },
  {
   "cell_type": "code",
   "execution_count": 2,
   "id": "b08227f6",
   "metadata": {},
   "outputs": [],
   "source": [
    "tracks=pd.read_csv('../data/spotifytracksclean.csv')"
   ]
  },
  {
   "cell_type": "code",
   "execution_count": 3,
   "id": "f8411460",
   "metadata": {
    "scrolled": false
   },
   "outputs": [
    {
     "data": {
      "text/html": [
       "<div>\n",
       "<style scoped>\n",
       "    .dataframe tbody tr th:only-of-type {\n",
       "        vertical-align: middle;\n",
       "    }\n",
       "\n",
       "    .dataframe tbody tr th {\n",
       "        vertical-align: top;\n",
       "    }\n",
       "\n",
       "    .dataframe thead th {\n",
       "        text-align: right;\n",
       "    }\n",
       "</style>\n",
       "<table border=\"1\" class=\"dataframe\">\n",
       "  <thead>\n",
       "    <tr style=\"text-align: right;\">\n",
       "      <th></th>\n",
       "      <th>Unnamed: 0</th>\n",
       "      <th>Title</th>\n",
       "      <th>Artist</th>\n",
       "      <th>Album</th>\n",
       "      <th>Popularity</th>\n",
       "      <th>Track URL</th>\n",
       "      <th>Acousticness</th>\n",
       "      <th>Danceability</th>\n",
       "      <th>Loudness</th>\n",
       "      <th>Valence</th>\n",
       "      <th>...</th>\n",
       "      <th>Liveness</th>\n",
       "      <th>Tempo</th>\n",
       "      <th>Explicit</th>\n",
       "      <th>Instrumentalness</th>\n",
       "      <th>Sub_Genre</th>\n",
       "      <th>Main Genre</th>\n",
       "      <th>Year</th>\n",
       "      <th>Decade</th>\n",
       "      <th>Duration(mins)</th>\n",
       "      <th>Emotion Category</th>\n",
       "    </tr>\n",
       "  </thead>\n",
       "  <tbody>\n",
       "    <tr>\n",
       "      <th>0</th>\n",
       "      <td>0</td>\n",
       "      <td>Bad, Bad Whiskey</td>\n",
       "      <td>Amos Milburn</td>\n",
       "      <td>Let's Have A Party! (The Aladdin Recordings)</td>\n",
       "      <td>25</td>\n",
       "      <td>https://open.spotify.com/track/1XByDNjGTqsqkl7...</td>\n",
       "      <td>0.974</td>\n",
       "      <td>0.874</td>\n",
       "      <td>-10.500</td>\n",
       "      <td>0.658</td>\n",
       "      <td>...</td>\n",
       "      <td>0.1320</td>\n",
       "      <td>115.146</td>\n",
       "      <td>False</td>\n",
       "      <td>0.0111</td>\n",
       "      <td>piano blues</td>\n",
       "      <td>Blues</td>\n",
       "      <td>1950</td>\n",
       "      <td>1950's</td>\n",
       "      <td>2.92</td>\n",
       "      <td>Positive</td>\n",
       "    </tr>\n",
       "    <tr>\n",
       "      <th>1</th>\n",
       "      <td>1</td>\n",
       "      <td>One Scotch, One Bourbon, One Beer</td>\n",
       "      <td>Amos Milburn</td>\n",
       "      <td>Down The Road Apiece -The Best Of Amos Milburn</td>\n",
       "      <td>50</td>\n",
       "      <td>https://open.spotify.com/track/1T7ZI5Z9XHFeSZU...</td>\n",
       "      <td>0.811</td>\n",
       "      <td>0.908</td>\n",
       "      <td>-17.630</td>\n",
       "      <td>0.281</td>\n",
       "      <td>...</td>\n",
       "      <td>0.0707</td>\n",
       "      <td>118.678</td>\n",
       "      <td>False</td>\n",
       "      <td>0.0938</td>\n",
       "      <td>piano blues</td>\n",
       "      <td>Blues</td>\n",
       "      <td>1953</td>\n",
       "      <td>1950's</td>\n",
       "      <td>2.94</td>\n",
       "      <td>Negative</td>\n",
       "    </tr>\n",
       "    <tr>\n",
       "      <th>2</th>\n",
       "      <td>2</td>\n",
       "      <td>Let Me Go Home Whiskey</td>\n",
       "      <td>Amos Milburn</td>\n",
       "      <td>Let's Have A Party! (The Aladdin Recordings)</td>\n",
       "      <td>29</td>\n",
       "      <td>https://open.spotify.com/track/33343QHpDEcf022...</td>\n",
       "      <td>0.976</td>\n",
       "      <td>0.908</td>\n",
       "      <td>-12.726</td>\n",
       "      <td>0.722</td>\n",
       "      <td>...</td>\n",
       "      <td>0.1320</td>\n",
       "      <td>121.300</td>\n",
       "      <td>False</td>\n",
       "      <td>0.0129</td>\n",
       "      <td>piano blues</td>\n",
       "      <td>Blues</td>\n",
       "      <td>1953</td>\n",
       "      <td>1950's</td>\n",
       "      <td>2.80</td>\n",
       "      <td>Positive</td>\n",
       "    </tr>\n",
       "    <tr>\n",
       "      <th>3</th>\n",
       "      <td>3</td>\n",
       "      <td>Stack-A'Lee</td>\n",
       "      <td>Archibald</td>\n",
       "      <td>Saga Blues: New Orleans Rhythm and Blues \"Good...</td>\n",
       "      <td>3</td>\n",
       "      <td>https://open.spotify.com/track/141cfH3W9II7dWJ...</td>\n",
       "      <td>0.991</td>\n",
       "      <td>0.802</td>\n",
       "      <td>-15.019</td>\n",
       "      <td>0.785</td>\n",
       "      <td>...</td>\n",
       "      <td>0.1240</td>\n",
       "      <td>125.915</td>\n",
       "      <td>False</td>\n",
       "      <td>0.8950</td>\n",
       "      <td>new orleans soul</td>\n",
       "      <td>Soul</td>\n",
       "      <td>1950</td>\n",
       "      <td>1950's</td>\n",
       "      <td>4.50</td>\n",
       "      <td>Positive</td>\n",
       "    </tr>\n",
       "    <tr>\n",
       "      <th>4</th>\n",
       "      <td>4</td>\n",
       "      <td>My Baby Left Me - Remastered 2003</td>\n",
       "      <td>Arthur \"Big Boy\" Crudup</td>\n",
       "      <td>Rock Me Mama - When The Sun Goes Down Series</td>\n",
       "      <td>36</td>\n",
       "      <td>https://open.spotify.com/track/5WgAbfjSEt2ycl9...</td>\n",
       "      <td>0.810</td>\n",
       "      <td>0.788</td>\n",
       "      <td>-11.888</td>\n",
       "      <td>0.843</td>\n",
       "      <td>...</td>\n",
       "      <td>0.0975</td>\n",
       "      <td>108.290</td>\n",
       "      <td>False</td>\n",
       "      <td>0.0000</td>\n",
       "      <td>blues</td>\n",
       "      <td>Blues</td>\n",
       "      <td>1951</td>\n",
       "      <td>1950's</td>\n",
       "      <td>2.35</td>\n",
       "      <td>Positive</td>\n",
       "    </tr>\n",
       "  </tbody>\n",
       "</table>\n",
       "<p>5 rows × 21 columns</p>\n",
       "</div>"
      ],
      "text/plain": [
       "   Unnamed: 0                              Title                   Artist  \\\n",
       "0           0                   Bad, Bad Whiskey             Amos Milburn   \n",
       "1           1  One Scotch, One Bourbon, One Beer             Amos Milburn   \n",
       "2           2             Let Me Go Home Whiskey             Amos Milburn   \n",
       "3           3                        Stack-A'Lee                Archibald   \n",
       "4           4  My Baby Left Me - Remastered 2003  Arthur \"Big Boy\" Crudup   \n",
       "\n",
       "                                               Album  Popularity  \\\n",
       "0       Let's Have A Party! (The Aladdin Recordings)          25   \n",
       "1     Down The Road Apiece -The Best Of Amos Milburn          50   \n",
       "2       Let's Have A Party! (The Aladdin Recordings)          29   \n",
       "3  Saga Blues: New Orleans Rhythm and Blues \"Good...           3   \n",
       "4       Rock Me Mama - When The Sun Goes Down Series          36   \n",
       "\n",
       "                                           Track URL  Acousticness  \\\n",
       "0  https://open.spotify.com/track/1XByDNjGTqsqkl7...         0.974   \n",
       "1  https://open.spotify.com/track/1T7ZI5Z9XHFeSZU...         0.811   \n",
       "2  https://open.spotify.com/track/33343QHpDEcf022...         0.976   \n",
       "3  https://open.spotify.com/track/141cfH3W9II7dWJ...         0.991   \n",
       "4  https://open.spotify.com/track/5WgAbfjSEt2ycl9...         0.810   \n",
       "\n",
       "   Danceability  Loudness  Valence  ...  Liveness    Tempo  Explicit  \\\n",
       "0         0.874   -10.500    0.658  ...    0.1320  115.146     False   \n",
       "1         0.908   -17.630    0.281  ...    0.0707  118.678     False   \n",
       "2         0.908   -12.726    0.722  ...    0.1320  121.300     False   \n",
       "3         0.802   -15.019    0.785  ...    0.1240  125.915     False   \n",
       "4         0.788   -11.888    0.843  ...    0.0975  108.290     False   \n",
       "\n",
       "   Instrumentalness         Sub_Genre Main Genre  Year  Decade Duration(mins)  \\\n",
       "0            0.0111       piano blues      Blues  1950  1950's           2.92   \n",
       "1            0.0938       piano blues      Blues  1953  1950's           2.94   \n",
       "2            0.0129       piano blues      Blues  1953  1950's           2.80   \n",
       "3            0.8950  new orleans soul       Soul  1950  1950's           4.50   \n",
       "4            0.0000             blues      Blues  1951  1950's           2.35   \n",
       "\n",
       "   Emotion Category  \n",
       "0          Positive  \n",
       "1          Negative  \n",
       "2          Positive  \n",
       "3          Positive  \n",
       "4          Positive  \n",
       "\n",
       "[5 rows x 21 columns]"
      ]
     },
     "execution_count": 3,
     "metadata": {},
     "output_type": "execute_result"
    }
   ],
   "source": [
    "tracks.head()"
   ]
  },
  {
   "cell_type": "code",
   "execution_count": 7,
   "id": "5b202dbd",
   "metadata": {},
   "outputs": [],
   "source": [
    "API_URL = 'https://musicbrainz.org/ws/2'"
   ]
  },
  {
   "cell_type": "code",
   "execution_count": null,
   "id": "25fd55d9",
   "metadata": {},
   "outputs": [],
   "source": [
    "def get_artist_info(artist_name):\n",
    "    params = {\n",
    "        'query': artist_name,\n",
    "        'fmt': 'json'}\n",
    "    \n",
    "    response = requests.get(API_URL + '/artist', params=params)\n",
    "    result = response.json()\n",
    "    return data"
   ]
  },
  {
   "cell_type": "code",
   "execution_count": 8,
   "id": "63138967",
   "metadata": {},
   "outputs": [],
   "source": [
    "def categorize_artist(artist_info):\n",
    "    if 'artists' in artist_info:\n",
    "        artists = artist_info['artists']\n",
    "    if artists:\n",
    "        artist = artists[0]\n",
    "    if 'type' in artist:\n",
    "        artist_type = artist['type']\n",
    "    if artist_type == 'Person':\n",
    "            return 'Solo'\n",
    "    elif artist_type == 'Group':\n",
    "        return 'Group'\n",
    "    return 'Unknown'"
   ]
  },
  {
   "cell_type": "code",
   "execution_count": 9,
   "id": "dd19f3fa",
   "metadata": {},
   "outputs": [],
   "source": [
    "## new column for api results artist type\n",
    "tracks['artist_category'] = tracks['Artist'].apply(lambda x:categorize_artist(get_artist_info(x)))"
   ]
  },
  {
   "cell_type": "code",
   "execution_count": null,
   "id": "cf7ee5ca",
   "metadata": {},
   "outputs": [],
   "source": [
    "tracks"
   ]
  },
  {
   "cell_type": "code",
   "execution_count": null,
   "id": "ffff0081",
   "metadata": {},
   "outputs": [],
   "source": [
    "tracks.to_csv('../data/spotify_full_data.csv')"
   ]
  },
  {
   "cell_type": "code",
   "execution_count": null,
   "id": "d285d0f5",
   "metadata": {},
   "outputs": [],
   "source": [
    "spotifydatafull=pd.read_csv('../data/spotify_full_data.csv')"
   ]
  },
  {
   "cell_type": "code",
   "execution_count": null,
   "id": "4d695636",
   "metadata": {
    "scrolled": true
   },
   "outputs": [],
   "source": [
    "spotifydatafull"
   ]
  },
  {
   "cell_type": "markdown",
   "id": "5b19ca75",
   "metadata": {},
   "source": [
    "## Defining function to itterate through new dataframe to pull in artist gender"
   ]
  },
  {
   "cell_type": "code",
   "execution_count": null,
   "id": "bbf555cf",
   "metadata": {},
   "outputs": [],
   "source": [
    "def get_artist_gender(artist_name):\n",
    "    result = musicbrainzngs.search_artists(artist=artist_name, limit=1)\n",
    "    if 'artist-list' in result and result['artist-list']:\n",
    "        artist = result['artist-list'][0]\n",
    "        return artist.get('gender')\n",
    "    return None"
   ]
  },
  {
   "cell_type": "code",
   "execution_count": null,
   "id": "1e137d99",
   "metadata": {},
   "outputs": [],
   "source": [
    "## New column for api results for artist gender\n",
    "spotifydatafull[\"gender\"] = spotifydatafull[\"Artist\"].apply(get_artist_gender)"
   ]
  },
  {
   "cell_type": "code",
   "execution_count": null,
   "id": "e0418bdf",
   "metadata": {
    "scrolled": false
   },
   "outputs": [],
   "source": [
    "spotifydatafull"
   ]
  },
  {
   "cell_type": "code",
   "execution_count": null,
   "id": "42a7bc5f",
   "metadata": {},
   "outputs": [],
   "source": [
    "spotifydatafull.to_csv('../data/full_data_spotify.csv')"
   ]
  },
  {
   "cell_type": "code",
   "execution_count": null,
   "id": "fb1d8435",
   "metadata": {},
   "outputs": [],
   "source": [
    "spotifydatafull['gender'].value_counts()"
   ]
  },
  {
   "cell_type": "code",
   "execution_count": null,
   "id": "9b2703b9",
   "metadata": {},
   "outputs": [],
   "source": []
  }
 ],
 "metadata": {
  "kernelspec": {
   "display_name": "Python 3 (ipykernel)",
   "language": "python",
   "name": "python3"
  },
  "language_info": {
   "codemirror_mode": {
    "name": "ipython",
    "version": 3
   },
   "file_extension": ".py",
   "mimetype": "text/x-python",
   "name": "python",
   "nbconvert_exporter": "python",
   "pygments_lexer": "ipython3",
   "version": "3.10.9"
  }
 },
 "nbformat": 4,
 "nbformat_minor": 5
}

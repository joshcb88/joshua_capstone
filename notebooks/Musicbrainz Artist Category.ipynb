{
 "cells": [
  {
   "cell_type": "code",
   "execution_count": null,
   "id": "9785f186",
   "metadata": {},
   "outputs": [],
   "source": [
    "import pandas as pd\n",
    "import requests"
   ]
  },
  {
   "cell_type": "code",
   "execution_count": null,
   "id": "b08227f6",
   "metadata": {},
   "outputs": [],
   "source": [
    "tracks=pd.read_csv('../data/spotifytracksclean.csv')"
   ]
  },
  {
   "cell_type": "code",
   "execution_count": null,
   "id": "f8411460",
   "metadata": {
    "scrolled": false
   },
   "outputs": [],
   "source": [
    "tracks.head()"
   ]
  },
  {
   "cell_type": "code",
   "execution_count": null,
   "id": "5b202dbd",
   "metadata": {},
   "outputs": [],
   "source": [
    "API_URL = 'https://musicbrainz.org/ws/2'"
   ]
  },
  {
   "cell_type": "markdown",
   "id": "c50b7a88",
   "metadata": {},
   "source": [
    "## Defining a function to itterate through a dataframe to pull artist info"
   ]
  },
  {
   "cell_type": "code",
   "execution_count": null,
   "id": "c441a8f1",
   "metadata": {},
   "outputs": [],
   "source": [
    "def get_artist_info(artist_name):\n",
    "    params = {\n",
    "        'query': artist_name,\n",
    "        'fmt': 'json'}\n",
    "    \n",
    "    response = requests.get(API_URL + '/artist', params=params)\n",
    "    result = response.json()\n",
    "    return data"
   ]
  },
  {
   "cell_type": "markdown",
   "id": "115d1e2c",
   "metadata": {},
   "source": [
    "## Defining another function to itterate through a dataframe to pull artist type"
   ]
  },
  {
   "cell_type": "code",
   "execution_count": null,
   "id": "63138967",
   "metadata": {},
   "outputs": [],
   "source": [
    "def categorize_artist(artist_info):\n",
    "    if 'artists' in artist_info:\n",
    "        artists = artist_info['artists']\n",
    "    if artists:\n",
    "        artist = artists[0]\n",
    "    if 'type' in artist:\n",
    "        artist_type = artist['type']\n",
    "    if artist_type == 'Person':\n",
    "            return 'Solo'\n",
    "    elif artist_type == 'Group':\n",
    "        return 'Group'\n",
    "    return 'Unknown'"
   ]
  },
  {
   "cell_type": "code",
   "execution_count": null,
   "id": "edce0a5b",
   "metadata": {},
   "outputs": [],
   "source": []
  },
  {
   "cell_type": "code",
   "execution_count": null,
   "id": "dd19f3fa",
   "metadata": {},
   "outputs": [],
   "source": [
    "## new column for api results artist type\n",
    "tracks['artist_category'] = tracks['Artist'].apply(lambda x: categorize_artist(get_artist_info(x)))"
   ]
  },
  {
   "cell_type": "code",
   "execution_count": null,
   "id": "cf7ee5ca",
   "metadata": {},
   "outputs": [],
   "source": [
    "tracks"
   ]
  },
  {
   "cell_type": "code",
   "execution_count": null,
   "id": "ffff0081",
   "metadata": {},
   "outputs": [],
   "source": [
    "tracks.to_csv('../data/spotify_full_data.csv')"
   ]
  },
  {
   "cell_type": "code",
   "execution_count": null,
   "id": "d285d0f5",
   "metadata": {},
   "outputs": [],
   "source": [
    "spotifydatafull=pd.read_csv('../data/spotify_full_data.csv')"
   ]
  },
  {
   "cell_type": "code",
   "execution_count": null,
   "id": "4d695636",
   "metadata": {
    "scrolled": true
   },
   "outputs": [],
   "source": [
    "spotifydatafull"
   ]
  },
  {
   "cell_type": "markdown",
   "id": "5b19ca75",
   "metadata": {},
   "source": [
    "## Defining function to itterate through new dataframe to pull in artist gender"
   ]
  },
  {
   "cell_type": "code",
   "execution_count": null,
   "id": "bbf555cf",
   "metadata": {},
   "outputs": [],
   "source": [
    "def get_artist_gender(artist_name):\n",
    "    result = musicbrainzngs.search_artists(artist=artist_name, limit=1)\n",
    "    if 'artist-list' in result and result['artist-list']:\n",
    "        artist = result['artist-list'][0]\n",
    "        return artist.get('gender')\n",
    "    return None"
   ]
  },
  {
   "cell_type": "code",
   "execution_count": null,
   "id": "1e137d99",
   "metadata": {},
   "outputs": [],
   "source": [
    "## New column for api results for artist gender\n",
    "spotifydatafull[\"gender\"] = spotifydatafull[\"Artist\"].apply(get_artist_gender)"
   ]
  },
  {
   "cell_type": "code",
   "execution_count": null,
   "id": "e0418bdf",
   "metadata": {
    "scrolled": false
   },
   "outputs": [],
   "source": [
    "spotifydatafull"
   ]
  },
  {
   "cell_type": "code",
   "execution_count": null,
   "id": "42a7bc5f",
   "metadata": {},
   "outputs": [],
   "source": [
    "spotifydatafull.to_csv('../data/full_data_spotify.csv')"
   ]
  },
  {
   "cell_type": "code",
   "execution_count": null,
   "id": "fb1d8435",
   "metadata": {},
   "outputs": [],
   "source": [
    "spotifydatafull['gender'].value_counts()"
   ]
  },
  {
   "cell_type": "code",
   "execution_count": null,
   "id": "9b2703b9",
   "metadata": {},
   "outputs": [],
   "source": []
  }
 ],
 "metadata": {
  "kernelspec": {
   "display_name": "Python 3 (ipykernel)",
   "language": "python",
   "name": "python3"
  },
  "language_info": {
   "codemirror_mode": {
    "name": "ipython",
    "version": 3
   },
   "file_extension": ".py",
   "mimetype": "text/x-python",
   "name": "python",
   "nbconvert_exporter": "python",
   "pygments_lexer": "ipython3",
   "version": "3.10.9"
  }
 },
 "nbformat": 4,
 "nbformat_minor": 5
}

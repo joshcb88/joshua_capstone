{
 "cells": [
  {
   "cell_type": "code",
   "execution_count": null,
   "id": "60e546dd",
   "metadata": {},
   "outputs": [],
   "source": [
    "import pandas as pd\n",
    "import numpy as np\n",
    "import matplotlib.pyplot as plt\n",
    "import seaborn as sns\n",
    "\n",
    "%matplotlib inline"
   ]
  },
  {
   "cell_type": "markdown",
   "id": "bbe9ded2",
   "metadata": {},
   "source": [
    "## Reading in and concating csv's"
   ]
  },
  {
   "cell_type": "code",
   "execution_count": null,
   "id": "a695702a",
   "metadata": {},
   "outputs": [],
   "source": [
    "spotify1 =pd.read_csv('../data/merged_years\\complete_genre_artist_cleans/fifties_complete.csv')"
   ]
  },
  {
   "cell_type": "code",
   "execution_count": null,
   "id": "85888d04",
   "metadata": {},
   "outputs": [],
   "source": [
    "spotify2 = pd.read_csv('../data/merged_years\\complete_genre_artist_cleans/sixties_complete.csv')"
   ]
  },
  {
   "cell_type": "code",
   "execution_count": null,
   "id": "78779332",
   "metadata": {},
   "outputs": [],
   "source": [
    "spotifytracks1=pd.concat([spotify1,spotify2])"
   ]
  },
  {
   "cell_type": "code",
   "execution_count": null,
   "id": "598b44d4",
   "metadata": {},
   "outputs": [],
   "source": [
    "spotifytracks1.info()"
   ]
  },
  {
   "cell_type": "code",
   "execution_count": null,
   "id": "46318436",
   "metadata": {},
   "outputs": [],
   "source": [
    "spotify3 =pd.read_csv('../data/merged_years\\complete_genre_artist_cleans/seventies_complete.csv')"
   ]
  },
  {
   "cell_type": "code",
   "execution_count": null,
   "id": "2d58af56",
   "metadata": {},
   "outputs": [],
   "source": [
    "spotify4 =pd.read_csv('../data/merged_years\\complete_genre_artist_cleans/eighties_complete.csv')"
   ]
  },
  {
   "cell_type": "code",
   "execution_count": null,
   "id": "d44509ec",
   "metadata": {},
   "outputs": [],
   "source": [
    "spotifytracks2=pd.concat([spotify3,spotify4])"
   ]
  },
  {
   "cell_type": "code",
   "execution_count": null,
   "id": "cc89d133",
   "metadata": {},
   "outputs": [],
   "source": [
    "spotifytracks2.info()"
   ]
  },
  {
   "cell_type": "code",
   "execution_count": null,
   "id": "8f0b83c2",
   "metadata": {},
   "outputs": [],
   "source": [
    "spotify5 =pd.read_csv('../data/merged_years\\complete_genre_artist_cleans/nineties_completed.csv')"
   ]
  },
  {
   "cell_type": "code",
   "execution_count": null,
   "id": "517ca324",
   "metadata": {},
   "outputs": [],
   "source": [
    "spotify6 =pd.read_csv('../data/merged_years\\complete_genre_artist_cleans/twothousands_completed.csv')"
   ]
  },
  {
   "cell_type": "code",
   "execution_count": null,
   "id": "2bb2ea16",
   "metadata": {},
   "outputs": [],
   "source": [
    "spotifytracks3=pd.concat([spotify5,spotify6])"
   ]
  },
  {
   "cell_type": "code",
   "execution_count": null,
   "id": "9daf1efe",
   "metadata": {},
   "outputs": [],
   "source": [
    "spotifytracks3.info()"
   ]
  },
  {
   "cell_type": "code",
   "execution_count": null,
   "id": "119fe770",
   "metadata": {},
   "outputs": [],
   "source": [
    "spotify7 =pd.read_csv('../data/merged_years\\complete_genre_artist_cleans/thousandteen_complete.csv')"
   ]
  },
  {
   "cell_type": "code",
   "execution_count": null,
   "id": "95d9b8d2",
   "metadata": {},
   "outputs": [],
   "source": [
    "spotify8 =pd.read_csv('../data/merged_years\\complete_genre_artist_cleans/the20s_complete.csv')"
   ]
  },
  {
   "cell_type": "code",
   "execution_count": null,
   "id": "d32f07e4",
   "metadata": {},
   "outputs": [],
   "source": [
    "spotifytracks4=pd.concat([spotify7,spotify8])"
   ]
  },
  {
   "cell_type": "code",
   "execution_count": null,
   "id": "f4833bb9",
   "metadata": {},
   "outputs": [],
   "source": [
    "spotifytracks4.info()"
   ]
  },
  {
   "cell_type": "code",
   "execution_count": null,
   "id": "b2ecadbb",
   "metadata": {},
   "outputs": [],
   "source": [
    "spotify_merged = pd.concat([spotifytracks1,spotifytracks2])"
   ]
  },
  {
   "cell_type": "code",
   "execution_count": null,
   "id": "ea130613",
   "metadata": {},
   "outputs": [],
   "source": [
    "spotify_merged.info()"
   ]
  },
  {
   "cell_type": "code",
   "execution_count": null,
   "id": "53244142",
   "metadata": {},
   "outputs": [],
   "source": [
    "sptofiy_merge2=pd.concat([spotifytracks3,spotifytracks4])"
   ]
  },
  {
   "cell_type": "code",
   "execution_count": null,
   "id": "a2fec380",
   "metadata": {
    "scrolled": true
   },
   "outputs": [],
   "source": [
    "sptofiy_merge2.info()"
   ]
  },
  {
   "cell_type": "code",
   "execution_count": null,
   "id": "4c1d8cc4",
   "metadata": {},
   "outputs": [],
   "source": [
    "spotifytracks=pd.concat([spotify_merged,sptofiy_merge2])"
   ]
  },
  {
   "cell_type": "code",
   "execution_count": null,
   "id": "8ee40938",
   "metadata": {
    "scrolled": false
   },
   "outputs": [],
   "source": [
    "spotifytracks.info()"
   ]
  },
  {
   "cell_type": "code",
   "execution_count": null,
   "id": "bc6804ed",
   "metadata": {},
   "outputs": [],
   "source": [
    "##Dropping columns not needed\n",
    "spotifytracks=spotifytracks.drop(columns=['Unnamed: 0','Artist', 'Play Count', 'Genres'])"
   ]
  },
  {
   "cell_type": "code",
   "execution_count": null,
   "id": "90254a1f",
   "metadata": {},
   "outputs": [],
   "source": [
    "##Renaming columns to show Artist and specificng Release as Year (since some tracks appear more times than one in top hits)\n",
    "spotifytracks=spotifytracks.rename(columns={'Artist_Clean':'Artist','Release Year':'Year'})"
   ]
  },
  {
   "cell_type": "code",
   "execution_count": null,
   "id": "f9a7df9e",
   "metadata": {
    "scrolled": true
   },
   "outputs": [],
   "source": [
    "spotifytracks"
   ]
  },
  {
   "cell_type": "code",
   "execution_count": null,
   "id": "9507d156",
   "metadata": {},
   "outputs": [],
   "source": [
    "spotifytracks.to_csv('../data/unalteredtracks.csv')"
   ]
  },
  {
   "cell_type": "markdown",
   "id": "64e844fd",
   "metadata": {},
   "source": [
    "## General stats for dataframe"
   ]
  },
  {
   "cell_type": "code",
   "execution_count": null,
   "id": "f3d279a6",
   "metadata": {
    "scrolled": true
   },
   "outputs": [],
   "source": [
    "spotifytracks.describe()"
   ]
  },
  {
   "cell_type": "code",
   "execution_count": null,
   "id": "b88ae026",
   "metadata": {},
   "outputs": [],
   "source": [
    "##function to create decades column\n",
    "def decade(year):\n",
    "    if 2020 <= year <= 2022:\n",
    "        return \"2020's\"\n",
    "    elif 2010 <= year <= 2019:\n",
    "        return \"2010's\"\n",
    "    elif 2000 <= year <= 2009:\n",
    "        return \"2000's\"\n",
    "    elif 1990 <= year <= 1999:\n",
    "        return \"1990's\"\n",
    "    elif 1980 <= year <= 1989:\n",
    "        return \"1980's\"\n",
    "    elif 1970 <= year <= 1979:\n",
    "        return \"1970's\"\n",
    "    elif 1960 <= year <= 1969:\n",
    "        return \"1960's\"\n",
    "    elif 1950 <= year <= 1959:\n",
    "        return \"1950's\"\n",
    "    else:\n",
    "        return \"Other\""
   ]
  },
  {
   "cell_type": "code",
   "execution_count": null,
   "id": "12a7c735",
   "metadata": {},
   "outputs": [],
   "source": [
    "##Creating a new column to group years into decades\n",
    "spotifytracks['Decade'] = spotifytracks['Year'].apply(decade)"
   ]
  },
  {
   "cell_type": "code",
   "execution_count": null,
   "id": "d5ff18de",
   "metadata": {},
   "outputs": [],
   "source": [
    "spotifytracks"
   ]
  },
  {
   "cell_type": "code",
   "execution_count": null,
   "id": "8eff1f1c",
   "metadata": {},
   "outputs": [],
   "source": [
    "spotifytracks['Duration(mins)'] = round(spotifytracks['Duration (ms)']/60000,2)"
   ]
  },
  {
   "cell_type": "code",
   "execution_count": null,
   "id": "024a3816",
   "metadata": {
    "scrolled": true
   },
   "outputs": [],
   "source": [
    "spotifytracks"
   ]
  },
  {
   "cell_type": "code",
   "execution_count": null,
   "id": "1742c61e",
   "metadata": {},
   "outputs": [],
   "source": [
    "spotifytracks=spotifytracks.drop(columns=['Duration (ms)'])"
   ]
  },
  {
   "cell_type": "code",
   "execution_count": null,
   "id": "42cbc49d",
   "metadata": {
    "scrolled": true
   },
   "outputs": [],
   "source": [
    "spotifytracks"
   ]
  },
  {
   "cell_type": "code",
   "execution_count": null,
   "id": "cb0206ee",
   "metadata": {},
   "outputs": [],
   "source": [
    "spotifytracks['Main Genre'].value_counts()"
   ]
  },
  {
   "cell_type": "markdown",
   "id": "ef4e0eb3",
   "metadata": {},
   "source": [
    "## Fixing mispellings and compiling techo and electronic under EDM genre"
   ]
  },
  {
   "cell_type": "code",
   "execution_count": null,
   "id": "a2a30a0d",
   "metadata": {},
   "outputs": [],
   "source": [
    "spotifytracks.loc[spotifytracks['Main Genre'] == 'Punk Rock', 'Main Genre'] = 'Punk'"
   ]
  },
  {
   "cell_type": "code",
   "execution_count": null,
   "id": "dd60e903",
   "metadata": {},
   "outputs": [],
   "source": [
    "spotifytracks.loc[spotifytracks['Main Genre'] == 'Reggateon', 'Main Genre'] = 'Reggaeton'"
   ]
  },
  {
   "cell_type": "code",
   "execution_count": null,
   "id": "a7d223bc",
   "metadata": {},
   "outputs": [],
   "source": [
    "spotifytracks.loc[spotifytracks['Main Genre'] == 'reggae', 'Main Genre'] = 'Reggae'"
   ]
  },
  {
   "cell_type": "code",
   "execution_count": null,
   "id": "b435665f",
   "metadata": {},
   "outputs": [],
   "source": [
    "spotifytracks.loc[spotifytracks['Main Genre'] == 'pop', 'Main Genre'] = 'Pop'"
   ]
  },
  {
   "cell_type": "code",
   "execution_count": null,
   "id": "5accd7e5",
   "metadata": {},
   "outputs": [],
   "source": [
    "spotifytracks.loc[spotifytracks['Main Genre'] == 'ROck', 'Main Genre'] = 'Rock'"
   ]
  },
  {
   "cell_type": "code",
   "execution_count": null,
   "id": "1f193672",
   "metadata": {},
   "outputs": [],
   "source": [
    "spotifytracks.loc[spotifytracks['Main Genre'] == 'Electronic', 'Main Genre'] = 'EDM'"
   ]
  },
  {
   "cell_type": "code",
   "execution_count": null,
   "id": "c3a4bfd5",
   "metadata": {},
   "outputs": [],
   "source": [
    "spotifytracks.loc[spotifytracks['Main Genre'] == 'Techno', 'Main Genre'] = 'EDM'"
   ]
  },
  {
   "cell_type": "code",
   "execution_count": null,
   "id": "8e28f3c0",
   "metadata": {},
   "outputs": [],
   "source": [
    "spotifytracks.loc[spotifytracks['Main Genre'] == 'Hio-Hop', 'Main Genre'] = 'Hip-Hop'"
   ]
  },
  {
   "cell_type": "code",
   "execution_count": null,
   "id": "b46c56ca",
   "metadata": {},
   "outputs": [],
   "source": [
    "spotifytracks.loc[spotifytracks['Main Genre'] == 'Gospel', 'Main Genre'] = 'Pop'"
   ]
  },
  {
   "cell_type": "code",
   "execution_count": null,
   "id": "7bbd1e3d",
   "metadata": {},
   "outputs": [],
   "source": [
    "spotifytracks.loc[spotifytracks['Main Genre'] == 'Kaiso', 'Main Genre'] = 'Calypso'"
   ]
  },
  {
   "cell_type": "code",
   "execution_count": null,
   "id": "5f4507d1",
   "metadata": {},
   "outputs": [],
   "source": [
    "spotifytracks.loc[spotifytracks['Main Genre'] == 'Muse', 'Main Genre'] = 'Rock'"
   ]
  },
  {
   "cell_type": "code",
   "execution_count": null,
   "id": "ce141db7",
   "metadata": {},
   "outputs": [],
   "source": [
    "spotifytracks.loc[spotifytracks['Main Genre'] == 'K-Rap', 'Main Genre'] = 'K-Pop'"
   ]
  },
  {
   "cell_type": "code",
   "execution_count": null,
   "id": "728f24f0",
   "metadata": {},
   "outputs": [],
   "source": [
    "spotifytracks.loc[spotifytracks['Main Genre'] == 'Comedy', 'Main Genre'] = 'R&B'"
   ]
  },
  {
   "cell_type": "code",
   "execution_count": null,
   "id": "105ff562",
   "metadata": {},
   "outputs": [],
   "source": [
    "spotifytracks.loc[spotifytracks['Artist']=='Blink-183','Artist']='Blink-182'"
   ]
  },
  {
   "cell_type": "code",
   "execution_count": null,
   "id": "f2a7664b",
   "metadata": {},
   "outputs": [],
   "source": [
    "spotifytracks['Main Genre'].value_counts()"
   ]
  },
  {
   "cell_type": "code",
   "execution_count": null,
   "id": "e381d590",
   "metadata": {},
   "outputs": [],
   "source": [
    "top_5_genres=spotifytracks['Main Genre'].value_counts().sort_values(ascending=False)"
   ]
  },
  {
   "cell_type": "code",
   "execution_count": null,
   "id": "4309afbd",
   "metadata": {},
   "outputs": [],
   "source": [
    "top_5_genres=top_5_genres.to_frame().reset_index()"
   ]
  },
  {
   "cell_type": "code",
   "execution_count": null,
   "id": "7612d9c0",
   "metadata": {},
   "outputs": [],
   "source": [
    "top_5_genres = top_5_genres.rename(columns={'index': 'Genre', 'Main Genre': 'Count'}).head(5)"
   ]
  },
  {
   "cell_type": "code",
   "execution_count": null,
   "id": "3bebdf6f",
   "metadata": {},
   "outputs": [],
   "source": [
    "top_5_genres"
   ]
  },
  {
   "cell_type": "code",
   "execution_count": null,
   "id": "8fad335f",
   "metadata": {
    "scrolled": false
   },
   "outputs": [],
   "source": [
    "plt.bar(x='Genre',height='Count',data=top_5_genres)\n",
    "plt.xlabel('Genre')\n",
    "plt.ylabel('Count')\n",
    "plt.title('Top 5 Genres');\n",
    "### Pop seems to be the most prevalent genre in terms of count"
   ]
  },
  {
   "cell_type": "markdown",
   "id": "3c89a142",
   "metadata": {},
   "source": [
    "## Most energetic genres on average"
   ]
  },
  {
   "cell_type": "code",
   "execution_count": null,
   "id": "678d7287",
   "metadata": {
    "scrolled": true
   },
   "outputs": [],
   "source": [
    "top_energy= spotifytracks.groupby('Main Genre')['Energy'].mean()"
   ]
  },
  {
   "cell_type": "code",
   "execution_count": null,
   "id": "ab17c1c7",
   "metadata": {},
   "outputs": [],
   "source": [
    "top_energy = top_energy.sort_values(ascending=False)"
   ]
  },
  {
   "cell_type": "code",
   "execution_count": null,
   "id": "0660f90b",
   "metadata": {},
   "outputs": [],
   "source": [
    "top_energy=top_energy.to_frame().reset_index()"
   ]
  },
  {
   "cell_type": "code",
   "execution_count": null,
   "id": "68ad8ce1",
   "metadata": {},
   "outputs": [],
   "source": [
    "top_energy"
   ]
  },
  {
   "cell_type": "code",
   "execution_count": null,
   "id": "a11fac3f",
   "metadata": {
    "scrolled": false
   },
   "outputs": [],
   "source": [
    "plt.figure(figsize=(14, 6))\n",
    "plt.bar(top_energy['Main Genre'], top_energy['Energy'])\n",
    "plt.xlabel('Genre')\n",
    "plt.ylabel('Energy Level')\n",
    "plt.title('Genres Average Energy Levels')\n",
    "plt.xticks(rotation=45)\n",
    "plt.tight_layout();"
   ]
  },
  {
   "cell_type": "markdown",
   "id": "58c0000c",
   "metadata": {},
   "source": [
    "## Avearge valence score per decade"
   ]
  },
  {
   "cell_type": "code",
   "execution_count": null,
   "id": "e97ee056",
   "metadata": {},
   "outputs": [],
   "source": [
    "average_valence=spotifytracks[['Year','Valence']]"
   ]
  },
  {
   "cell_type": "code",
   "execution_count": null,
   "id": "a9745891",
   "metadata": {},
   "outputs": [],
   "source": [
    "average_valence=average_valence.groupby(by='Year')['Valence'].mean()"
   ]
  },
  {
   "cell_type": "code",
   "execution_count": null,
   "id": "c2c13c10",
   "metadata": {},
   "outputs": [],
   "source": [
    "average_valence=average_valence.to_frame().reset_index()"
   ]
  },
  {
   "cell_type": "code",
   "execution_count": null,
   "id": "30d2f590",
   "metadata": {},
   "outputs": [],
   "source": [
    "average_valence"
   ]
  },
  {
   "cell_type": "code",
   "execution_count": null,
   "id": "02f9b5f6",
   "metadata": {
    "scrolled": false
   },
   "outputs": [],
   "source": [
    "plt.plot('Year','Valence',data=average_valence)\n",
    "plt.xlabel('Decade')\n",
    "plt.ylabel('Valence Score')\n",
    "plt.title ('Average Valence Score By Years Grouped');\n",
    "##Aside from the ocassional uptick, it appears the valence score has gone down per decade.\n",
    "##However overall valence has been above .6 for most decades."
   ]
  },
  {
   "cell_type": "code",
   "execution_count": null,
   "id": "5f97d899",
   "metadata": {},
   "outputs": [],
   "source": [
    "plt.plot('Year', 'Valence', data=average_valence)\n",
    "plt.scatter('Year', 'Valence', data=average_valence, color='red', label='Average Valence')\n",
    "plt.xlabel('Decade')\n",
    "plt.ylabel('Valence Score')\n",
    "plt.title('Average Valence Score By Years Grouped')\n",
    "plt.legend();"
   ]
  },
  {
   "cell_type": "code",
   "execution_count": null,
   "id": "5c61ab90",
   "metadata": {},
   "outputs": [],
   "source": [
    "valence_distribution=spotifytracks[['Decade','Valence']]"
   ]
  },
  {
   "cell_type": "code",
   "execution_count": null,
   "id": "5529d6da",
   "metadata": {},
   "outputs": [],
   "source": [
    "plt.figure(figsize=(12, 8))\n",
    "sns.boxplot(data=valence_distribution, x='Decade', y='Valence')\n",
    "plt.title('Distribution of Valence Scores across Decades')\n",
    "plt.xlabel('Decade')\n",
    "plt.ylabel('Valence Score')\n",
    "plt.show()\n",
    "## Per the distrubution, the 1950's and 1960's seem to be about equal, but the 1960's having\n",
    "## a slightly more positive valence score on average."
   ]
  },
  {
   "cell_type": "markdown",
   "id": "c8f72faf",
   "metadata": {},
   "source": [
    "## Genres in each decade"
   ]
  },
  {
   "cell_type": "code",
   "execution_count": null,
   "id": "0d00fc03",
   "metadata": {},
   "outputs": [],
   "source": [
    "genre_decades = spotifytracks.groupby(['Decade', 'Main Genre']).size().to_frame().reset_index()"
   ]
  },
  {
   "cell_type": "code",
   "execution_count": null,
   "id": "f68da37e",
   "metadata": {},
   "outputs": [],
   "source": [
    "genre_decades\n",
    "genre_decades=genre_decades.rename(columns={'Decade':'Decade','Main Genre': 'Genre',0:'Count'})"
   ]
  },
  {
   "cell_type": "code",
   "execution_count": null,
   "id": "3bd6191a",
   "metadata": {
    "scrolled": true
   },
   "outputs": [],
   "source": [
    "genre_decades"
   ]
  },
  {
   "cell_type": "code",
   "execution_count": null,
   "id": "1d58eacf",
   "metadata": {},
   "outputs": [],
   "source": [
    "genre_decades=genre_decades.groupby('Decade', group_keys=False).apply(lambda x: x.nlargest(3, 'Count'))"
   ]
  },
  {
   "cell_type": "code",
   "execution_count": null,
   "id": "456ae262",
   "metadata": {},
   "outputs": [],
   "source": [
    "chosen_palette = sns.color_palette(\"hls\",8)"
   ]
  },
  {
   "cell_type": "code",
   "execution_count": null,
   "id": "dd07fc75",
   "metadata": {
    "scrolled": true
   },
   "outputs": [],
   "source": [
    "plt.figure(figsize=(12, 6))\n",
    "sns.barplot(data=genre_decades, x='Decade', y='Count', hue='Genre', dodge=True, palette=chosen_palette)\n",
    "plt.title('Top 3 Genres Per Decade')\n",
    "plt.xlabel('Decade')\n",
    "plt.ylabel('Genre Count')\n",
    "plt.legend(title='Genre')\n",
    "plt.show()\n",
    "##Pop was on the rise in all decades (starting in the 1960's) except the decrease in the 2020's (so far)"
   ]
  },
  {
   "cell_type": "markdown",
   "id": "bb4e470c",
   "metadata": {},
   "source": [
    "## Coorelations"
   ]
  },
  {
   "cell_type": "code",
   "execution_count": null,
   "id": "47a718e1",
   "metadata": {},
   "outputs": [],
   "source": [
    "spotifycorr=spotifytracks.corr()"
   ]
  },
  {
   "cell_type": "code",
   "execution_count": null,
   "id": "52e96e23",
   "metadata": {
    "scrolled": true
   },
   "outputs": [],
   "source": [
    "spotifycorr\n",
    "## There appears to be some slight correlation between Valence and danceability,energy."
   ]
  },
  {
   "cell_type": "code",
   "execution_count": null,
   "id": "cfc4e5de",
   "metadata": {},
   "outputs": [],
   "source": [
    "correlation_energy = spotifytracks['Valence'].corr(spotifytracks['Energy'])"
   ]
  },
  {
   "cell_type": "code",
   "execution_count": null,
   "id": "8b8a86ed",
   "metadata": {
    "scrolled": false
   },
   "outputs": [],
   "source": [
    "plt.figure(figsize=(10, 6))\n",
    "sns.scatterplot(data=spotifytracks, x='Valence', y='Energy',hue='Energy',alpha=0.65)\n",
    "plt.title('Valence vs. Energy')\n",
    "plt.xlabel('Valence Score')\n",
    "plt.ylabel('Energy')\n",
    "plt.text(0.8, 1.06, f'Correlation : {correlation_energy:.2f}');"
   ]
  },
  {
   "cell_type": "code",
   "execution_count": null,
   "id": "f06d5d06",
   "metadata": {},
   "outputs": [],
   "source": [
    "correlation_danceability = spotifytracks['Valence'].corr(spotifytracks['Danceability'])"
   ]
  },
  {
   "cell_type": "code",
   "execution_count": null,
   "id": "69a669ad",
   "metadata": {
    "scrolled": false
   },
   "outputs": [],
   "source": [
    "plt.figure(figsize=(10, 6))\n",
    "sns.scatterplot(data=spotifytracks, x='Valence', y='Danceability',hue='Danceability',alpha=0.7)\n",
    "plt.title('Valence vs. Danceability')\n",
    "plt.xlabel('Valence Score')\n",
    "plt.ylabel('Danceability')\n",
    "plt.text(0.8, 1.04, f'Correlation = {correlation_danceability:.2f}');"
   ]
  },
  {
   "cell_type": "markdown",
   "id": "65cfb89d",
   "metadata": {},
   "source": [
    "## Average song length per decade"
   ]
  },
  {
   "cell_type": "code",
   "execution_count": null,
   "id": "5cddf391",
   "metadata": {},
   "outputs": [],
   "source": [
    "average_duration=spotifytracks[['Year','Duration(mins)']]"
   ]
  },
  {
   "cell_type": "code",
   "execution_count": null,
   "id": "df6c9777",
   "metadata": {},
   "outputs": [],
   "source": [
    "average_duration=average_duration.groupby('Year')['Duration(mins)'].mean().to_frame().reset_index()"
   ]
  },
  {
   "cell_type": "code",
   "execution_count": null,
   "id": "b4ec94ac",
   "metadata": {},
   "outputs": [],
   "source": [
    "average_duration"
   ]
  },
  {
   "cell_type": "code",
   "execution_count": null,
   "id": "c2fe9e7b",
   "metadata": {
    "scrolled": false
   },
   "outputs": [],
   "source": [
    "plt.figure(figsize=(10, 6))\n",
    "plt.plot(average_duration['Year'], average_duration['Duration(mins)'])\n",
    "plt.xlabel('Decade')\n",
    "plt.ylabel('Duration (mins)')\n",
    "plt.title('Average Song Duration Per Decade')\n",
    "plt.xticks(rotation=45)\n",
    "plt.tight_layout();\n",
    "## Song duration has gone up in the top hits through the decades.\n",
    "## The average length of a song appears to be around three minutes in the 1950's vs. \n",
    "## the current decade over three minutes. While the correlation above does not show any\n",
    "## relationship between valence and duration, if the 50's are indeed the most positive decade\n",
    "## then one could argue that shorter songs were a contributing factors."
   ]
  },
  {
   "cell_type": "code",
   "execution_count": null,
   "id": "26a6d715",
   "metadata": {},
   "outputs": [],
   "source": [
    "spotifytracks['Valence'].mean()\n",
    "#Overall the average valance score seems to be pretty positive"
   ]
  },
  {
   "cell_type": "code",
   "execution_count": null,
   "id": "2af324fd",
   "metadata": {},
   "outputs": [],
   "source": [
    "valence2=spotifytracks[['Decade','Valence']]"
   ]
  },
  {
   "cell_type": "code",
   "execution_count": null,
   "id": "b3f7bda2",
   "metadata": {},
   "outputs": [],
   "source": [
    "valence2=valence2.groupby(by='Decade')['Valence'].mean().to_frame().reset_index()"
   ]
  },
  {
   "cell_type": "code",
   "execution_count": null,
   "id": "0ea77e5f",
   "metadata": {},
   "outputs": [],
   "source": [
    "valence2"
   ]
  },
  {
   "cell_type": "code",
   "execution_count": null,
   "id": "a44d9e7b",
   "metadata": {
    "scrolled": false
   },
   "outputs": [],
   "source": [
    "plt.figure(figsize=(10, 6))\n",
    "plt.plot(valence2['Decade'], valence2['Valence'])\n",
    "plt.xlabel('Decade')\n",
    "plt.ylabel('Valence')\n",
    "plt.title('Average Valence Per Decade')\n",
    "plt.xticks(rotation=45)\n",
    "plt.tight_layout();\n",
    "##This graph further confirms the 1960's being the most positive based on valence."
   ]
  },
  {
   "cell_type": "markdown",
   "id": "579a1954",
   "metadata": {},
   "source": [
    "## To more easily categorize the valence scores, we will round the values provided."
   ]
  },
  {
   "cell_type": "code",
   "execution_count": null,
   "id": "45076a42",
   "metadata": {},
   "outputs": [],
   "source": [
    "##Rounding valence score to two decimal points to categorize\n",
    "spotifytracks['Valence']=round(spotifytracks['Valence'],2)"
   ]
  },
  {
   "cell_type": "code",
   "execution_count": null,
   "id": "c393146a",
   "metadata": {},
   "outputs": [],
   "source": [
    "spotifytracks.head(5)"
   ]
  },
  {
   "cell_type": "markdown",
   "id": "b05afcc5",
   "metadata": {},
   "source": [
    "## Categorizing valence scores"
   ]
  },
  {
   "cell_type": "code",
   "execution_count": null,
   "id": "8e99ab37",
   "metadata": {},
   "outputs": [],
   "source": [
    "## Loop function to categorize valence scores\n",
    "def positive_category(valence):\n",
    "     if 0.50 <= valence <= 1.0:\n",
    "        return \"Positive\"\n",
    "     if 0.35 <= valence <= 0.499:\n",
    "        return \"Neutral\"\n",
    "     if 0.0 <= valence <= 0.49:\n",
    "        return \"Negative\"\n",
    "     else:\n",
    "        return \"Other\""
   ]
  },
  {
   "cell_type": "code",
   "execution_count": null,
   "id": "cd497bef",
   "metadata": {},
   "outputs": [],
   "source": [
    "spotifytracks['Emotion Category'] = spotifytracks['Valence'].apply(positive_category)"
   ]
  },
  {
   "cell_type": "code",
   "execution_count": null,
   "id": "7b1f806b",
   "metadata": {},
   "outputs": [],
   "source": [
    "spotifytracks"
   ]
  },
  {
   "cell_type": "code",
   "execution_count": null,
   "id": "b0e97197",
   "metadata": {},
   "outputs": [],
   "source": [
    "valence_categories=spotifytracks['Emotion Category'].value_counts().to_frame().reset_index()"
   ]
  },
  {
   "cell_type": "code",
   "execution_count": null,
   "id": "83bc9fde",
   "metadata": {},
   "outputs": [],
   "source": [
    "valence_categories=valence_categories.rename(columns={'index':'Emotion Category','Emotion Category':'Count'})"
   ]
  },
  {
   "cell_type": "code",
   "execution_count": null,
   "id": "32c69467",
   "metadata": {
    "scrolled": false
   },
   "outputs": [],
   "source": [
    "plt.figure(figsize=(12, 8))\n",
    "plt.bar(valence_categories['Emotion Category'],valence_categories['Count'])\n",
    "plt.xlabel('Emotion Category')\n",
    "plt.ylabel('Count')\n",
    "plt.title('Overall Emotion Cateogries')\n",
    "plt.xticks(rotation=45)\n",
    "plt.tight_layout();\n",
    "##As previously mentioned, most songs fall into happy/joyous category."
   ]
  },
  {
   "cell_type": "markdown",
   "id": "d6c1d11c",
   "metadata": {},
   "source": [
    "## Now that we see the average valence per decade and have categorized the valence scores, we will now find the highest valence score decade."
   ]
  },
  {
   "cell_type": "code",
   "execution_count": null,
   "id": "0fa95f3b",
   "metadata": {},
   "outputs": [],
   "source": [
    "valence_decade = spotifytracks.groupby('Decade')['Valence'].mean()"
   ]
  },
  {
   "cell_type": "code",
   "execution_count": null,
   "id": "b856bc49",
   "metadata": {},
   "outputs": [],
   "source": [
    "highest_valence_decade = valence_decade.idxmax()\n",
    "highest_valence_score = round(valence_decade.max(),3)"
   ]
  },
  {
   "cell_type": "code",
   "execution_count": null,
   "id": "05c1d0e9",
   "metadata": {
    "scrolled": true
   },
   "outputs": [],
   "source": [
    "print('highest valence decade is the',highest_valence_decade)\n",
    "print('highest valence score on average is', highest_valence_score)"
   ]
  },
  {
   "cell_type": "code",
   "execution_count": null,
   "id": "298323eb",
   "metadata": {},
   "outputs": [],
   "source": [
    "##Graphing it one more time for visual\n",
    "new_valence=spotifytracks[['Decade','Valence']]\n",
    "new_valence=new_valence.groupby(by='Decade')['Valence'].mean()"
   ]
  },
  {
   "cell_type": "code",
   "execution_count": null,
   "id": "501acd37",
   "metadata": {},
   "outputs": [],
   "source": [
    "new_valence=new_valence.to_frame().reset_index()"
   ]
  },
  {
   "cell_type": "code",
   "execution_count": null,
   "id": "76040a81",
   "metadata": {},
   "outputs": [],
   "source": [
    "new_valence"
   ]
  },
  {
   "cell_type": "code",
   "execution_count": null,
   "id": "42046462",
   "metadata": {
    "scrolled": false
   },
   "outputs": [],
   "source": [
    "plt.figure(figsize=(10, 6))\n",
    "plt.plot(new_valence['Decade'], new_valence['Valence'])\n",
    "plt.xlabel('Decade')\n",
    "plt.ylabel('Valence')\n",
    "plt.title('Average Valence Per Decade')\n",
    "plt.xticks(rotation=45)\n",
    "plt.tight_layout();\n",
    "#Still showing the same after rounding the valence scores."
   ]
  },
  {
   "cell_type": "markdown",
   "id": "1d6fd060",
   "metadata": {},
   "source": [
    "## Finding the top tracks for the 1960's"
   ]
  },
  {
   "cell_type": "code",
   "execution_count": null,
   "id": "03e9e3a9",
   "metadata": {},
   "outputs": [],
   "source": [
    "sixties=spotifytracks.loc[spotifytracks['Decade']==\"1960's\"]"
   ]
  },
  {
   "cell_type": "code",
   "execution_count": null,
   "id": "6162c0c3",
   "metadata": {},
   "outputs": [],
   "source": [
    "sixties.head()"
   ]
  },
  {
   "cell_type": "code",
   "execution_count": null,
   "id": "c111e38d",
   "metadata": {},
   "outputs": [],
   "source": [
    "max_valence_in_sixties = sixties['Valence'].max()"
   ]
  },
  {
   "cell_type": "code",
   "execution_count": null,
   "id": "2563f9f0",
   "metadata": {},
   "outputs": [],
   "source": [
    "print(\"the highest valence scores in the 1960's was\",max_valence_in_sixties)"
   ]
  },
  {
   "cell_type": "code",
   "execution_count": null,
   "id": "51425573",
   "metadata": {},
   "outputs": [],
   "source": [
    "most_positive_song_sixties=sixties.loc[sixties['Valence']==0.986]\n",
    "most_positive_track= most_positive_song_sixties['Title'].iloc[0]\n",
    "artist = most_positive_song_sixties['Artist'].iloc[0]\n",
    "genre = most_positive_song_sixties['Main Genre'].iloc[0]"
   ]
  },
  {
   "cell_type": "code",
   "execution_count": null,
   "id": "a9558aca",
   "metadata": {},
   "outputs": [],
   "source": [
    "print(\"the most positive song in the 1960's was\",most_positive_track)\n",
    "print('by',artist )\n",
    "print('Genre:',genre)"
   ]
  },
  {
   "cell_type": "markdown",
   "id": "6c075a7b",
   "metadata": {},
   "source": [
    "## Looking at genre trends throughout the decades. The Top 5 for each decade."
   ]
  },
  {
   "cell_type": "code",
   "execution_count": null,
   "id": "37b31993",
   "metadata": {},
   "outputs": [],
   "source": [
    "fifties=spotifytracks.loc[spotifytracks['Decade']==\"1950's\"]"
   ]
  },
  {
   "cell_type": "code",
   "execution_count": null,
   "id": "b5d9dd2e",
   "metadata": {},
   "outputs": [],
   "source": [
    "genre_counts50s = fifties['Main Genre'].value_counts().reset_index()\n",
    "genre_counts50s.columns = ['Main Genre', 'Count']"
   ]
  },
  {
   "cell_type": "code",
   "execution_count": null,
   "id": "861c70b0",
   "metadata": {},
   "outputs": [],
   "source": [
    "top_genres50s = genre_counts50s.nlargest(5, 'Count')"
   ]
  },
  {
   "cell_type": "code",
   "execution_count": null,
   "id": "92872d5e",
   "metadata": {},
   "outputs": [],
   "source": [
    "print(top_genres50s)"
   ]
  },
  {
   "cell_type": "code",
   "execution_count": null,
   "id": "64d89586",
   "metadata": {
    "scrolled": false
   },
   "outputs": [],
   "source": [
    "plt.figure(figsize=(10, 6))\n",
    "plt.bar(top_genres50s['Main Genre'], top_genres50s['Count'], color='lightblue')\n",
    "plt.xlabel('Genres')\n",
    "plt.ylabel('Average Valence Score')\n",
    "plt.title('Top Five Genres in the 1950s')\n",
    "plt.xticks(rotation=45)\n",
    "plt.tight_layout()\n",
    "plt.show()"
   ]
  },
  {
   "cell_type": "code",
   "execution_count": null,
   "id": "88633d2b",
   "metadata": {},
   "outputs": [],
   "source": [
    "sixties=spotifytracks.loc[spotifytracks['Decade']==\"1960's\"]"
   ]
  },
  {
   "cell_type": "code",
   "execution_count": null,
   "id": "e4e024ef",
   "metadata": {},
   "outputs": [],
   "source": [
    "genre_counts60s = sixties['Main Genre'].value_counts().reset_index()\n",
    "genre_counts60s.columns = ['Main Genre', 'Count']"
   ]
  },
  {
   "cell_type": "code",
   "execution_count": null,
   "id": "491f09a9",
   "metadata": {},
   "outputs": [],
   "source": [
    "top_genres60s = genre_counts60s.nlargest(5, 'Count')"
   ]
  },
  {
   "cell_type": "code",
   "execution_count": null,
   "id": "656efbd1",
   "metadata": {},
   "outputs": [],
   "source": [
    "print(top_genres60s)"
   ]
  },
  {
   "cell_type": "code",
   "execution_count": null,
   "id": "6a4350bb",
   "metadata": {
    "scrolled": false
   },
   "outputs": [],
   "source": [
    "plt.figure(figsize=(10, 6))\n",
    "plt.bar(top_genres60s['Main Genre'], top_genres60s['Count'], color='lightblue')\n",
    "plt.xlabel('Genres')\n",
    "plt.ylabel('Average Valence Score')\n",
    "plt.title('Top Five Genres in the 1960s')\n",
    "plt.xticks(rotation=45)\n",
    "plt.ylim(0,250)\n",
    "plt.tight_layout()\n",
    "plt.show()"
   ]
  },
  {
   "cell_type": "code",
   "execution_count": null,
   "id": "a8f0b4f3",
   "metadata": {},
   "outputs": [],
   "source": [
    "seventies=spotifytracks.loc[spotifytracks['Decade']==\"1970's\"]"
   ]
  },
  {
   "cell_type": "code",
   "execution_count": null,
   "id": "c766da46",
   "metadata": {},
   "outputs": [],
   "source": [
    "genre_counts70s = seventies['Main Genre'].value_counts().reset_index()\n",
    "genre_counts70s.columns = ['Main Genre', 'Count']"
   ]
  },
  {
   "cell_type": "code",
   "execution_count": null,
   "id": "51ee00c9",
   "metadata": {},
   "outputs": [],
   "source": [
    "top_genres70s = genre_counts70s.nlargest(5, 'Count')"
   ]
  },
  {
   "cell_type": "code",
   "execution_count": null,
   "id": "6ddb7749",
   "metadata": {},
   "outputs": [],
   "source": [
    "print(top_genres70s)"
   ]
  },
  {
   "cell_type": "code",
   "execution_count": null,
   "id": "8ee5a0b0",
   "metadata": {
    "scrolled": false
   },
   "outputs": [],
   "source": [
    "plt.figure(figsize=(10, 6))\n",
    "plt.bar(top_genres70s['Main Genre'], top_genres70s['Count'], color='lightblue')\n",
    "plt.xlabel('Genres')\n",
    "plt.ylabel('Average Valence Score')\n",
    "plt.title('Top Five Genres in the 1970s')\n",
    "plt.xticks(rotation=45)\n",
    "plt.ylim(0,400)\n",
    "plt.tight_layout()\n",
    "plt.show()"
   ]
  },
  {
   "cell_type": "code",
   "execution_count": null,
   "id": "fc0ab383",
   "metadata": {},
   "outputs": [],
   "source": [
    "eighties=spotifytracks.loc[spotifytracks['Decade']==\"1980's\"]"
   ]
  },
  {
   "cell_type": "code",
   "execution_count": null,
   "id": "570a9d46",
   "metadata": {},
   "outputs": [],
   "source": [
    "genre_counts80s = eighties['Main Genre'].value_counts().reset_index()\n",
    "genre_counts80s.columns = ['Main Genre', 'Count']"
   ]
  },
  {
   "cell_type": "code",
   "execution_count": null,
   "id": "3c6dd8b6",
   "metadata": {},
   "outputs": [],
   "source": [
    "top_genres80s = genre_counts80s.nlargest(5, 'Count')"
   ]
  },
  {
   "cell_type": "code",
   "execution_count": null,
   "id": "09bafa9c",
   "metadata": {},
   "outputs": [],
   "source": [
    "print(top_genres80s)"
   ]
  },
  {
   "cell_type": "code",
   "execution_count": null,
   "id": "3695e8e7",
   "metadata": {},
   "outputs": [],
   "source": [
    "plt.figure(figsize=(10, 6))\n",
    "plt.bar(top_genres80s['Main Genre'], top_genres80s['Count'], color='lightblue')\n",
    "plt.xlabel('Genres')\n",
    "plt.ylabel('Average Valence Score')\n",
    "plt.title('Top Five Genres in the 1980s')\n",
    "plt.xticks(rotation=45)\n",
    "plt.ylim(0,450)\n",
    "plt.tight_layout()\n",
    "plt.show\n",
    "#Starting to see a trend here."
   ]
  },
  {
   "cell_type": "code",
   "execution_count": null,
   "id": "783018c7",
   "metadata": {},
   "outputs": [],
   "source": [
    "nineties=spotifytracks.loc[spotifytracks['Decade']==\"1990's\"]"
   ]
  },
  {
   "cell_type": "code",
   "execution_count": null,
   "id": "e3578949",
   "metadata": {},
   "outputs": [],
   "source": [
    "genre_counts90s = nineties['Main Genre'].value_counts().reset_index()\n",
    "genre_counts90s.columns = ['Main Genre', 'Count']"
   ]
  },
  {
   "cell_type": "code",
   "execution_count": null,
   "id": "34c2595a",
   "metadata": {},
   "outputs": [],
   "source": [
    "top_genres90s = genre_counts90s.nlargest(5, 'Count')"
   ]
  },
  {
   "cell_type": "code",
   "execution_count": null,
   "id": "a0d7bd76",
   "metadata": {},
   "outputs": [],
   "source": [
    "print(top_genres90s)"
   ]
  },
  {
   "cell_type": "code",
   "execution_count": null,
   "id": "2370d0b3",
   "metadata": {
    "scrolled": false
   },
   "outputs": [],
   "source": [
    "plt.figure(figsize=(10, 6))\n",
    "plt.bar(top_genres90s['Main Genre'], top_genres90s['Count'], color='lightblue')\n",
    "plt.xlabel('Genres')\n",
    "plt.ylabel('Average Valence Score')\n",
    "plt.title('Top Five Genres in the 1990s')\n",
    "plt.xticks(rotation=45)\n",
    "plt.ylim(0,350)\n",
    "plt.tight_layout()\n",
    "plt.show()"
   ]
  },
  {
   "cell_type": "code",
   "execution_count": null,
   "id": "25783f27",
   "metadata": {},
   "outputs": [],
   "source": [
    "thousands=spotifytracks.loc[spotifytracks['Decade']==\"2000's\"]"
   ]
  },
  {
   "cell_type": "code",
   "execution_count": null,
   "id": "efe4b065",
   "metadata": {},
   "outputs": [],
   "source": [
    "genre_counts00s = thousands['Main Genre'].value_counts().reset_index()\n",
    "genre_counts00s.columns = ['Main Genre', 'Count']"
   ]
  },
  {
   "cell_type": "code",
   "execution_count": null,
   "id": "9de6389c",
   "metadata": {},
   "outputs": [],
   "source": [
    "top_genres00s = genre_counts00s.nlargest(5, 'Count')"
   ]
  },
  {
   "cell_type": "code",
   "execution_count": null,
   "id": "5b28c75c",
   "metadata": {},
   "outputs": [],
   "source": [
    "print(top_genres00s)"
   ]
  },
  {
   "cell_type": "code",
   "execution_count": null,
   "id": "23f4ae89",
   "metadata": {},
   "outputs": [],
   "source": [
    "plt.figure(figsize=(10, 6))\n",
    "plt.bar(top_genres00s['Main Genre'], top_genres00s['Count'], color='lightblue')\n",
    "plt.xlabel('Genres')\n",
    "plt.ylabel('Average Valence Score')\n",
    "plt.title('Top Five Genres in the 2000s')\n",
    "plt.xticks(rotation=45)\n",
    "plt.ylim(0,)\n",
    "plt.tight_layout()\n",
    "plt.show()"
   ]
  },
  {
   "cell_type": "code",
   "execution_count": null,
   "id": "c642206e",
   "metadata": {},
   "outputs": [],
   "source": [
    "the10s=spotifytracks.loc[spotifytracks['Decade']==\"2010's\"]"
   ]
  },
  {
   "cell_type": "code",
   "execution_count": null,
   "id": "44649f99",
   "metadata": {},
   "outputs": [],
   "source": [
    "genre_counts10s = the10s['Main Genre'].value_counts().reset_index()\n",
    "genre_counts10s.columns = ['Main Genre', 'Count']"
   ]
  },
  {
   "cell_type": "code",
   "execution_count": null,
   "id": "3bfd3190",
   "metadata": {},
   "outputs": [],
   "source": [
    "top_genres10s = genre_counts10s.nlargest(5, 'Count')"
   ]
  },
  {
   "cell_type": "code",
   "execution_count": null,
   "id": "14c14f2b",
   "metadata": {},
   "outputs": [],
   "source": [
    "print(top_genres10s)"
   ]
  },
  {
   "cell_type": "code",
   "execution_count": null,
   "id": "4cfb9ab1",
   "metadata": {},
   "outputs": [],
   "source": [
    "plt.figure(figsize=(10, 6))\n",
    "plt.bar(top_genres00s['Main Genre'], top_genres00s['Count'], color='lightblue')\n",
    "plt.xlabel('Genres')\n",
    "plt.ylabel('Average Valence Score')\n",
    "plt.title('Top Five Genres in the 2010s')\n",
    "plt.xticks(rotation=45)\n",
    "plt.ylim(0,)\n",
    "plt.tight_layout()\n",
    "plt.show()"
   ]
  },
  {
   "cell_type": "code",
   "execution_count": null,
   "id": "e6304cdc",
   "metadata": {},
   "outputs": [],
   "source": [
    "thetwenties=spotifytracks.loc[spotifytracks['Decade']==\"2020's\"]"
   ]
  },
  {
   "cell_type": "code",
   "execution_count": null,
   "id": "eaa46e64",
   "metadata": {},
   "outputs": [],
   "source": [
    "genre_counts20s = thetwenties['Main Genre'].value_counts().reset_index()\n",
    "genre_counts20s.columns = ['Main Genre', 'Count']"
   ]
  },
  {
   "cell_type": "code",
   "execution_count": null,
   "id": "ed7574f5",
   "metadata": {},
   "outputs": [],
   "source": [
    "top_genres20s = genre_counts20s.nlargest(5, 'Count')"
   ]
  },
  {
   "cell_type": "code",
   "execution_count": null,
   "id": "e039862e",
   "metadata": {},
   "outputs": [],
   "source": [
    "print(top_genres20s)"
   ]
  },
  {
   "cell_type": "code",
   "execution_count": null,
   "id": "7a2c4daf",
   "metadata": {
    "scrolled": false
   },
   "outputs": [],
   "source": [
    "plt.figure(figsize=(10, 6))\n",
    "plt.bar(top_genres20s['Main Genre'], top_genres20s['Count'], color='lightblue')\n",
    "plt.xlabel('Genres')\n",
    "plt.ylabel('Average Valence Score')\n",
    "plt.title('Top Five Genres in the 2020s (so far)')\n",
    "plt.xticks(rotation=45)\n",
    "plt.ylim(0,)\n",
    "plt.tight_layout()\n",
    "plt.show()"
   ]
  },
  {
   "cell_type": "markdown",
   "id": "e61cb537",
   "metadata": {},
   "source": [
    "## Lets take a look at lyrics through a sentiment analysis."
   ]
  },
  {
   "cell_type": "code",
   "execution_count": null,
   "id": "a0213a0e",
   "metadata": {},
   "outputs": [],
   "source": [
    "##read in the lyrics dataframe.\n",
    "lyrics=pd.read_csv('../data/lyricsspot.csv',nrows=6361)"
   ]
  },
  {
   "cell_type": "code",
   "execution_count": null,
   "id": "c7ee124d",
   "metadata": {
    "scrolled": true
   },
   "outputs": [],
   "source": [
    "lyrics"
   ]
  },
  {
   "cell_type": "code",
   "execution_count": null,
   "id": "99dfa7f9",
   "metadata": {},
   "outputs": [],
   "source": [
    "##Drop columns not needed for the merge.\n",
    "lyrics=lyrics.drop(columns=['Unnamed: 0','Title','Artist','Album','Popularity','Play Count','Acousticness','Danceability','Loudness','Valence','Energy','Liveness','Tempo','Explicit','Instrumentalness','Duration (ms)','Genres','Sub_Genre','Main Genre','Release Year'])"
   ]
  },
  {
   "cell_type": "code",
   "execution_count": null,
   "id": "947ce95c",
   "metadata": {},
   "outputs": [],
   "source": [
    "##About 60 were unable to be found fo lyrics. Will drop these from the final results.\n",
    "lyrics.loc[lyrics['Lyrics']== 'Lyrics not found']"
   ]
  },
  {
   "cell_type": "code",
   "execution_count": null,
   "id": "9b57fa22",
   "metadata": {},
   "outputs": [],
   "source": [
    "spotifymerge=pd.merge(spotifytracks,lyrics, on='Track URL')"
   ]
  },
  {
   "cell_type": "code",
   "execution_count": null,
   "id": "b31d6c7c",
   "metadata": {},
   "outputs": [],
   "source": [
    "spotifymerge"
   ]
  },
  {
   "cell_type": "code",
   "execution_count": null,
   "id": "793f825c",
   "metadata": {},
   "outputs": [],
   "source": [
    "spotifymerge=spotifymerge[spotifymerge[\"Lyrics\"].str.contains(\"Lyrics not found\") == False]"
   ]
  },
  {
   "cell_type": "code",
   "execution_count": null,
   "id": "92f2a6cc",
   "metadata": {},
   "outputs": [],
   "source": [
    "spotifymerge"
   ]
  },
  {
   "cell_type": "code",
   "execution_count": null,
   "id": "de51e0ba",
   "metadata": {},
   "outputs": [],
   "source": [
    "import nltk\n",
    "from nltk.tokenize import word_tokenize\n",
    "from nltk.corpus import stopwords\n",
    "from nltk.stem import WordNetLemmatizer"
   ]
  },
  {
   "cell_type": "code",
   "execution_count": null,
   "id": "7775d94f",
   "metadata": {
    "scrolled": true
   },
   "outputs": [],
   "source": [
    "nltk.download(\"punkt\")\n",
    "nltk.download(\"stopwords\")\n",
    "nltk.download(\"wordnet\")"
   ]
  },
  {
   "cell_type": "code",
   "execution_count": null,
   "id": "d8608ee4",
   "metadata": {},
   "outputs": [],
   "source": [
    "import warnings\n",
    "from nltk.metrics import ConfusionMatrix"
   ]
  },
  {
   "cell_type": "code",
   "execution_count": null,
   "id": "9b464a7a",
   "metadata": {},
   "outputs": [],
   "source": [
    "def process_text(text):\n",
    "    text = text.lower()\n",
    "    tokens = word_tokenize(text)\n",
    "    tokens = [token for token in tokens if token.isalnum()]\n",
    "    tokens = [token for token in tokens if token not in stopwords.words(\"english\")]\n",
    "    \n",
    "    lemmatizer = WordNetLemmatizer()\n",
    "    tokens = [lemmatizer.lemmatize(token) for token in tokens]\n",
    "    \n",
    "    return \" \".join(tokens)"
   ]
  },
  {
   "cell_type": "code",
   "execution_count": null,
   "id": "438ea5c3",
   "metadata": {},
   "outputs": [],
   "source": [
    "spotifymerge[\"Processed_Lyrics\"] = spotifymerge[\"Lyrics\"].apply(process_text)"
   ]
  },
  {
   "cell_type": "code",
   "execution_count": null,
   "id": "452ebe97",
   "metadata": {},
   "outputs": [],
   "source": [
    "spotifymerge"
   ]
  },
  {
   "cell_type": "code",
   "execution_count": null,
   "id": "bd81dd79",
   "metadata": {},
   "outputs": [],
   "source": [
    "import textblob\n",
    "from textblob import TextBlob"
   ]
  },
  {
   "cell_type": "code",
   "execution_count": null,
   "id": "e7a5216c",
   "metadata": {},
   "outputs": [],
   "source": [
    "def get_sentiment(text):\n",
    "    blob = TextBlob(text)\n",
    "    sentiment = blob.sentiment\n",
    "    return sentiment.polarity"
   ]
  },
  {
   "cell_type": "code",
   "execution_count": null,
   "id": "da7675db",
   "metadata": {},
   "outputs": [],
   "source": [
    "spotifymerge[\"Sentiment_Score\"] = spotifymerge[\"Processed_Lyrics\"].apply(get_sentiment)"
   ]
  },
  {
   "cell_type": "code",
   "execution_count": null,
   "id": "fdb4d899",
   "metadata": {},
   "outputs": [],
   "source": [
    "spotifymerge"
   ]
  },
  {
   "cell_type": "code",
   "execution_count": null,
   "id": "40854002",
   "metadata": {},
   "outputs": [],
   "source": [
    "spotifynew=spotifymerge"
   ]
  },
  {
   "cell_type": "code",
   "execution_count": null,
   "id": "b9a28fe5",
   "metadata": {},
   "outputs": [],
   "source": [
    "spotifynew['Sentiment_Score']=spotifynew['Sentiment_Score'].round(2)"
   ]
  },
  {
   "cell_type": "code",
   "execution_count": null,
   "id": "c84455cb",
   "metadata": {},
   "outputs": [],
   "source": [
    "spotifynew\n",
    "## It looks like the vlanece and sentiment scores are odds with one another."
   ]
  },
  {
   "cell_type": "code",
   "execution_count": null,
   "id": "8b30d3ec",
   "metadata": {},
   "outputs": [],
   "source": [
    "def sentiment_category(valence):\n",
    "     if 0.50 <= valence <= 1.0:\n",
    "        return \"Positive\"\n",
    "     if -0.50 <= valence <= 0.49:\n",
    "        return \"Neutral\"\n",
    "     if -1.0 <= valence <= -0.49:\n",
    "        return \"Negative\""
   ]
  },
  {
   "cell_type": "code",
   "execution_count": null,
   "id": "db067bf4",
   "metadata": {},
   "outputs": [],
   "source": [
    "spotifymerge['Sentiment_Category'] = spotifymerge['Sentiment_Score'].apply(sentiment_category)"
   ]
  },
  {
   "cell_type": "code",
   "execution_count": null,
   "id": "826d861a",
   "metadata": {},
   "outputs": [],
   "source": [
    "spotifymerge.Sentiment_Category.value_counts()"
   ]
  },
  {
   "cell_type": "code",
   "execution_count": null,
   "id": "521997ce",
   "metadata": {},
   "outputs": [],
   "source": [
    "spotifytracks.to_csv('../data/spotifytracksclean.csv')"
   ]
  },
  {
   "cell_type": "code",
   "execution_count": null,
   "id": "c9b9d4a5",
   "metadata": {},
   "outputs": [],
   "source": [
    "spotifytracks['Emotion Category'].value_counts()"
   ]
  },
  {
   "cell_type": "code",
   "execution_count": null,
   "id": "b2bfb3b6",
   "metadata": {},
   "outputs": [],
   "source": [
    "#As spotify uses an advanced machine learning algorithm, we will trust the Spotify valence."
   ]
  },
  {
   "cell_type": "code",
   "execution_count": null,
   "id": "8c9569b7",
   "metadata": {},
   "outputs": [],
   "source": []
  }
 ],
 "metadata": {
  "kernelspec": {
   "display_name": "Python 3 (ipykernel)",
   "language": "python",
   "name": "python3"
  },
  "language_info": {
   "codemirror_mode": {
    "name": "ipython",
    "version": 3
   },
   "file_extension": ".py",
   "mimetype": "text/x-python",
   "name": "python",
   "nbconvert_exporter": "python",
   "pygments_lexer": "ipython3",
   "version": "3.10.9"
  }
 },
 "nbformat": 4,
 "nbformat_minor": 5
}

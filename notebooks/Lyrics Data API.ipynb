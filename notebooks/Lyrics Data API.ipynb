{
 "cells": [
  {
   "cell_type": "code",
   "execution_count": null,
   "id": "315e8354",
   "metadata": {},
   "outputs": [],
   "source": [
    "import pandas as pd\n",
    "import lyricsgenius"
   ]
  },
  {
   "cell_type": "code",
   "execution_count": null,
   "id": "50997c69",
   "metadata": {},
   "outputs": [],
   "source": [
    "token='XXXXXXXXXXXXXXXXXXXXXXXXXXXX'\n",
    "genius=lyricsgenius.Genius(token)"
   ]
  },
  {
   "cell_type": "code",
   "execution_count": null,
   "id": "1c63988c",
   "metadata": {},
   "outputs": [],
   "source": [
    "fifties=pd.read_csv('../data/merged_years/full_cleans/fifties.csv')"
   ]
  },
  {
   "cell_type": "code",
   "execution_count": null,
   "id": "4fe4fff4",
   "metadata": {},
   "outputs": [],
   "source": [
    "fifties.head(5)"
   ]
  },
  {
   "cell_type": "code",
   "execution_count": null,
   "id": "bc8cbf72",
   "metadata": {},
   "outputs": [],
   "source": [
    "genius = lyricsgenius.Genius(\"XXXXXXXXXXXXXXXXXXXXXXXXXXXXXXX\")\n",
    "# Function to fetch lyrics for a given title and artist\n",
    "def get_lyrics(title, artist):\n",
    "    try:\n",
    "        song = genius.search_song(title, artist)\n",
    "        if song:\n",
    "            return song.lyrics\n",
    "        else:\n",
    "            return \"Lyrics not found\"\n",
    "    except Exception as e:\n",
    "        return str(e)"
   ]
  },
  {
   "cell_type": "code",
   "execution_count": null,
   "id": "5792935d",
   "metadata": {},
   "outputs": [],
   "source": [
    "fifties['Lyrics'] = fifties.apply(lambda row: get_lyrics(row['Title'], row['Artist']), axis=1)"
   ]
  },
  {
   "cell_type": "code",
   "execution_count": null,
   "id": "44f4ce18",
   "metadata": {
    "scrolled": true
   },
   "outputs": [],
   "source": [
    "fifties"
   ]
  },
  {
   "cell_type": "code",
   "execution_count": null,
   "id": "1fa787ec",
   "metadata": {},
   "outputs": [],
   "source": [
    "lyrics_song1_artist1 = fifties.loc[fifties['Title'] == \"A Big Hunk O' Love\", 'Lyrics'].values[0]"
   ]
  },
  {
   "cell_type": "code",
   "execution_count": null,
   "id": "b71592a3",
   "metadata": {},
   "outputs": [],
   "source": [
    "lyrics_song1_artist1"
   ]
  },
  {
   "cell_type": "code",
   "execution_count": null,
   "id": "0df056e8",
   "metadata": {},
   "outputs": [],
   "source": []
  }
 ],
 "metadata": {
  "kernelspec": {
   "display_name": "Python 3 (ipykernel)",
   "language": "python",
   "name": "python3"
  },
  "language_info": {
   "codemirror_mode": {
    "name": "ipython",
    "version": 3
   },
   "file_extension": ".py",
   "mimetype": "text/x-python",
   "name": "python",
   "nbconvert_exporter": "python",
   "pygments_lexer": "ipython3",
   "version": "3.10.9"
  }
 },
 "nbformat": 4,
 "nbformat_minor": 5
}

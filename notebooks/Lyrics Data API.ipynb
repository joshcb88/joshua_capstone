{
 "cells": [
  {
   "cell_type": "code",
   "execution_count": 24,
   "id": "315e8354",
   "metadata": {},
   "outputs": [],
   "source": [
    "import pandas as pd\n",
    "import lyricsgenius\n",
    "import time"
   ]
  },
  {
   "cell_type": "code",
   "execution_count": 25,
   "id": "50997c69",
   "metadata": {},
   "outputs": [],
   "source": [
    "token='XXXXXXXXXXXXXXXXXXXXXXXXXXXXXXXXXXXXXXXXXXXXXXXXXXXXXXXXXX'\n",
    "genius=lyricsgenius.Genius(token)"
   ]
  },
  {
   "cell_type": "code",
   "execution_count": null,
   "id": "1c63988c",
   "metadata": {},
   "outputs": [],
   "source": [
    "lyricsspot=spotify=pd.read_csv('../data/lyricsfinal.csv',nrows=6361)"
   ]
  },
  {
   "cell_type": "code",
   "execution_count": null,
   "id": "9f6accd5",
   "metadata": {},
   "outputs": [],
   "source": [
    "lyricsspot=lyricsspot.drop(columns=['Unnamed: 0','Artist'])"
   ]
  },
  {
   "cell_type": "code",
   "execution_count": null,
   "id": "cc8677e2",
   "metadata": {},
   "outputs": [],
   "source": [
    "lyricsspot=lyricsspot.rename(columns={'Artist_Cleaned':'Artist'})"
   ]
  },
  {
   "cell_type": "code",
   "execution_count": null,
   "id": "4fe4fff4",
   "metadata": {
    "scrolled": true
   },
   "outputs": [],
   "source": [
    "lyricsspot"
   ]
  },
  {
   "cell_type": "code",
   "execution_count": null,
   "id": "bc8cbf72",
   "metadata": {},
   "outputs": [],
   "source": [
    "genius = lyricsgenius.Genius(\"XXXXXXXXXXXXXXXXXXXXXXXXXXXXXXXXXXXXXXXXXXXXXXXXXXXXXXX\")\n",
    "\n",
    "def get_lyrics(title, artist):\n",
    "    try:\n",
    "        song = genius.search_song(title, artist)\n",
    "        if song:\n",
    "            return song.lyrics\n",
    "        else:\n",
    "            return \"Lyrics not found\"\n",
    "    except Exception as e:\n",
    "        return str(e)"
   ]
  },
  {
   "cell_type": "code",
   "execution_count": null,
   "id": "5792935d",
   "metadata": {},
   "outputs": [],
   "source": [
    "lyricsspot['Lyrics'] = lyricsspot.apply(lambda row: get_lyrics(row['Title'], row['Artist']), axis=1)"
   ]
  },
  {
   "cell_type": "code",
   "execution_count": null,
   "id": "3a3a773e",
   "metadata": {},
   "outputs": [],
   "source": [
    "missing=lyricsspot.loc[lyricsspot['Lyrics']=='Lyrics not found']"
   ]
  },
  {
   "cell_type": "code",
   "execution_count": null,
   "id": "ccaba5ad",
   "metadata": {},
   "outputs": [],
   "source": [
    "missing"
   ]
  },
  {
   "cell_type": "code",
   "execution_count": null,
   "id": "7bc228ad",
   "metadata": {},
   "outputs": [],
   "source": [
    "lyricsspot.info()"
   ]
  },
  {
   "cell_type": "code",
   "execution_count": null,
   "id": "3924eede",
   "metadata": {},
   "outputs": [],
   "source": [
    "lyricsspot.to_csv('../data/lyricsspot.csv')"
   ]
  }
 ],
 "metadata": {
  "kernelspec": {
   "display_name": "Python 3 (ipykernel)",
   "language": "python",
   "name": "python3"
  },
  "language_info": {
   "codemirror_mode": {
    "name": "ipython",
    "version": 3
   },
   "file_extension": ".py",
   "mimetype": "text/x-python",
   "name": "python",
   "nbconvert_exporter": "python",
   "pygments_lexer": "ipython3",
   "version": "3.10.9"
  }
 },
 "nbformat": 4,
 "nbformat_minor": 5
}

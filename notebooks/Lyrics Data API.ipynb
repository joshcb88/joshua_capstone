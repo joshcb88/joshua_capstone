{
 "cells": [
  {
   "cell_type": "code",
   "execution_count": null,
   "id": "315e8354",
   "metadata": {},
   "outputs": [],
   "source": [
    "import pandas as pd\n",
    "import lyricsgenius"
   ]
  },
  {
   "cell_type": "code",
   "execution_count": null,
   "id": "50997c69",
   "metadata": {},
   "outputs": [],
   "source": [
    "token='X7060ykeiK35h67lExKVvIVmjpLDgx7L-bEAjgpunALCwi6hMiwts01WbE60dKmB'\n",
    "genius=lyricsgenius.Genius(token)"
   ]
  },
  {
   "cell_type": "code",
   "execution_count": null,
   "id": "1c63988c",
   "metadata": {},
   "outputs": [],
   "source": [
    "lyricsspot=spotify=pd.read_csv('../data/lyricsfinal.csv',nrows=6361)"
   ]
  },
  {
   "cell_type": "code",
   "execution_count": null,
   "id": "9f6accd5",
   "metadata": {},
   "outputs": [],
   "source": [
    "lyricsspot=lyricsspot.drop(columns=['Unnamed: 0','Artist'])"
   ]
  },
  {
   "cell_type": "code",
   "execution_count": null,
   "id": "cc8677e2",
   "metadata": {},
   "outputs": [],
   "source": [
    "lyricsspot=lyricsspot.rename(columns={'Artist_Cleaned':'Artist'})"
   ]
  },
  {
   "cell_type": "code",
   "execution_count": null,
   "id": "4fe4fff4",
   "metadata": {
    "scrolled": true
   },
   "outputs": [],
   "source": [
    "lyricsspot.head(5)"
   ]
  },
  {
   "cell_type": "code",
   "execution_count": null,
   "id": "bc8cbf72",
   "metadata": {},
   "outputs": [],
   "source": [
    "genius = lyricsgenius.Genius(\"X7060ykeiK35h67lExKVvIVmjpLDgx7L-bEAjgpunALCwi6hMiwts01WbE60dKmB\")\n",
    "\n",
    "def get_lyrics(title, artist):\n",
    "    try:\n",
    "        song = genius.search_song(title, artist)\n",
    "        if song:\n",
    "            return song.lyrics\n",
    "        else:\n",
    "            return \"Lyrics not found\"\n",
    "    except Exception as e:\n",
    "        return str(e)"
   ]
  },
  {
   "cell_type": "code",
   "execution_count": null,
   "id": "5792935d",
   "metadata": {},
   "outputs": [],
   "source": [
    "lyricsspot['Lyrics'] = lyricsspot.apply(lambda row: get_lyrics(row['Title'], row['Artist']), axis=1)"
   ]
  }
 ],
 "metadata": {
  "kernelspec": {
   "display_name": "Python 3 (ipykernel)",
   "language": "python",
   "name": "python3"
  },
  "language_info": {
   "codemirror_mode": {
    "name": "ipython",
    "version": 3
   },
   "file_extension": ".py",
   "mimetype": "text/x-python",
   "name": "python",
   "nbconvert_exporter": "python",
   "pygments_lexer": "ipython3",
   "version": "3.10.9"
  }
 },
 "nbformat": 4,
 "nbformat_minor": 5
}

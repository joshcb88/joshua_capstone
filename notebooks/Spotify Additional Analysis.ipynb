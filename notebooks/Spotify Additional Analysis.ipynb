{
 "cells": [
  {
   "cell_type": "code",
   "execution_count": null,
   "id": "b1113305",
   "metadata": {},
   "outputs": [],
   "source": [
    "import seaborn as sns\n",
    "import matplotlib.pyplot as plt\n",
    "import pandas as pd\n",
    "import numpy as np"
   ]
  },
  {
   "cell_type": "code",
   "execution_count": null,
   "id": "00796006",
   "metadata": {},
   "outputs": [],
   "source": [
    "spotifytrack=pd.read_csv('../data/spotifytracksclean.csv')"
   ]
  },
  {
   "cell_type": "code",
   "execution_count": null,
   "id": "ba9c233f",
   "metadata": {
    "scrolled": true
   },
   "outputs": [],
   "source": [
    "spotifytrack"
   ]
  },
  {
   "cell_type": "code",
   "execution_count": null,
   "id": "e784b995",
   "metadata": {},
   "outputs": [],
   "source": [
    "spotifytrack=spotifytrack.drop(columns=['Unnamed: 0'])"
   ]
  },
  {
   "cell_type": "code",
   "execution_count": null,
   "id": "d515d63b",
   "metadata": {},
   "outputs": [],
   "source": [
    "spotifytrack"
   ]
  },
  {
   "cell_type": "code",
   "execution_count": null,
   "id": "e21b6489",
   "metadata": {},
   "outputs": [],
   "source": [
    "the50sval=spotifytrack.loc[spotifytrack['Year'].between(1950,1959)]"
   ]
  },
  {
   "cell_type": "code",
   "execution_count": null,
   "id": "fc20bd1b",
   "metadata": {
    "scrolled": true
   },
   "outputs": [],
   "source": [
    "the50sval=the50sval.groupby(by='Year')['Valence'].mean().to_frame().reset_index()"
   ]
  },
  {
   "cell_type": "code",
   "execution_count": null,
   "id": "f55a7efe",
   "metadata": {},
   "outputs": [],
   "source": [
    "the50sval.to_csv('../data/Visuals/50sgraph.csv')"
   ]
  },
  {
   "cell_type": "code",
   "execution_count": null,
   "id": "84aee7b6",
   "metadata": {},
   "outputs": [],
   "source": [
    "custom_palette = sns.color_palette(\"crest\")"
   ]
  },
  {
   "cell_type": "code",
   "execution_count": null,
   "id": "227bf0ee",
   "metadata": {},
   "outputs": [],
   "source": [
    "fifties=plt.figure(figsize=(10, 6)) \n",
    "plt.barh(y='Year',width='Valence',data=the50sval,color=custom_palette)\n",
    "plt.xlabel ('Valence Score')\n",
    "plt.title ('Average Valence 1950s')"
   ]
  },
  {
   "cell_type": "code",
   "execution_count": null,
   "id": "c3a18095",
   "metadata": {},
   "outputs": [],
   "source": [
    "allyears=spotifytrack.groupby(by='Decade')['Valence'].mean().to_frame().reset_index()"
   ]
  },
  {
   "cell_type": "code",
   "execution_count": null,
   "id": "7534c15c",
   "metadata": {
    "scrolled": true
   },
   "outputs": [],
   "source": [
    "allyears['Valence'] = allyears['Valence'].round(3)"
   ]
  },
  {
   "cell_type": "code",
   "execution_count": null,
   "id": "6732bb5b",
   "metadata": {
    "scrolled": false
   },
   "outputs": [],
   "source": [
    "allyears"
   ]
  },
  {
   "cell_type": "code",
   "execution_count": null,
   "id": "b72975bd",
   "metadata": {},
   "outputs": [],
   "source": [
    "valence_decade50=spotifytrack.loc[spotifytrack['Decade']==\"2020's\"]"
   ]
  },
  {
   "cell_type": "code",
   "execution_count": null,
   "id": "24d19f41",
   "metadata": {},
   "outputs": [],
   "source": [
    "valence_decade50 = valence_decade50['Valence'].max()"
   ]
  },
  {
   "cell_type": "code",
   "execution_count": null,
   "id": "8cac860f",
   "metadata": {},
   "outputs": [],
   "source": [
    "print(\"the highest valence scores in the 1970's was\",valence_decade50)"
   ]
  },
  {
   "cell_type": "code",
   "execution_count": null,
   "id": "b5cce190",
   "metadata": {},
   "outputs": [],
   "source": [
    "toptrack50=spotifytrack.loc[(spotifytrack['Decade']==\"2020's\") & (spotifytrack['Valence']==0.972)]"
   ]
  },
  {
   "cell_type": "code",
   "execution_count": null,
   "id": "2b7a4cb9",
   "metadata": {},
   "outputs": [],
   "source": [
    "most_positive_track= toptrack50['Title'].iloc[0]\n",
    "artist = toptrack50['Artist'].iloc[0]\n",
    "genre = toptrack50['Main Genre'].iloc[0]"
   ]
  },
  {
   "cell_type": "code",
   "execution_count": null,
   "id": "9ff6e887",
   "metadata": {},
   "outputs": [],
   "source": [
    "print(\"the most positive song in the 1960's was\",most_positive_track)\n",
    "print('by',artist )\n",
    "print('Genre:',genre)"
   ]
  },
  {
   "cell_type": "code",
   "execution_count": null,
   "id": "ccd35b2b",
   "metadata": {
    "scrolled": true
   },
   "outputs": [],
   "source": [
    "toptrack50"
   ]
  },
  {
   "cell_type": "code",
   "execution_count": null,
   "id": "8c9de811",
   "metadata": {},
   "outputs": [],
   "source": [
    "ninety=spotifytrack.loc[spotifytrack['Decade']==\"1990's\"]"
   ]
  },
  {
   "cell_type": "code",
   "execution_count": null,
   "id": "71036dfe",
   "metadata": {},
   "outputs": [],
   "source": [
    "ninety=ninety.sort_values(by='Valence', ascending=False)"
   ]
  },
  {
   "cell_type": "code",
   "execution_count": null,
   "id": "6454f525",
   "metadata": {},
   "outputs": [],
   "source": [
    "ninety"
   ]
  },
  {
   "cell_type": "code",
   "execution_count": null,
   "id": "aca8c8f4",
   "metadata": {},
   "outputs": [],
   "source": [
    "unaltered=pd.read_csv('../data/unalteredtracks.csv')"
   ]
  },
  {
   "cell_type": "code",
   "execution_count": null,
   "id": "6df43cd9",
   "metadata": {},
   "outputs": [],
   "source": [
    "positive_genre=spotifytrack.groupby(['Decade', 'Main Genre'])['Valence'].mean().reset_index()"
   ]
  },
  {
   "cell_type": "code",
   "execution_count": null,
   "id": "fa7bd530",
   "metadata": {},
   "outputs": [],
   "source": [
    "positive_genre= positive_genre.groupby('Decade').apply(lambda x: x.nlargest(3, 'Valence')).reset_index(drop=True)"
   ]
  },
  {
   "cell_type": "code",
   "execution_count": null,
   "id": "8914bbe1",
   "metadata": {},
   "outputs": [],
   "source": [
    "positive_genre"
   ]
  },
  {
   "cell_type": "code",
   "execution_count": null,
   "id": "434192ce",
   "metadata": {},
   "outputs": [],
   "source": [
    "plt.figure(figsize=(12, 6))\n",
    "plt.bar(x='Main Genre',height='Valence',data=positive_genre)"
   ]
  },
  {
   "cell_type": "code",
   "execution_count": null,
   "id": "f6c66cc5",
   "metadata": {},
   "outputs": [],
   "source": [
    "topthreetrends=spotifytrack.loc[spotifytrack['Main Genre'].isin(['Pop','Rock','R&B'])]"
   ]
  },
  {
   "cell_type": "code",
   "execution_count": null,
   "id": "ed34e91c",
   "metadata": {},
   "outputs": [],
   "source": [
    "fifty=topthreetrends.loc[topthreetrends['Decade']==\"1950's\"]"
   ]
  },
  {
   "cell_type": "code",
   "execution_count": null,
   "id": "8d263d00",
   "metadata": {},
   "outputs": [],
   "source": [
    "fifty"
   ]
  },
  {
   "cell_type": "code",
   "execution_count": null,
   "id": "098df563",
   "metadata": {},
   "outputs": [],
   "source": [
    "avg_val_fifty = fifty.groupby('Main Genre')['Valence'].mean()"
   ]
  },
  {
   "cell_type": "code",
   "execution_count": null,
   "id": "b762b1b8",
   "metadata": {},
   "outputs": [],
   "source": [
    "plt.figure(figsize=(10, 6))\n",
    "avg_val_fifty.sort_values(ascending=False).plot(kind='bar')\n",
    "plt.xlabel('Genre')\n",
    "plt.ylabel('Average Valence')\n",
    "plt.title(\"Average Valence Top Three 1950's\")\n",
    "plt.xticks(rotation=45, ha='right')\n",
    "plt.tight_layout()"
   ]
  },
  {
   "cell_type": "code",
   "execution_count": null,
   "id": "718516f4",
   "metadata": {},
   "outputs": [],
   "source": [
    "sixty=topthreetrends.loc[topthreetrends['Decade']==\"1960's\"]"
   ]
  },
  {
   "cell_type": "code",
   "execution_count": null,
   "id": "0f3ad6e2",
   "metadata": {},
   "outputs": [],
   "source": [
    "avg_val_sixty = sixty.groupby('Main Genre')['Valence'].mean()"
   ]
  },
  {
   "cell_type": "code",
   "execution_count": null,
   "id": "8b9da8f1",
   "metadata": {},
   "outputs": [],
   "source": [
    "plt.figure(figsize=(10, 6))\n",
    "avg_val_sixty.sort_values(ascending=False).plot(kind='bar')\n",
    "plt.xlabel('Genre')\n",
    "plt.ylabel('Average Valence')\n",
    "plt.title(\"Average Valence Top Three 1960's\")\n",
    "plt.xticks(rotation=45, ha='right')\n",
    "plt.tight_layout()"
   ]
  },
  {
   "cell_type": "code",
   "execution_count": null,
   "id": "c8753817",
   "metadata": {},
   "outputs": [],
   "source": [
    "seventy=topthreetrends.loc[topthreetrends['Decade']==\"1970's\"]"
   ]
  },
  {
   "cell_type": "code",
   "execution_count": null,
   "id": "00fa0121",
   "metadata": {},
   "outputs": [],
   "source": [
    "avg_val_seventy = seventy.groupby('Main Genre')['Valence'].mean()"
   ]
  },
  {
   "cell_type": "code",
   "execution_count": null,
   "id": "251c720d",
   "metadata": {},
   "outputs": [],
   "source": [
    "plt.figure(figsize=(10, 6))\n",
    "avg_val_seventy.sort_values(ascending=False).plot(kind='bar')\n",
    "plt.xlabel('Genre')\n",
    "plt.ylabel('Average Valence')\n",
    "plt.title(\"Average Valence Top Three 19670's\")\n",
    "plt.xticks(rotation=45, ha='right')\n",
    "plt.tight_layout()"
   ]
  },
  {
   "cell_type": "code",
   "execution_count": null,
   "id": "0ab87c45",
   "metadata": {},
   "outputs": [],
   "source": [
    "top_three_per_decade= topthreetrends.groupby(['Decade', 'Main Genre'])['Valence'].mean().reset_index()"
   ]
  },
  {
   "cell_type": "code",
   "execution_count": null,
   "id": "b3101586",
   "metadata": {},
   "outputs": [],
   "source": [
    "top_three_per_decade"
   ]
  },
  {
   "cell_type": "code",
   "execution_count": null,
   "id": "44e8d980",
   "metadata": {},
   "outputs": [],
   "source": [
    "sns.set_style('whitegrid')\n",
    "facetdecade = sns.FacetGrid(top_three_per_decade, col='Decade', col_wrap=3, height=4)\n",
    "facetdecade.map(sns.barplot, 'Main Genre', 'Valence', palette='muted')  # Specify order of genres\n",
    "facetdecade.set_axis_labels('Genre', 'Average Valence')\n",
    "facetdecade.set_titles('Decade: {col_name}')\n",
    "facetdecade.set_xticklabels(rotation=45, ha='right')\n",
    "\n",
    "# Adjust x-axis labels\n",
    "for ax in facetdecade.axes:\n",
    "    ax.set_xticklabels(ax.get_xticklabels(), rotation=45, ha='right')\n",
    "\n",
    "# Adjust layout\n",
    "plt.tight_layout()"
   ]
  },
  {
   "cell_type": "code",
   "execution_count": null,
   "id": "d9318e3b",
   "metadata": {
    "scrolled": true
   },
   "outputs": [],
   "source": [
    "spotifytrack"
   ]
  },
  {
   "cell_type": "code",
   "execution_count": null,
   "id": "4d1c6f2e",
   "metadata": {},
   "outputs": [],
   "source": [
    "full_data=pd.read_csv('../data/spotify_data_final.csv')"
   ]
  },
  {
   "cell_type": "code",
   "execution_count": null,
   "id": "d541567e",
   "metadata": {},
   "outputs": [],
   "source": [
    "category_percent=full_data.loc[full_data['artist_category'].isin(['Solo','Group'])]"
   ]
  },
  {
   "cell_type": "code",
   "execution_count": null,
   "id": "b0490910",
   "metadata": {},
   "outputs": [],
   "source": [
    "category_percent=category_percent['artist_category'].value_counts().to_frame().reset_index()\n",
    "category_percent=category_percent.rename(columns={'index':'Category','artist_category':'Count'})"
   ]
  },
  {
   "cell_type": "code",
   "execution_count": null,
   "id": "f5916e2a",
   "metadata": {},
   "outputs": [],
   "source": [
    "category_percent"
   ]
  },
  {
   "cell_type": "code",
   "execution_count": null,
   "id": "935d962c",
   "metadata": {},
   "outputs": [],
   "source": [
    "plt.pie(category_percent['Count'], labels=category_percent.Category,autopct='%.0f%%');"
   ]
  },
  {
   "cell_type": "code",
   "execution_count": null,
   "id": "e79ab156",
   "metadata": {},
   "outputs": [],
   "source": [
    "spotify1=pd.read_csv('../data/spotify_full_data.csv')"
   ]
  },
  {
   "cell_type": "code",
   "execution_count": null,
   "id": "e1627475",
   "metadata": {},
   "outputs": [],
   "source": [
    "full_data"
   ]
  },
  {
   "cell_type": "code",
   "execution_count": null,
   "id": "6eab4933",
   "metadata": {
    "scrolled": true
   },
   "outputs": [],
   "source": [
    "spotify1.corr()"
   ]
  },
  {
   "cell_type": "code",
   "execution_count": null,
   "id": "86b4d320",
   "metadata": {},
   "outputs": [],
   "source": [
    "typecategory=full_data.loc[spotify1['artist_category'].isin(['Group','Solo'])]"
   ]
  },
  {
   "cell_type": "code",
   "execution_count": null,
   "id": "f6ef8963",
   "metadata": {},
   "outputs": [],
   "source": [
    "sologroup= typecategory.groupby(['Decade', 'artist_category'])['Valence'].mean().reset_index()"
   ]
  },
  {
   "cell_type": "code",
   "execution_count": null,
   "id": "5b5e73af",
   "metadata": {},
   "outputs": [],
   "source": [
    "plt.figure(figsize=(10, 6))\n",
    "sns.barplot(x='Decade', y='Valence', hue='artist_category', data=sologroup)"
   ]
  },
  {
   "cell_type": "code",
   "execution_count": null,
   "id": "b8723e55",
   "metadata": {},
   "outputs": [],
   "source": [
    "avg_sologroup= full_data.groupby('artist_category')['Valence'].mean().reset_index().round(3)"
   ]
  },
  {
   "cell_type": "code",
   "execution_count": null,
   "id": "450f1383",
   "metadata": {},
   "outputs": [],
   "source": [
    "avg_sologroup"
   ]
  },
  {
   "cell_type": "code",
   "execution_count": null,
   "id": "38c52e27",
   "metadata": {},
   "outputs": [],
   "source": [
    "typeart=full_data.loc[spotify1['artist_category'].isin(['Solo','Group'])]"
   ]
  },
  {
   "cell_type": "code",
   "execution_count": null,
   "id": "3298d148",
   "metadata": {},
   "outputs": [],
   "source": [
    "typeart2=full_data.loc[spotify1['artist_category'].isin(['Solo','Group'])]"
   ]
  },
  {
   "cell_type": "code",
   "execution_count": null,
   "id": "dfc769a7",
   "metadata": {},
   "outputs": [],
   "source": [
    "typeart['count_artists'] = typeart.groupby(['Decade', 'artist_category'])['artist_category'].transform('count')\n",
    "typeart.rename(columns={'artist_category': 'count_artists'}, inplace=True)"
   ]
  },
  {
   "cell_type": "code",
   "execution_count": null,
   "id": "320d0d93",
   "metadata": {},
   "outputs": [],
   "source": [
    "avg_valence = typeart2.groupby(['Decade', 'artist_category'])['Valence'].mean().reset_index()\n",
    "avg_valence.rename(columns={'Valence': 'avg_valence'}, inplace=True)"
   ]
  },
  {
   "cell_type": "code",
   "execution_count": null,
   "id": "fabd2c97",
   "metadata": {},
   "outputs": [],
   "source": [
    "solovsgroup = pd.merge(typeart, avg_valence, on=['Decade'])"
   ]
  },
  {
   "cell_type": "code",
   "execution_count": null,
   "id": "41e8ae7d",
   "metadata": {},
   "outputs": [],
   "source": [
    "solovsgroup"
   ]
  },
  {
   "cell_type": "code",
   "execution_count": null,
   "id": "487625ff",
   "metadata": {
    "scrolled": true
   },
   "outputs": [],
   "source": [
    "\n",
    "# Create a line plot for solo artists\n",
    "plt.figure(figsize=(10, 6))\n",
    "sns.lineplot(x='Decade', y='avg_valence', hue='artist_category', data=solovsgroup)\n",
    "\n",
    "# Customize the plot\n",
    "plt.xlabel(\"Decades\")\n",
    "plt.ylabel(\"Average Valence Score\")\n",
    "plt.legend(title=\"Artist Category\")\n",
    "plt.xticks(rotation=45);\n"
   ]
  },
  {
   "cell_type": "code",
   "execution_count": null,
   "id": "e2cd0f6d",
   "metadata": {},
   "outputs": [],
   "source": [
    "songduration=spotify1.groupby('Duration(mins)')['Valence'].mean().reset_index()"
   ]
  },
  {
   "cell_type": "code",
   "execution_count": null,
   "id": "7eb17835",
   "metadata": {},
   "outputs": [],
   "source": [
    "songduration"
   ]
  },
  {
   "cell_type": "code",
   "execution_count": null,
   "id": "3589e833",
   "metadata": {},
   "outputs": [],
   "source": [
    "sns.lineplot(x='Valence', y='Duration(mins)',  data=songduration)"
   ]
  },
  {
   "cell_type": "code",
   "execution_count": null,
   "id": "14dfa0fd",
   "metadata": {},
   "outputs": [],
   "source": [
    "groups_average= full_data.groupby('artist_category')['Valence'].mean().round(3).to_frame().reset_index()"
   ]
  },
  {
   "cell_type": "code",
   "execution_count": null,
   "id": "c17bd916",
   "metadata": {},
   "outputs": [],
   "source": [
    "groups_average"
   ]
  },
  {
   "cell_type": "code",
   "execution_count": null,
   "id": "34c65821",
   "metadata": {},
   "outputs": [],
   "source": [
    "songlength_sorted=full_data"
   ]
  },
  {
   "cell_type": "code",
   "execution_count": null,
   "id": "0497728c",
   "metadata": {
    "scrolled": true
   },
   "outputs": [],
   "source": [
    "songlength_sorted.sort_values(by='Duration(mins)', ascending=False)"
   ]
  },
  {
   "cell_type": "code",
   "execution_count": null,
   "id": "a7dc4724",
   "metadata": {},
   "outputs": [],
   "source": [
    "songlength_sorted['Duration(mins)'].mean()"
   ]
  },
  {
   "cell_type": "code",
   "execution_count": null,
   "id": "416de3bf",
   "metadata": {},
   "outputs": [],
   "source": [
    "duration=full_data.loc[full_data['Duration(mins)']<=4.5]"
   ]
  },
  {
   "cell_type": "code",
   "execution_count": null,
   "id": "74caf297",
   "metadata": {},
   "outputs": [],
   "source": [
    "duration"
   ]
  },
  {
   "cell_type": "code",
   "execution_count": null,
   "id": "09cc2dd0",
   "metadata": {},
   "outputs": [],
   "source": [
    "average_duration=duration[['Year','Duration(mins)']]"
   ]
  },
  {
   "cell_type": "code",
   "execution_count": null,
   "id": "d1e0db9c",
   "metadata": {},
   "outputs": [],
   "source": [
    "average_duration=average_duration.groupby('Year')['Duration(mins)'].mean().to_frame().reset_index()"
   ]
  },
  {
   "cell_type": "code",
   "execution_count": null,
   "id": "1b6ca8ed",
   "metadata": {
    "scrolled": false
   },
   "outputs": [],
   "source": [
    "plt.figure(figsize=(10, 6))\n",
    "plt.plot(average_duration['Year'], average_duration['Duration(mins)'])\n",
    "plt.xlabel('Decade')\n",
    "plt.ylabel('Duration (mins)')\n",
    "plt.ylim(2,4.5)\n",
    "plt.title('Average Song Duration Per Decade')\n",
    "plt.xticks(rotation=45)\n",
    "plt.tight_layout();"
   ]
  },
  {
   "cell_type": "code",
   "execution_count": null,
   "id": "e5efe290",
   "metadata": {},
   "outputs": [],
   "source": [
    "song_lengths_val=full_data.loc[full_data['Duration(mins)']<=5.0]"
   ]
  },
  {
   "cell_type": "code",
   "execution_count": null,
   "id": "bfb16030",
   "metadata": {},
   "outputs": [],
   "source": [
    "song_lengths_val"
   ]
  },
  {
   "cell_type": "code",
   "execution_count": null,
   "id": "df9dab5c",
   "metadata": {},
   "outputs": [],
   "source": [
    "song_lengths_val = song_lengths_val.groupby('Duration(mins)')['Valence'].mean().to_frame().reset_index()"
   ]
  },
  {
   "cell_type": "code",
   "execution_count": null,
   "id": "f733c550",
   "metadata": {},
   "outputs": [],
   "source": [
    "plt.figure(figsize=(10, 6))\n",
    "plt.scatter(song_lengths_val['Duration(mins)'], song_lengths_val['Valence'])\n",
    "plt.xlabel('Duration (mins)')\n",
    "plt.ylabel('Valence')\n",
    "plt.title('Duration vs. Valence')\n",
    "plt.show()"
   ]
  },
  {
   "cell_type": "code",
   "execution_count": null,
   "id": "a317c462",
   "metadata": {},
   "outputs": [],
   "source": [
    "full_data"
   ]
  },
  {
   "cell_type": "code",
   "execution_count": null,
   "id": "e756b1bc",
   "metadata": {},
   "outputs": [],
   "source": [
    "high_val_length=full_data.loc[full_data['Duration(mins)'].between(2.00,3.00)]"
   ]
  },
  {
   "cell_type": "code",
   "execution_count": null,
   "id": "0eb54b18",
   "metadata": {},
   "outputs": [],
   "source": [
    "high_val_length=high_val_length.drop(columns=['Unnamed: 0.2','Unnamed: 0.1','Unnamed: 0'])"
   ]
  },
  {
   "cell_type": "code",
   "execution_count": null,
   "id": "ca648090",
   "metadata": {
    "scrolled": true
   },
   "outputs": [],
   "source": [
    "high_val_length.sort_values(by='Valence',ascending=False).head(5)"
   ]
  },
  {
   "cell_type": "code",
   "execution_count": null,
   "id": "530a3e51",
   "metadata": {},
   "outputs": [],
   "source": [
    "overallval=full_data.drop(columns=['Unnamed: 0.2','Unnamed: 0.1','Unnamed: 0'])"
   ]
  },
  {
   "cell_type": "code",
   "execution_count": null,
   "id": "33772cb8",
   "metadata": {},
   "outputs": [],
   "source": [
    "overallval.loc[overallval['Decade']==\"2020's\"].sort_values(by='Valence',ascending=False)"
   ]
  },
  {
   "cell_type": "code",
   "execution_count": null,
   "id": "7a2ecfe2",
   "metadata": {
    "scrolled": true
   },
   "outputs": [],
   "source": [
    "genre.full_data"
   ]
  },
  {
   "cell_type": "code",
   "execution_count": null,
   "id": "1876dcb8",
   "metadata": {},
   "outputs": [],
   "source": []
  }
 ],
 "metadata": {
  "kernelspec": {
   "display_name": "Python 3 (ipykernel)",
   "language": "python",
   "name": "python3"
  },
  "language_info": {
   "codemirror_mode": {
    "name": "ipython",
    "version": 3
   },
   "file_extension": ".py",
   "mimetype": "text/x-python",
   "name": "python",
   "nbconvert_exporter": "python",
   "pygments_lexer": "ipython3",
   "version": "3.10.9"
  }
 },
 "nbformat": 4,
 "nbformat_minor": 5
}

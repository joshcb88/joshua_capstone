{
 "cells": [
  {
   "cell_type": "code",
   "execution_count": null,
   "id": "604fc94b",
   "metadata": {},
   "outputs": [],
   "source": [
    "import numpy as np\n",
    "import pandas as pd"
   ]
  },
  {
   "cell_type": "code",
   "execution_count": null,
   "id": "3da80238",
   "metadata": {},
   "outputs": [],
   "source": [
    "seventies=pd.read_csv('../data/merged_years/genres_csvs/1970s_cleanedup.csv',nrows=1000)"
   ]
  },
  {
   "cell_type": "code",
   "execution_count": null,
   "id": "e00017a2",
   "metadata": {},
   "outputs": [],
   "source": [
    "seventies"
   ]
  },
  {
   "cell_type": "code",
   "execution_count": null,
   "id": "b3ad7cc7",
   "metadata": {},
   "outputs": [],
   "source": [
    "seventies=seventies.drop(columns=['Unnamed: 0.1','Unnamed: 0','Genres','Sub_Genre','Title'])"
   ]
  },
  {
   "cell_type": "code",
   "execution_count": null,
   "id": "3da8b3d9",
   "metadata": {},
   "outputs": [],
   "source": [
    "seventies=seventies.drop(columns=['Artist'])"
   ]
  },
  {
   "cell_type": "code",
   "execution_count": null,
   "id": "5498bea6",
   "metadata": {},
   "outputs": [],
   "source": [
    "seventies=seventies.rename(columns={'Title_Replace':'Title','Sub_Genre_Trimmed':'Sub_Genre', 'Genres_Clean':'Genres','Artist_Replace':'Artist'})"
   ]
  },
  {
   "cell_type": "code",
   "execution_count": null,
   "id": "793ba86d",
   "metadata": {
    "scrolled": true
   },
   "outputs": [],
   "source": [
    "seventies.head()"
   ]
  },
  {
   "cell_type": "code",
   "execution_count": null,
   "id": "167c6037",
   "metadata": {},
   "outputs": [],
   "source": [
    "pd.set_option('display.max_rows', None)"
   ]
  },
  {
   "cell_type": "code",
   "execution_count": null,
   "id": "d1ded060",
   "metadata": {
    "scrolled": true
   },
   "outputs": [],
   "source": [
    "seventies['Sub_Genre'].value_counts()"
   ]
  },
  {
   "cell_type": "code",
   "execution_count": null,
   "id": "27ad1a4a",
   "metadata": {
    "scrolled": false
   },
   "outputs": [],
   "source": [
    "seventies.loc[seventies['Artist']=='The Pointer Sisters']"
   ]
  },
  {
   "cell_type": "code",
   "execution_count": null,
   "id": "c88cfab7",
   "metadata": {},
   "outputs": [],
   "source": [
    "def get_broad_category(sub_category):\n",
    "    if sub_category == 'classic rock':\n",
    "         return \"Rock\"\n",
    "    if sub_category == 'disco':\n",
    "         return \"Disco\"\n",
    "    if sub_category == 'mellow gold':\n",
    "         return \"Pop\"\n",
    "    if sub_category == 'glam rock':\n",
    "         return \"Rock\"\n",
    "    if sub_category == 'folk':\n",
    "         return \"Folk\"\n",
    "    if sub_category == 'soft rock':\n",
    "         return \"Pop\"\n",
    "    if sub_category == 'bubblegum pop':\n",
    "         return \"Pop\"\n",
    "    if sub_category == 'blues rock':\n",
    "         return \"Rock\"\n",
    "    if sub_category == 'art rock':\n",
    "         return \"Rock\"\n",
    "    if sub_category == 'nederpop':\n",
    "         return \"Pop\"\n",
    "    if sub_category == 'soul':\n",
    "         return \"Soul\"\n",
    "    if sub_category == 'classic uk pop':\n",
    "         return \"Pop\"\n",
    "    if sub_category == 'disco':\n",
    "         return \"Disco\"\n",
    "    if sub_category == 'motown':\n",
    "         return \"R&B\"\n",
    "    if sub_category == 'classic soul':\n",
    "         return \"Soul\"\n",
    "    if sub_category == 'british invasion':\n",
    "         return \"Rock\"\n",
    "    if sub_category == 'country rock':\n",
    "         return \"Rock\"\n",
    "    if sub_category == 'swedish pop':\n",
    "         return \"Pop\"\n",
    "    if sub_category == 'beatlesque':\n",
    "         return \"Rock\"\n",
    "    if sub_category == 'yacht rock':\n",
    "         return \"Rock\"\n",
    "    if sub_category == 'british blues':\n",
    "         return \"Rock\"\n",
    "    if sub_category == 'quiet storm':\n",
    "         return \"R&B\"\n",
    "    if sub_category == 'country':\n",
    "         return \"Country\"\n",
    "    if sub_category == 'new wave pop':\n",
    "         return \"Pop\"\n",
    "    if sub_category == 'southern soul':\n",
    "         return \"Soul\"\n",
    "    if sub_category == 'roots reggae':\n",
    "         return \"Reggae\"\n",
    "    if sub_category == 'classic canadian rock':\n",
    "         return \"Rock\"\n",
    "    if sub_category == 'hard rock':\n",
    "         return \"Rock\"\n",
    "    if sub_category == 'hard rock':\n",
    "         return \"Rock\"\n",
    "    if sub_category == 'easy listening':\n",
    "         return \"Pop\"\n",
    "    if sub_category == 'brill building pop':\n",
    "         return \"Pop\"\n",
    "    if sub_category == 'europop':\n",
    "         return \"Pop\"\n",
    "    if sub_category == 'jazz blues':\n",
    "         return \"Blues\"\n",
    "    if sub_category == 'album rock':\n",
    "         return \"Rock\"\n",
    "    if sub_category == 'pop':\n",
    "         return \"Pop\"\n",
    "    if sub_category == 'northern soul':\n",
    "         return \"Soul\"\n",
    "    if sub_category == 'rockabilly':\n",
    "         return \"Rock\"\n",
    "    if sub_category == 'new romantic':\n",
    "         return \"Rock\"\n",
    "    if sub_category == 'reggae':\n",
    "         return \"Reggae\"\n",
    "    if sub_category == 'arkansas country':\n",
    "         return \"Country\"\n",
    "    if sub_category == 'new wave':\n",
    "         return \"Rock\"\n",
    "    if sub_category == 'rock-and-roll':\n",
    "         return \"Rock\"\n",
    "    if sub_category == 'hi-nrg':\n",
    "         return \"EDM\"\n",
    "    if sub_category == 'folk rock':\n",
    "         return \"Rock\"\n",
    "    if sub_category == 'classic country pop':\n",
    "         return \"Country\"\n",
    "    if sub_category == 'philly soul':\n",
    "         return \"Soul\"\n",
    "    if sub_category == 'hollywood':\n",
    "         return \"Soundtrack\"\n",
    "    if sub_category == 'hollywood':\n",
    "         return \"Soundtrack\"\n",
    "    if sub_category == 'hollywood':\n",
    "         return \"Soundtrack\"\n",
    "    if sub_category == 'psychedelic soul':\n",
    "         return \"Funk\"\n",
    "    if sub_category == 'classic garage rock':\n",
    "         return \"Rock\"\n",
    "    if sub_category == 'australian dance':\n",
    "         return \"EDM\"\n",
    "    if sub_category == 'canadian country':\n",
    "         return \"Rock\"\n",
    "    if sub_category == 'permanent wave':\n",
    "         return \"Rock\"\n",
    "    if sub_category == 'operatic pop':\n",
    "         return \"Pop\"\n",
    "    if sub_category == 'trop rock':\n",
    "         return \"Rock\"\n",
    "    if sub_category == 'synthpop':\n",
    "         return \"Pop\"\n",
    "    if sub_category == 'doo-wop':\n",
    "         return \"R&B\"\n",
    "    if sub_category == 'canadian pop':\n",
    "         return \"Popk\"\n",
    "    if sub_category == 'underground power pop':\n",
    "         return \"Pop\"\n",
    "    if sub_category == 'lovers rock':\n",
    "         return \"Reggae\"\n",
    "    if sub_category == 'trop rock':\n",
    "         return \"Rock\"\n",
    "    if sub_category == 'outlaw country':\n",
    "         return \"Country\"\n",
    "    if sub_category == 'pub rock':\n",
    "         return \"Rock\"\n",
    "    if sub_category == 'funk rock':\n",
    "         return \"Rock\"\n",
    "    if sub_category == 'rocksteady':\n",
    "         return \"Ska\"\n",
    "    if sub_category == 'persian pop':\n",
    "         return \"Pop\"\n",
    "    if sub_category == 'vintage french electronic':\n",
    "         return \"Disco\"\n",
    "    if sub_category == 'southern rock':\n",
    "         return \"Rock\"\n",
    "    if sub_category == 'movie tunes':\n",
    "         return \"Soundtrack\"\n",
    "    if sub_category == 'merderpop':\n",
    "         return \"Pop\"\n",
    "    if sub_category == 'native american contemporary':\n",
    "         return \"Alternative\"\n",
    "    if sub_category == 'movie tunes':\n",
    "         return \"Soundtrack\"\n",
    "    if sub_category == 'punk':\n",
    "         return \"Punk\"\n",
    "    if sub_category == 'funk':\n",
    "         return \"Funk\"\n",
    "    if sub_category == 'funk':\n",
    "         return \"Funk\"\n",
    "    if sub_category == 'hammond organ':\n",
    "         return \"Alternative\"\n",
    "    if sub_category == 'anadian singer-songwriter':\n",
    "         return \"Folk\"\n",
    "    if sub_category == 'synthesizer':\n",
    "         return \"Alternative\"\n",
    "    if sub_category == 'early us punk':\n",
    "         return \"Punk\"\n",
    "    if sub_category == 'protopunk':\n",
    "         return \"Rock\"\n",
    "    if sub_category == 'theme':\n",
    "         return \"Soundtrack\"\n",
    "    if sub_category == 'jazz guitar':\n",
    "         return \"Jazz\"\n",
    "    if sub_category == 'melancholia':\n",
    "         return \"Folk\"\n",
    "    if sub_category == 'classic belgian pop':\n",
    "         return \"Pop\"\n",
    "    if sub_category == 'classic soundtrack':\n",
    "         return \"Soundtrack\"\n",
    "    if sub_category == 'vocal jazz':\n",
    "         return \"Jazz\"\n",
    "    if sub_category == 'girl group':\n",
    "         return \"Pop\"\n",
    "    if sub_category == 'diva house':\n",
    "         return \"R&B\"\n",
    "    if sub_category == 'jangle pop':\n",
    "         return \"Pop\"\n",
    "    if sub_category == 'deep disco':\n",
    "         return \"Disco\"\n",
    "    if sub_category == 'swamp pop':\n",
    "         return \"Pop\"\n",
    "    if sub_category == 'moog':\n",
    "         return \"Rock\"\n",
    "    if sub_category == 'alternative metal':\n",
    "         return \"Rock\"\n",
    "    if sub_category == 'rhythm and blues':\n",
    "         return \"R&B\"\n",
    "    if sub_category == 'classic pop':\n",
    "         return \"Pop\"\n",
    "    if sub_category == 'nashville sound':\n",
    "         return \"Country\"\n",
    "    if sub_category == 'rare groove':\n",
    "         return \"R&B\"\n",
    "    if sub_category == 'flute rock':\n",
    "         return \"Rock\"\n",
    "    if sub_category == 'heartland rock':\n",
    "         return \"Rock\"\n",
    "    if sub_category == 'power pop':\n",
    "         return \"Pop\"\n",
    "    if sub_category == 'lounge':\n",
    "         return \"Pop\"\n",
    "    if sub_category == 'cowboy western':\n",
    "         return \"Country\"\n",
    "    if sub_category == 'rock of gibraltar':\n",
    "         return \"Rock\"\n",
    "    if sub_category == 'jazz funk':\n",
    "         return \"Jazz\"\n",
    "    if sub_category == 'classic swedish pop':\n",
    "         return \"Pop\"\n",
    "    if sub_category == '':\n",
    "         return \"Pop\"\n",
    "    if sub_category == 'symphonic rock':\n",
    "         return \"Rock\"\n",
    "    if sub_category == 'canadian metal':\n",
    "         return \"Alternative Metal\"\n",
    "    if sub_category == 'dutch prog':\n",
    "         return \"Rock\"\n",
    "    if sub_category == 'canadian singer-songwriter':\n",
    "         return \"Folk\"\n",
    "    if sub_category == 'british folk':\n",
    "         return \"Folk\"\n",
    "    if sub_category == 'chanson':\n",
    "         return \"Pop\"\n",
    "    if sub_category == 'blues':\n",
    "         return \"Blues\"\n",
    "    if sub_category == 'smooth jazz':\n",
    "         return \"Jazz\"\n",
    "    if sub_category == 'sunshine pop':\n",
    "         return \"Pop\"\n",
    "    else:\n",
    "        return \"Other\""
   ]
  },
  {
   "cell_type": "code",
   "execution_count": null,
   "id": "2d895d0d",
   "metadata": {},
   "outputs": [],
   "source": [
    "seventies['Main Genre'] = seventies['Sub_Genre'].apply(get_broad_category)"
   ]
  },
  {
   "cell_type": "code",
   "execution_count": null,
   "id": "b2bce13d",
   "metadata": {},
   "outputs": [],
   "source": [
    "seventies.head()"
   ]
  },
  {
   "cell_type": "code",
   "execution_count": null,
   "id": "27b6df93",
   "metadata": {},
   "outputs": [],
   "source": [
    "seventies.loc[seventies['Main Genre']=='Other']"
   ]
  },
  {
   "cell_type": "code",
   "execution_count": null,
   "id": "fca1ee77",
   "metadata": {},
   "outputs": [],
   "source": [
    "seventies.loc[seventies['Artist']=='B.B. King','Main Genre']='Blues'\n",
    "seventies.loc[seventies['Artist']=='Canned Heat','Main Genre']='Blues'"
   ]
  },
  {
   "cell_type": "code",
   "execution_count": null,
   "id": "54a87ff9",
   "metadata": {
    "scrolled": true
   },
   "outputs": [],
   "source": [
    "seventies['Main Genre'].value_counts()"
   ]
  },
  {
   "cell_type": "code",
   "execution_count": null,
   "id": "a6908305",
   "metadata": {},
   "outputs": [],
   "source": [
    "seventies=seventies[['Title','Artist','Album','Popularity','Play Count','Track URL','Acousticness','Danceability','Loudness','Valence','Energy','Liveness','Tempo','Explicit','Instrumentalness','Duration (ms)','Genres','Sub_Genre','Main Genre','Release Year']]"
   ]
  },
  {
   "cell_type": "code",
   "execution_count": null,
   "id": "13336f46",
   "metadata": {},
   "outputs": [],
   "source": [
    "seventies.head()"
   ]
  },
  {
   "cell_type": "code",
   "execution_count": null,
   "id": "3d388e85",
   "metadata": {},
   "outputs": [],
   "source": [
    "seventies.info()"
   ]
  },
  {
   "cell_type": "code",
   "execution_count": null,
   "id": "1db1a99d",
   "metadata": {},
   "outputs": [],
   "source": [
    "seventies.to_csv('../data/merged_years/full_cleans/seventies.csv')"
   ]
  },
  {
   "cell_type": "code",
   "execution_count": null,
   "id": "abb59271",
   "metadata": {},
   "outputs": [],
   "source": []
  }
 ],
 "metadata": {
  "kernelspec": {
   "display_name": "Python 3 (ipykernel)",
   "language": "python",
   "name": "python3"
  },
  "language_info": {
   "codemirror_mode": {
    "name": "ipython",
    "version": 3
   },
   "file_extension": ".py",
   "mimetype": "text/x-python",
   "name": "python",
   "nbconvert_exporter": "python",
   "pygments_lexer": "ipython3",
   "version": "3.10.9"
  }
 },
 "nbformat": 4,
 "nbformat_minor": 5
}

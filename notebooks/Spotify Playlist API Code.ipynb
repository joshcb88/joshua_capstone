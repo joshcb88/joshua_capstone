{
 "cells": [
  {
   "cell_type": "code",
   "execution_count": 2,
   "id": "6b41436e",
   "metadata": {},
   "outputs": [],
   "source": [
    "import spotipy\n",
    "from spotipy.oauth2 import SpotifyClientCredentials\n",
    "import pandas as pd"
   ]
  },
  {
   "cell_type": "code",
   "execution_count": null,
   "id": "a65207e2",
   "metadata": {},
   "outputs": [],
   "source": [
    "with open(\"../data/credentials.json\") as credentials_file:\n",
    "        credentials = json.load(credentials_file)"
   ]
  },
  {
   "cell_type": "code",
   "execution_count": null,
   "id": "b4257770",
   "metadata": {},
   "outputs": [],
   "source": [
    "client_id = credentials[\"client_id\"]\n",
    "client_secret = credentials[\"client_secret\"]"
   ]
  },
  {
   "cell_type": "code",
   "execution_count": null,
   "id": "02a47e5a",
   "metadata": {},
   "outputs": [],
   "source": [
    "client_credentials_manager = SpotifyClientCredentials(client_id=client_id, client_secret=client_secret)\n",
    "spotify = spotipy.Spotify(client_credentials_manager=client_credentials_manager)"
   ]
  },
  {
   "cell_type": "code",
   "execution_count": 3,
   "id": "d237cb61",
   "metadata": {},
   "outputs": [],
   "source": [
    "def get_playlist_data(spotify, playlist_id):\n",
    "    playlist = spotify.playlist(playlist_id)\n",
    "    playlist_name = playlist['name']\n",
    "    total_tracks = playlist['tracks']['total']\n",
    "    \n",
    "    ## Spotify API usually has a max of 50-100 tracks it will retrieve in batches.\n",
    "    ## This handles pagination to return all tracks from a playlist.\n",
    "    limit = 100\n",
    "    offset = 0\n",
    "    track_data = []\n",
    "    while offset < total_tracks:\n",
    "        results = spotify.playlist_tracks(playlist_id, offset=offset, limit=limit)\n",
    "        tracks = results['items'] ## First API call made to retrieve track info\n",
    "        for track in tracks: \n",
    "            track_info = track['track']\n",
    "            track_id = track_info['id']\n",
    "            track_name = track_info['name']\n",
    "            track_artists = ', '.join([artist['name'] for artist in track_info['artists']])\n",
    "            track_album = track_info['album']['name']\n",
    "            track_popularity = track_info['popularity']\n",
    "            track_url = track_info['external_urls']['spotify']\n",
    "            play_count = track_info['album']['total_tracks']\n",
    "            \n",
    "            track_details = spotify.track(track_id) \n",
    "            explicit = track_details['explicit']\n",
    "            ## Second API call for audio features.\n",
    "            features = spotify.audio_features(track_id)[0] \n",
    "            acousticness = features['acousticness']\n",
    "            danceability = features['danceability']\n",
    "            loudness = features['loudness']\n",
    "            valence = features['valence']\n",
    "            energy = features['energy']\n",
    "            liveness = features['liveness']\n",
    "            tempo = features['tempo']\n",
    "            instrumentalness = features['instrumentalness']\n",
    "            duration_ms = features['duration_ms']\n",
    "            ## Final API call to retrieve genres\n",
    "            genres = spotify.artist(track_info['artists'][0]['id'])['genres'] \n",
    "            \n",
    "            album_id = track_info['album']['id']\n",
    "            album = spotify.album(album_id)\n",
    "            release_year = album['release_date'][:4]\n",
    "            \n",
    "            ## Appending lists to track_date list \n",
    "            track_data.append([track_name, track_artists, track_album, track_popularity, play_count, track_url,\n",
    "                               acousticness, danceability, loudness, valence, energy, liveness,tempo,explicit, instrumentalness,\n",
    "                               duration_ms, genres, release_year])\n",
    "\n",
    "        offset += limit\n",
    "    \n",
    "    ## Setting preferred column names for the final dataframe output from API calls  \n",
    "    columns = ['Title', 'Artist', 'Album', 'Popularity', 'Play Count', 'Track URL', 'Acousticness',\n",
    "               'Danceability', 'Loudness', 'Valence', 'Energy', 'Liveness','Tempo','Explicit', 'Instrumentalness', 'Duration (ms)', 'Genres',\n",
    "               'Release Year']\n",
    "    \n",
    "    df = pd.DataFrame(track_data, columns=columns)\n",
    "    return df"
   ]
  },
  {
   "cell_type": "code",
   "execution_count": null,
   "id": "83f02e66",
   "metadata": {},
   "outputs": [],
   "source": [
    "playlist_id = '37i9dQZF1DWWKd15PHZNnl'\n",
    "playlist_1997 = get_playlist_data(spotify,playlist_id)\n",
    "playlist_1997"
   ]
  },
  {
   "cell_type": "code",
   "execution_count": null,
   "id": "3758ceec",
   "metadata": {},
   "outputs": [],
   "source": [
    "playlist1997=playlist_1997.drop(columns=('Release Year'))\n",
    "playlist1997['Release Year']=1997\n",
    "playlist1997"
   ]
  }
 ],
 "metadata": {
  "kernelspec": {
   "display_name": "Python 3 (ipykernel)",
   "language": "python",
   "name": "python3"
  },
  "language_info": {
   "codemirror_mode": {
    "name": "ipython",
    "version": 3
   },
   "file_extension": ".py",
   "mimetype": "text/x-python",
   "name": "python",
   "nbconvert_exporter": "python",
   "pygments_lexer": "ipython3",
   "version": "3.10.9"
  }
 },
 "nbformat": 4,
 "nbformat_minor": 5
}

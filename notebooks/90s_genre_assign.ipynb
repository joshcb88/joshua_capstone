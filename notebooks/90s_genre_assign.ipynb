{
 "cells": [
  {
   "cell_type": "code",
   "execution_count": null,
   "id": "db11d289",
   "metadata": {},
   "outputs": [],
   "source": [
    "import pandas as pd\n",
    "import numpy as np"
   ]
  },
  {
   "cell_type": "code",
   "execution_count": null,
   "id": "03352492",
   "metadata": {},
   "outputs": [],
   "source": [
    "nineties=pd.read_csv('../data/merged_years/genres_csvs/1990s_cleanedup.csv', nrows=1000)"
   ]
  },
  {
   "cell_type": "code",
   "execution_count": null,
   "id": "ad9b3dd8",
   "metadata": {
    "scrolled": true
   },
   "outputs": [],
   "source": [
    "nineties"
   ]
  },
  {
   "cell_type": "code",
   "execution_count": null,
   "id": "f0f0e0f0",
   "metadata": {},
   "outputs": [],
   "source": [
    "nineties=nineties.drop(columns=['Unnamed: 0','Artist','Genres','Sub_Genres'])"
   ]
  },
  {
   "cell_type": "code",
   "execution_count": null,
   "id": "2ab9d7e1",
   "metadata": {},
   "outputs": [],
   "source": [
    "nineties=nineties.rename(columns={'Sub_Genres_Trimmed':'Sub_Genre', 'Genres_cleaned':'Genres','Artist_Replace':'Artist'})"
   ]
  },
  {
   "cell_type": "code",
   "execution_count": null,
   "id": "58e36ecb",
   "metadata": {},
   "outputs": [],
   "source": [
    "nineties"
   ]
  },
  {
   "cell_type": "code",
   "execution_count": null,
   "id": "6bc6d3d4",
   "metadata": {},
   "outputs": [],
   "source": [
    "nineties.loc[nineties['Artist']=='Amy Grant']"
   ]
  },
  {
   "cell_type": "code",
   "execution_count": null,
   "id": "7586d928",
   "metadata": {},
   "outputs": [],
   "source": [
    "pd.set_option('display.max_rows', None)"
   ]
  },
  {
   "cell_type": "code",
   "execution_count": null,
   "id": "91af3e64",
   "metadata": {},
   "outputs": [],
   "source": [
    "nineties['Sub_Genre'].value_counts()"
   ]
  },
  {
   "cell_type": "code",
   "execution_count": null,
   "id": "37297ed2",
   "metadata": {},
   "outputs": [],
   "source": [
    "def get_broad_category(sub_category):\n",
    "    if sub_category == 'europop':\n",
    "         return \"Pop\"\n",
    "    if sub_category == 'new wave pop':\n",
    "         return \"Pop\"\n",
    "    if sub_category == 'gangster rap':\n",
    "         return \"Hip-Hop\"\n",
    "    if sub_category == 'contemporary r&b':\n",
    "         return \"R&B\"\n",
    "    if sub_category == 'pop':\n",
    "         return \"Pop\"\n",
    "    if sub_category == 'new wave pop':\n",
    "         return \"Pop\"\n",
    "    if sub_category == 'permanent wave':\n",
    "         return \"Rock\"\n",
    "    if sub_category == 'eurodance':\n",
    "         return \"Dance\"\n",
    "    if sub_category == 'r&b':\n",
    "         return \"R&B\"\n",
    "    if sub_category == 'pop rock':\n",
    "         return \"Rock\"\n",
    "    if sub_category == 'classic rock':\n",
    "         return \"Rock\"\n",
    "    if sub_category == 'soft rock':\n",
    "         return \"Pop\"\n",
    "    if sub_category == 'girl group':\n",
    "         return \"R&B\"\n",
    "    if sub_category == 'new jack swing':\n",
    "         return \"R&B\"\n",
    "    if sub_category == 'britpop':\n",
    "         return \"Pop\"\n",
    "    if sub_category == 'hard rock':\n",
    "         return \"Rock\"\n",
    "    if sub_category == 'dance rock':\n",
    "         return \"Rock\"\n",
    "    if sub_category == 'hip house':\n",
    "         return \"EDM\"\n",
    "    if sub_category == 'boy band':\n",
    "         return \"Pop\"\n",
    "    if sub_category == 'mellow gold':\n",
    "         return \"Pop\"\n",
    "    if sub_category == 'soft rock':\n",
    "         return \"Pop\"\n",
    "    if sub_category == 'east coast hip hop':\n",
    "         return \"Hip-Hop\"\n",
    "    if sub_category == 'rock':\n",
    "         return \"Rock\"\n",
    "    if sub_category == 'hip hop':\n",
    "         return \"Hip-Hop\"\n",
    "    if sub_category == 'canadian pop':\n",
    "         return \"Pop\"\n",
    "    if sub_category == 'canadian singer-songwriter':\n",
    "         return \"Hip-Hop\"\n",
    "    if sub_category == 'funk metal':\n",
    "         return \"Rock\"\n",
    "    if sub_category == 'soul':\n",
    "         return \"Soul\"\n",
    "    if sub_category == 'golden age hip hop':\n",
    "         return \"Hip-Hop\"\n",
    "    if sub_category == 'electronica':\n",
    "         return \"Electronic\"\n",
    "    if sub_category == 'diva house':\n",
    "         return \"Dance\"\n",
    "    if sub_category == 'new romantic':\n",
    "         return \"Alternative\"\n",
    "    if sub_category == 'swedish pop':\n",
    "         return \"Pop\"\n",
    "    if sub_category == 'hardcore hip hop':\n",
    "         return \"Hip-Hop\"\n",
    "    if sub_category == 'reggaie fusion':\n",
    "         return \"Reggae\"\n",
    "    if sub_category == 'glam metal':\n",
    "         return \"Heavy Metal\"\n",
    "    if sub_category == 'new wave':\n",
    "         return \"Pop\"\n",
    "    if sub_category == 'german techno':\n",
    "         return \"Techno\"\n",
    "    if sub_category == 'grunge':\n",
    "         return \"Rock\"\n",
    "    if sub_category == 'ectofolk':\n",
    "         return \"Pop\"\n",
    "    if sub_category == 'melancholia':\n",
    "         return \"Pop\"\n",
    "    if sub_category == 'funk rock':\n",
    "         return \"Rock\"\n",
    "    if sub_category == 'post-grunge':\n",
    "         return \"Rock\"\n",
    "    if sub_category == 'athens indie':\n",
    "         return \"Rock\"\n",
    "    if sub_category == 'metal':\n",
    "         return \"Heavy Metal\"\n",
    "    if sub_category == 'pop rap':\n",
    "         return \"Pop\"\n",
    "    if sub_category == 'modern rock':\n",
    "         return \"Rock\"\n",
    "    if sub_category == 'british soul':\n",
    "         return \"Soul\"\n",
    "    if sub_category == 'country':\n",
    "         return \"Country\"\n",
    "    if sub_category == 'christian music':\n",
    "         return \"Gospel\"\n",
    "    if sub_category == 'conscious hip hop':\n",
    "         return \"Hip-Hop\"\n",
    "    if sub_category == 'lilith':\n",
    "         return \"Folk\"\n",
    "    if sub_category == 'electric blues':\n",
    "         return \"Blues\"\n",
    "    if sub_category == 'g funk':\n",
    "         return \"Hip-Hop\"\n",
    "    if sub_category == 'blues rock':\n",
    "         return \"Rock\"\n",
    "    if sub_category == 'german hard rock':\n",
    "         return \"Rock\"\n",
    "    if sub_category == 'old school hip hop':\n",
    "         return \"Hip-Hop\"\n",
    "    if sub_category == 'uk reggae':\n",
    "         return \"Reggae\"\n",
    "    if sub_category == 'glam rock':\n",
    "         return \"Rock\"\n",
    "    if sub_category == 'latin pop':\n",
    "         return \"Pop\"\n",
    "    if sub_category == 'classic canadian rock':\n",
    "         return \"Rock\"\n",
    "    if sub_category == 'madchester':\n",
    "         return \"Dance\"\n",
    "    if sub_category == 'neo soul':\n",
    "         return \"Soul\"\n",
    "    if sub_category == 'operatic pop':\n",
    "         return \"Pop\"\n",
    "    if sub_category == 'jam band':\n",
    "         return \"Blues\"\n",
    "    if sub_category == 'miami hip hop':\n",
    "         return \"Hip-Hop\"\n",
    "    if sub_category == 'jam band':\n",
    "         return \"Blues\"\n",
    "    if sub_category == 'miami hip hop':\n",
    "         return \"Hip-Hop\"\n",
    "    if sub_category == 'disco house':\n",
    "         return \"Disco\"\n",
    "    if sub_category == 'australian rock':\n",
    "         return \"Rock\"\n",
    "    if sub_category == 'big beat':\n",
    "         return \"EDM\"\n",
    "    if sub_category == 'comic':\n",
    "         return \"Alternative\"\n",
    "    if sub_category == 'canadian rock':\n",
    "         return \"Rock\"\n",
    "    if sub_category == 'downtempo':\n",
    "         return \"Trip-Hop\"\n",
    "    if sub_category == 'queens hip hop':\n",
    "         return \"Hip-Hop\"\n",
    "    if sub_category == 'filter house':\n",
    "         return \"Electronic\"\n",
    "    if sub_category == 'art rock':\n",
    "         return \"Rock\"\n",
    "    if sub_category == 'mexican pop':\n",
    "         return \"Pop\"\n",
    "    if sub_category == 'classic house':\n",
    "         return \"Rock\"\n",
    "    if sub_category == 'heartland rock':\n",
    "         return \"Rock\"\n",
    "    if sub_category == 'miami bass':\n",
    "         return \"Hip-Hop\"\n",
    "    if sub_category == 'nu metal':\n",
    "         return \"Heavy Metal\"\n",
    "    if sub_category == 'west end':\n",
    "         return \"Soundtrack\"\n",
    "    if sub_category == 'reggae':\n",
    "         return \"reggae\"\n",
    "    if sub_category == 'brit funk':\n",
    "         return \"reggae\"\n",
    "    if sub_category == 'quiet storm':\n",
    "         return \"R&B\"\n",
    "    if sub_category == 'album rock':\n",
    "         return \"Rock\"\n",
    "    if sub_category == 'modern power pop':\n",
    "         return \"Pop\"\n",
    "    if sub_category == 'cymraeg':\n",
    "         return \"Pop\"\n",
    "    if sub_category == 'modern alternative rock':\n",
    "         return \"Rock\"\n",
    "    if sub_category == 'contemporary country':\n",
    "         return \"Classical\"\n",
    "    if sub_category == 'crunk':\n",
    "         return \"Hip-Hop\"\n",
    "    if sub_category == 'electropop':\n",
    "         return \"Pop\"\n",
    "    if sub_category == 'german pop rock':\n",
    "         return \"Rock\"\n",
    "    if sub_category == 'new jersey rap':\n",
    "         return \"Hip-Hop\"\n",
    "    if sub_category == 'deep house':\n",
    "         return \"Electronic\"\n",
    "    if sub_category == 'roots reggae':\n",
    "         return \"R&B\"\n",
    "    if sub_category == 'roots reggae':\n",
    "         return \"R&B\"\n",
    "    if sub_category == 'smooth jazz':\n",
    "         return \"R&B\"\n",
    "    if sub_category == 'italo dance':\n",
    "         return \"Dance\"\n",
    "    if sub_category == 'danish pop rock':\n",
    "         return \"Pop\"\n",
    "    if sub_category == 'danish pop rock':\n",
    "         return \"Pop\"\n",
    "    if sub_category == 'bubblegum dance':\n",
    "         return \"Dance\"\n",
    "    if sub_category == 'neo mellow':\n",
    "         return \"Pop\"\n",
    "    if sub_category == 'talent show':\n",
    "         return \"Pop\"\n",
    "    if sub_category == 'talent show':\n",
    "         return \"Pop\"\n",
    "    if sub_category == 'pittsburgh rock':\n",
    "         return \"Rock\"\n",
    "    if sub_category == 'jangle pop':\n",
    "         return \"Pop\"\n",
    "    if sub_category == 'c86':\n",
    "         return \"Rock\"\n",
    "    if sub_category == 'frankfurt electronic':\n",
    "         return \"EDM\"\n",
    "    if sub_category == 'funana':\n",
    "         return \"Hip-Hop\"\n",
    "    if sub_category == 'anti-folk':\n",
    "         return \"Rock\"\n",
    "    if sub_category == 'gregorian dance':\n",
    "         return \"Pop\"\n",
    "    if sub_category == 'rock keyboard':\n",
    "         return \"Rock\"\n",
    "    if sub_category == 'indie rock':\n",
    "         return \"Rock\"\n",
    "    if sub_category == 'acid jazz':\n",
    "         return \"Jazz\"\n",
    "    if sub_category == 'australian pop':\n",
    "         return \"Pop\"\n",
    "    if sub_category == 'jazz rap':\n",
    "         return \"Hip-Hop\"\n",
    "    if sub_category == 'mbalax':\n",
    "         return \"R&B\"\n",
    "    if sub_category == 'oakland hip hop':\n",
    "         return \"Hip-Hop\"\n",
    "    if sub_category == 'scottish new wave':\n",
    "         return \"Pop\"\n",
    "    if sub_category == 'west coast rap':\n",
    "         return \"Hip-Hop\"\n",
    "    if sub_category == 'british invasion':\n",
    "         return \"Rock\"\n",
    "    if sub_category == 'british blues':\n",
    "         return \"Blues\"\n",
    "    if sub_category == 'nz pop':\n",
    "         return \"Pop\"\n",
    "    if sub_category == 'tropical':\n",
    "         return \"Dance\"\n",
    "    if sub_category == 'breakbeat':\n",
    "         return \"EDM\"\n",
    "    if sub_category == 'dream trance':\n",
    "         return \"EDM\"\n",
    "    if sub_category == 'dream trance':\n",
    "         return \"EDM\"\n",
    "    if sub_category == 'grebo':\n",
    "         return \"Rock\"\n",
    "    if sub_category == 'industrial':\n",
    "         return \"Heavy Metal\"\n",
    "    if sub_category == 'alternative r&b':\n",
    "         return \"R&B\"\n",
    "    if sub_category == 'anarcho-punk':\n",
    "         return \"Punk\"\n",
    "    if sub_category == 'derby indie':\n",
    "         return \"Pop\"\n",
    "    if sub_category == 'vocal house':\n",
    "         return \"EDM\"\n",
    "    if sub_category == 'ambient house':\n",
    "         return \"EDM\"\n",
    "    if sub_category == 'edm':\n",
    "         return \"EDM\"\n",
    "    if sub_category == 'alternative rock':\n",
    "         return \"Rock\"\n",
    "    if sub_category == 'dance pop':\n",
    "         return \"Pop\"\n",
    "    if sub_category == 'hip hop':\n",
    "         return \"Hip-Hop\"\n",
    "    if sub_category == 'dance':\n",
    "         return \"Dance\"\n",
    "    if sub_category == 'reggae fusion':\n",
    "         return \"Reggae\"\n",
    "    if sub_category == 'reggae fusion':\n",
    "         return \"Reggae\"\n",
    "    if sub_category == 'blues':\n",
    "         return \"Blues\"\n",
    "    if sub_category == 'rap':\n",
    "         return \"RHip-Hop\"\n",
    "    if sub_category == 'country rock':\n",
    "         return \"Country\"\n",
    "    if sub_category == 'sophisti-pop':\n",
    "         return \"Pop\"\n",
    "    if sub_category == 'french pop':\n",
    "         return \"Pop\"\n",
    "    if sub_category == 'christian punk':\n",
    "         return \"Rock\"\n",
    "    if sub_category == 'classic uk pop':\n",
    "         return \"Pop\"\n",
    "    if sub_category == 'alternative roots rock':\n",
    "         return \"Rock\"\n",
    "    if sub_category == 'alternative roots rock':\n",
    "         return \"Rock\"\n",
    "    if sub_category == 'hip pop':\n",
    "         return \"Pop\"\n",
    "    if sub_category == 'garage house':\n",
    "         return \"EDM\"\n",
    "    if sub_category == 'garage house':\n",
    "         return \"EDM\"\n",
    "    if sub_category == 'uk garage':\n",
    "         return \"R&B\"\n",
    "    else:\n",
    "        return 'Other'"
   ]
  },
  {
   "cell_type": "code",
   "execution_count": null,
   "id": "75cf5b67",
   "metadata": {},
   "outputs": [],
   "source": [
    "nineties['Main Genre'] = nineties['Sub_Genre'].apply(get_broad_category)"
   ]
  },
  {
   "cell_type": "code",
   "execution_count": null,
   "id": "5148cf9b",
   "metadata": {},
   "outputs": [],
   "source": [
    "nineties.loc[nineties['Main Genre']=='Other']"
   ]
  },
  {
   "cell_type": "code",
   "execution_count": null,
   "id": "2dc116eb",
   "metadata": {},
   "outputs": [],
   "source": [
    "nineties.loc[nineties['Artist']=='Spice Girls', 'Main Genre']='Pop'"
   ]
  },
  {
   "cell_type": "code",
   "execution_count": null,
   "id": "499d427a",
   "metadata": {},
   "outputs": [],
   "source": [
    "nineties.loc[nineties['Artist']=='Chris Isaak', 'Main Genre']='Rock'"
   ]
  },
  {
   "cell_type": "code",
   "execution_count": null,
   "id": "94c5090d",
   "metadata": {},
   "outputs": [],
   "source": [
    "nineties.loc[nineties['Artist']=='Bruce Springsteen', 'Main Genre']='Rock'"
   ]
  },
  {
   "cell_type": "code",
   "execution_count": null,
   "id": "974901c4",
   "metadata": {},
   "outputs": [],
   "source": [
    "nineties.loc[nineties['Artist']=='Sarah McLachlan', 'Main Genre']='Pop'"
   ]
  },
  {
   "cell_type": "code",
   "execution_count": null,
   "id": "812a799f",
   "metadata": {},
   "outputs": [],
   "source": [
    "nineties.loc[nineties['Artist']=='Nelson', 'Main Genre']='Rock'"
   ]
  },
  {
   "cell_type": "code",
   "execution_count": null,
   "id": "2ff990dd",
   "metadata": {},
   "outputs": [],
   "source": [
    "nineties.loc[nineties['Artist']=='Orchestral Manoeuvres In The Dark', 'Main Genre']='EDM'"
   ]
  },
  {
   "cell_type": "code",
   "execution_count": null,
   "id": "e92d8587",
   "metadata": {},
   "outputs": [],
   "source": [
    "nineties.loc[nineties['Artist']=='Eels', 'Main Genre']='Rock'"
   ]
  },
  {
   "cell_type": "code",
   "execution_count": null,
   "id": "1ce86ad9",
   "metadata": {},
   "outputs": [],
   "source": [
    "nineties.loc[nineties['Artist']=='Shaggy', 'Main Genre']='Reggae'\n",
    "nineties.loc[nineties['Artist']=='Shaggy & Rayvon', 'Main Genre']='Reggae'"
   ]
  },
  {
   "cell_type": "code",
   "execution_count": null,
   "id": "4027db1b",
   "metadata": {},
   "outputs": [],
   "source": [
    "nineties['Main Genre'].value_counts()"
   ]
  },
  {
   "cell_type": "code",
   "execution_count": null,
   "id": "9355e2d5",
   "metadata": {},
   "outputs": [],
   "source": [
    "nineties=nineties[['Title','Artist','Album','Popularity','Play Count','Track URL','Acousticness','Danceability','Loudness','Valence','Energy','Liveness','Tempo','Explicit','Instrumentalness','Duration (ms)','Genres','Sub_Genre','Main Genre','Release Year']]"
   ]
  },
  {
   "cell_type": "code",
   "execution_count": null,
   "id": "770e026d",
   "metadata": {},
   "outputs": [],
   "source": [
    "nineties.info()"
   ]
  },
  {
   "cell_type": "code",
   "execution_count": null,
   "id": "7e97d97a",
   "metadata": {},
   "outputs": [],
   "source": [
    "null_rows = nineties[nineties.isnull().any(axis=1)]"
   ]
  },
  {
   "cell_type": "code",
   "execution_count": null,
   "id": "c4672f04",
   "metadata": {},
   "outputs": [],
   "source": [
    "null_rows"
   ]
  },
  {
   "cell_type": "code",
   "execution_count": null,
   "id": "116fd0a9",
   "metadata": {},
   "outputs": [],
   "source": [
    "row_number = 999\n",
    "nineties= nineties.drop(nineties.index[row_number])"
   ]
  },
  {
   "cell_type": "code",
   "execution_count": null,
   "id": "4116e224",
   "metadata": {},
   "outputs": [],
   "source": [
    "nineties"
   ]
  },
  {
   "cell_type": "code",
   "execution_count": null,
   "id": "6de8c366",
   "metadata": {},
   "outputs": [],
   "source": [
    "nineties.info()"
   ]
  },
  {
   "cell_type": "code",
   "execution_count": null,
   "id": "f46608b3",
   "metadata": {},
   "outputs": [],
   "source": [
    "nineties.to_csv('../data/merged_years/full_cleans/nineties.csv')"
   ]
  },
  {
   "cell_type": "code",
   "execution_count": null,
   "id": "05b5856a",
   "metadata": {},
   "outputs": [],
   "source": []
  }
 ],
 "metadata": {
  "kernelspec": {
   "display_name": "Python 3 (ipykernel)",
   "language": "python",
   "name": "python3"
  },
  "language_info": {
   "codemirror_mode": {
    "name": "ipython",
    "version": 3
   },
   "file_extension": ".py",
   "mimetype": "text/x-python",
   "name": "python",
   "nbconvert_exporter": "python",
   "pygments_lexer": "ipython3",
   "version": "3.10.9"
  }
 },
 "nbformat": 4,
 "nbformat_minor": 5
}

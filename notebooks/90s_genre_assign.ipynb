{
 "cells": [
  {
   "cell_type": "code",
   "execution_count": null,
   "id": "db11d289",
   "metadata": {},
   "outputs": [],
   "source": [
    "import pandas as pd\n",
    "import numpy as np"
   ]
  },
  {
   "cell_type": "code",
   "execution_count": null,
   "id": "03352492",
   "metadata": {},
   "outputs": [],
   "source": [
    "nineties=pd.read_csv('../data/merged_years/genres_csvs/1990s_cleanedup.csv', nrows=1000)"
   ]
  },
  {
   "cell_type": "code",
   "execution_count": null,
   "id": "ad9b3dd8",
   "metadata": {},
   "outputs": [],
   "source": [
    "nineties"
   ]
  },
  {
   "cell_type": "code",
   "execution_count": null,
   "id": "f0f0e0f0",
   "metadata": {},
   "outputs": [],
   "source": [
    "nineties=nineties.drop(columns=['Unnamed: 0.1','Unnamed: 0','Artist','Genres','Sub_Genre'])"
   ]
  },
  {
   "cell_type": "code",
   "execution_count": null,
   "id": "2ab9d7e1",
   "metadata": {},
   "outputs": [],
   "source": [
    "nineties=nineties.rename(columns={'Sub_Genres_Trimmed':'Sub_Genre', 'Genres_cleaned':'Genres','Artist_Replace':'Artist'})"
   ]
  },
  {
   "cell_type": "code",
   "execution_count": null,
   "id": "58e36ecb",
   "metadata": {},
   "outputs": [],
   "source": [
    "nineties"
   ]
  },
  {
   "cell_type": "code",
   "execution_count": null,
   "id": "43110f65",
   "metadata": {},
   "outputs": [],
   "source": [
    "nineties=nineties.rename(columns={'Sub_Genre_Trimmed':'Sub_Genre'})"
   ]
  },
  {
   "cell_type": "code",
   "execution_count": null,
   "id": "3a16c720",
   "metadata": {},
   "outputs": [],
   "source": [
    "nineties"
   ]
  },
  {
   "cell_type": "code",
   "execution_count": null,
   "id": "7586d928",
   "metadata": {},
   "outputs": [],
   "source": [
    "pd.set_option('display.max_rows', None)"
   ]
  },
  {
   "cell_type": "code",
   "execution_count": null,
   "id": "91af3e64",
   "metadata": {},
   "outputs": [],
   "source": [
    "nineties['Sub_Genre'].value_counts()"
   ]
  },
  {
   "cell_type": "code",
   "execution_count": null,
   "id": "37297ed2",
   "metadata": {},
   "outputs": [],
   "source": [
    "def get_broad_category(sub_category):\n",
    "    if sub_category == 'europop':\n",
    "         return \"Pop\"\n",
    "    if sub_category == 'new wave pop':\n",
    "         return \"Pop\""
   ]
  }
 ],
 "metadata": {
  "kernelspec": {
   "display_name": "Python 3 (ipykernel)",
   "language": "python",
   "name": "python3"
  },
  "language_info": {
   "codemirror_mode": {
    "name": "ipython",
    "version": 3
   },
   "file_extension": ".py",
   "mimetype": "text/x-python",
   "name": "python",
   "nbconvert_exporter": "python",
   "pygments_lexer": "ipython3",
   "version": "3.10.9"
  }
 },
 "nbformat": 4,
 "nbformat_minor": 5
}

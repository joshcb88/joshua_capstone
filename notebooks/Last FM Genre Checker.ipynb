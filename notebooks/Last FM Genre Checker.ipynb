{
 "cells": [
  {
   "cell_type": "code",
   "execution_count": 21,
   "id": "51ecc9fe",
   "metadata": {},
   "outputs": [],
   "source": [
    "import requests\n",
    "import pandas as pd\n",
    "import json"
   ]
  },
  {
   "cell_type": "code",
   "execution_count": 22,
   "id": "15eea5ec",
   "metadata": {},
   "outputs": [],
   "source": [
    "def get_api_key():\n",
    "    with open('../data/Last FM.json') as api_file:\n",
    "        data = json.load(api_file)\n",
    "        return data['api_key']"
   ]
  },
  {
   "cell_type": "code",
   "execution_count": null,
   "id": "f5acd276",
   "metadata": {},
   "outputs": [],
   "source": [
    "def get_artist_genre(api_key, artist_name):\n",
    "    url = f\"http://ws.audioscrobbler.com/2.0/?method=artist.getinfo&artist={artist_name}&api_key={api_key}&format=json\"\n",
    "    response = requests.get(url)\n",
    "    data = response.json()\n",
    "\n",
    "    if \"error\" in data:\n",
    "        raise Exception(f\"Error: {data['message']}\")\n",
    "\n",
    "    # Extract genres from the response\n",
    "    genres = data['artist']['tags']['tag']\n",
    "    genre_list = [genre['name'] for genre in genres]\n",
    "\n",
    "    print(f\"\\nGenres:\\n\")\n",
    "    for genre in genre_list:\n",
    "        print(genre)"
   ]
  },
  {
   "cell_type": "code",
   "execution_count": null,
   "id": "09d6cc8c",
   "metadata": {},
   "outputs": [],
   "source": [
    "def main():\n",
    "    artist_name = input(\"Enter Artist: \")\n",
    "    api_key = get_api_key()\n",
    "\n",
    "    try:\n",
    "        get_artist_genre(api_key, artist_name)\n",
    "    except Exception as e:\n",
    "        print(\"Error:\", e)"
   ]
  },
  {
   "cell_type": "code",
   "execution_count": null,
   "id": "9aeb011a",
   "metadata": {},
   "outputs": [],
   "source": [
    "if __name__ == \"__main__\":\n",
    "    main()"
   ]
  }
 ],
 "metadata": {
  "kernelspec": {
   "display_name": "Python 3 (ipykernel)",
   "language": "python",
   "name": "python3"
  },
  "language_info": {
   "codemirror_mode": {
    "name": "ipython",
    "version": 3
   },
   "file_extension": ".py",
   "mimetype": "text/x-python",
   "name": "python",
   "nbconvert_exporter": "python",
   "pygments_lexer": "ipython3",
   "version": "3.10.9"
  }
 },
 "nbformat": 4,
 "nbformat_minor": 5
}

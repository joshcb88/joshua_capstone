{
 "cells": [
  {
   "cell_type": "code",
   "execution_count": null,
   "id": "51ecc9fe",
   "metadata": {},
   "outputs": [],
   "source": [
    "import requests\n",
    "import pandas as pd\n",
    "import json"
   ]
  },
  {
   "cell_type": "code",
   "execution_count": null,
   "id": "15eea5ec",
   "metadata": {},
   "outputs": [],
   "source": [
    "with open('../data/Last FM.json') as api_file:\n",
    "    api = json.load(api_file)\n",
    "    api_key = api['api_key']"
   ]
  },
  {
   "cell_type": "markdown",
   "id": "bd6a1155",
   "metadata": {},
   "source": [
    "## Defined function to search for genres for artist that Spoity API did not return a genre for"
   ]
  },
  {
   "cell_type": "code",
   "execution_count": null,
   "id": "f5acd276",
   "metadata": {},
   "outputs": [],
   "source": [
    "def get_artist_genre(artist_name):\n",
    "    url = \"http://ws.audioscrobbler.com/2.0/?method=artist.getinfo&artist=\"+ artist_name + \"&api_key=\" + api_key + \"&format=json\"\n",
    "    response = requests.get(url)\n",
    "    result = response.json()\n",
    "    genres = [tag['name'] \n",
    "    for tag in result.get('artist', {}).get('tags', {}).get('tag', [])]\n",
    "    return genres"
   ]
  },
  {
   "cell_type": "code",
   "execution_count": null,
   "id": "89f2e71b",
   "metadata": {},
   "outputs": [],
   "source": [
    "artist_name =\"\"\n",
    "get_artist_genre(artist_name)"
   ]
  },
  {
   "cell_type": "code",
   "execution_count": null,
   "id": "ece104e5",
   "metadata": {},
   "outputs": [],
   "source": []
  }
 ],
 "metadata": {
  "kernelspec": {
   "display_name": "Python 3 (ipykernel)",
   "language": "python",
   "name": "python3"
  },
  "language_info": {
   "codemirror_mode": {
    "name": "ipython",
    "version": 3
   },
   "file_extension": ".py",
   "mimetype": "text/x-python",
   "name": "python",
   "nbconvert_exporter": "python",
   "pygments_lexer": "ipython3",
   "version": "3.10.9"
  }
 },
 "nbformat": 4,
 "nbformat_minor": 5
}

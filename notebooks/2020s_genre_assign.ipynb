{
 "cells": [
  {
   "cell_type": "code",
   "execution_count": null,
   "id": "795c9c4e",
   "metadata": {},
   "outputs": [],
   "source": [
    "import pandas as pd\n",
    "import numpy as np"
   ]
  },
  {
   "cell_type": "code",
   "execution_count": null,
   "id": "b3006363",
   "metadata": {},
   "outputs": [],
   "source": [
    "the20s=pd.read_csv('../data/merged_years/genres_csvs/2020s_cleanedup.csv',nrows=337)"
   ]
  },
  {
   "cell_type": "code",
   "execution_count": null,
   "id": "5fa32767",
   "metadata": {},
   "outputs": [],
   "source": [
    "the20s=the20s.drop(columns=['Unnamed: 0','Artist','Genres','Sub_Genre'])"
   ]
  },
  {
   "cell_type": "code",
   "execution_count": null,
   "id": "4d02428a",
   "metadata": {},
   "outputs": [],
   "source": [
    "the20s=the20s.rename(columns={'Sub_Genre_Trimmed':'Sub_Genre', 'Genres_cleaned':'Genres','Artist_Replace':'Artist'})"
   ]
  },
  {
   "cell_type": "code",
   "execution_count": null,
   "id": "e8349274",
   "metadata": {},
   "outputs": [],
   "source": [
    "the20s"
   ]
  },
  {
   "cell_type": "code",
   "execution_count": null,
   "id": "d85c3ca9",
   "metadata": {},
   "outputs": [],
   "source": [
    "pd.set_option('display.max_rows', None)"
   ]
  },
  {
   "cell_type": "code",
   "execution_count": null,
   "id": "5c91b899",
   "metadata": {
    "scrolled": true
   },
   "outputs": [],
   "source": [
    "the20s['Sub_Genre'].value_counts()"
   ]
  },
  {
   "cell_type": "code",
   "execution_count": null,
   "id": "3c65d620",
   "metadata": {},
   "outputs": [],
   "source": [
    "def get_broad_category(sub_category):\n",
    "    if sub_category == 'pop':\n",
    "         return \"Pop\"\n",
    "    if sub_category == 'canadian pop':\n",
    "         return \"Pop\"\n",
    "    if sub_category == 'rap':\n",
    "        return \"Hip-Hop\"\n",
    "    if sub_category == 'melodic rap':\n",
    "        return \"Hip-Hop\"\n",
    "    if sub_category == 'trap latino':\n",
    "        return \"Hip-Hop\"\n",
    "    if sub_category == 'electropop':\n",
    "        return \"Pop\"\n",
    "    if sub_category == 'hip hop':\n",
    "        return \"Hip-Hop\"\n",
    "    if sub_category == 'lgbtq+ hip hop':\n",
    "        return \"Hip-Hop\"\n",
    "    if sub_category == 'post-teen pop':\n",
    "        return \"Pop\"\n",
    "    if sub_category == 'singer-songwriter pop':\n",
    "        return \"Pop\"\n",
    "    if sub_category == 'uk pop':\n",
    "        return \"Pop\"\n",
    "    if sub_category == 'dance pop':\n",
    "        return \"Pop\"\n",
    "    if sub_category == 'k-pop boy group':\n",
    "        return \"K-Pop\"\n",
    "    if sub_category == 'k-pop girl group':\n",
    "        return \"K-Pop\"\n",
    "    if sub_category == 'australian hip hop':\n",
    "        return \"Hip-Hop\"\n",
    "    if sub_category == 'reggaeton colombiano':\n",
    "        return \"Reggaeton\"\n",
    "    if sub_category == 'edm':\n",
    "        return \"EDM\"\n",
    "    if sub_category == 'mellow gold':\n",
    "        return \"Pop\"\n",
    "    if sub_category == 'alt z':\n",
    "        return \"Hip-Hop\"\n",
    "    if sub_category == 'pop dance':\n",
    "        return \"Pop\"\n",
    "    if sub_category == 'kentucky hip hop':\n",
    "        return \"Hip-Hop\"\n",
    "    if sub_category == 'modern alternative pop':\n",
    "        return \"Pop\"\n",
    "    if sub_category == 'pop rap':\n",
    "        return \"Hip-Hop\"\n",
    "    if sub_category == 'miami hip hop':\n",
    "        return \"Hip-Hop\"\n",
    "    if sub_category == 'trap queen':\n",
    "        return \"Hip-Hop\"\n",
    "    if sub_category == 'indietronica':\n",
    "        return \"Indie\"\n",
    "    if sub_category == 'cali rap':\n",
    "        return \"Hip-Hop\"\n",
    "    if sub_category == 'gen z singer-songwriter':\n",
    "        return \"Pop\"\n",
    "    if sub_category == 'k-pop':\n",
    "        return \"K-Pop\"\n",
    "    if sub_category == 'minnesota hip hop':\n",
    "        return \"Hip-Hop\"\n",
    "    if sub_category == 'italian pop':\n",
    "        return \"Pop\"\n",
    "    if sub_category == 'funk rj':\n",
    "        return \"Pop\"\n",
    "    if sub_category == 'bedroom soul':\n",
    "        return \"Soul\"\n",
    "    if sub_category == 'r&b en espanol':\n",
    "        return \"R&B\"\n",
    "    if sub_category == 'nz pop':\n",
    "        return \"Pop\"\n",
    "    if sub_category == 'viral rap':\n",
    "        return \"Hip-Hop\"\n",
    "    if sub_category == 'pop edm':\n",
    "        return \"Pop\"\n",
    "    if sub_category == 'electronic trap':\n",
    "        return \"Hip-Hop\"\n",
    "    if sub_category == 'nyc rap':\n",
    "        return \"Hip-Hop\"\n",
    "    if sub_category == 'movie tunes':\n",
    "        return \"Soundtrack\"\n",
    "    if sub_category == 'nigerian pop':\n",
    "        return \"Pop\"\n",
    "    if sub_category == 'art rock':\n",
    "        return \"Rock\"\n",
    "    if sub_category == 'art rock':\n",
    "        return \"Rock\"\n",
    "    if sub_category == 'indie poptimism':\n",
    "        return \"Rock\"\n",
    "    if sub_category == 'urbano chileno':\n",
    "        return \"Hip-Hop\"\n",
    "    if sub_category == 'latin viral pop':\n",
    "        return \"Pop\"\n",
    "    if sub_category == 'la indie':\n",
    "        return \"Rock\"\n",
    "    if sub_category == 'alternative hip hop':\n",
    "        return \"Hip-Hop\"\n",
    "    if sub_category == 'dutch pop':\n",
    "        return \"Pop\"\n",
    "    if sub_category == 'pop venezolano':\n",
    "        return \"Hip-Hop\"\n",
    "    if sub_category == 'afrofuturism':\n",
    "        return \"R&B\"\n",
    "    if sub_category == 'pittsburgh rap':\n",
    "        return \"Hip-Hop\"\n",
    "    if sub_category == 'metropopolis':\n",
    "        return \"Pop\"\n",
    "    if sub_category == 'afrobeats':\n",
    "        return \"R&B\"\n",
    "    if sub_category == 'sad rap':\n",
    "        return \"Hip-Hop\"\n",
    "    if sub_category == 'rap conscient':\n",
    "        return \"Hip-Hop\"\n",
    "    if sub_category == 'trap':\n",
    "        return \"Hip-Hop\"\n",
    "    if sub_category == 'r&b':\n",
    "        return \"R&B\"\n",
    "    if sub_category == 'slap house':\n",
    "        return \"Hip-Hop\"\n",
    "    if sub_category == 'canadian contemporary r&b':\n",
    "        return \"R&B\"\n",
    "    if sub_category == 'etherpop':\n",
    "        return \"Pop\"\n",
    "    if sub_category == 'australian pop':\n",
    "        return \"Pop\"\n",
    "    if sub_category == 'philly rap':\n",
    "        return \"Hip-Hop\"\n",
    "    if sub_category == 'bedroom pop':\n",
    "        return \"Pop\"\n",
    "    if sub_category == 'pop r&b':\n",
    "        return \"R&B\"\n",
    "    if sub_category == 'modern indie pop':\n",
    "        return \"Pop\"\n",
    "    if sub_category == 'latin pop':\n",
    "        return \"Pop\"\n",
    "    if sub_category == 'viral pop':\n",
    "        return \"Pop\"\n",
    "    if sub_category == 'pop urbaine':\n",
    "        return \"Pop\"\n",
    "    if sub_category == 'reggaeton':\n",
    "        return \"Reggaeton\"\n",
    "    if sub_category == 'colombian pop':\n",
    "        return \"Pop\"\n",
    "    if sub_category == 'brostep':\n",
    "        return \"EDM\"\n",
    "    if sub_category == 'melodic drill':\n",
    "        return \"Hip-Hop\"\n",
    "    if sub_category == 'rhode island rap':\n",
    "        return \"Hip-Hop\"\n",
    "    if sub_category == 'north carolina hip hop':\n",
    "        return \"Hip-Hop\"\n",
    "    else:\n",
    "        return \"Other\""
   ]
  },
  {
   "cell_type": "code",
   "execution_count": null,
   "id": "6a5c294b",
   "metadata": {},
   "outputs": [],
   "source": [
    "the20s['Main Genre'] = the20s['Sub_Genre'].apply(get_broad_category)"
   ]
  },
  {
   "cell_type": "code",
   "execution_count": null,
   "id": "5b8a2416",
   "metadata": {},
   "outputs": [],
   "source": [
    "the20s.loc[the20s['Main Genre']=='Other']"
   ]
  },
  {
   "cell_type": "code",
   "execution_count": null,
   "id": "168a7dbc",
   "metadata": {},
   "outputs": [],
   "source": [
    "the20s=the20s.drop(the20s.index[[135,236]])"
   ]
  },
  {
   "cell_type": "code",
   "execution_count": null,
   "id": "e405d0d6",
   "metadata": {},
   "outputs": [],
   "source": [
    "the20s=the20s[['Title','Artist','Album','Popularity','Play Count','Track URL','Acousticness','Danceability','Loudness','Valence','Energy','Liveness','Tempo','Explicit','Instrumentalness','Duration (ms)','Genres','Sub_Genre','Main Genre','Release Year']]"
   ]
  },
  {
   "cell_type": "code",
   "execution_count": null,
   "id": "a3e31117",
   "metadata": {},
   "outputs": [],
   "source": [
    "the20s.info()"
   ]
  },
  {
   "cell_type": "code",
   "execution_count": null,
   "id": "c850ee8d",
   "metadata": {
    "scrolled": true
   },
   "outputs": [],
   "source": [
    "the20s['Main Genre'].value_counts()"
   ]
  },
  {
   "cell_type": "code",
   "execution_count": null,
   "id": "ac10fca7",
   "metadata": {},
   "outputs": [],
   "source": [
    "the20s.to_csv('../data/merged_years/full_cleans/the20s.csv')"
   ]
  },
  {
   "cell_type": "code",
   "execution_count": null,
   "id": "3d7c244f",
   "metadata": {},
   "outputs": [],
   "source": []
  }
 ],
 "metadata": {
  "kernelspec": {
   "display_name": "Python 3 (ipykernel)",
   "language": "python",
   "name": "python3"
  },
  "language_info": {
   "codemirror_mode": {
    "name": "ipython",
    "version": 3
   },
   "file_extension": ".py",
   "mimetype": "text/x-python",
   "name": "python",
   "nbconvert_exporter": "python",
   "pygments_lexer": "ipython3",
   "version": "3.10.9"
  }
 },
 "nbformat": 4,
 "nbformat_minor": 5
}

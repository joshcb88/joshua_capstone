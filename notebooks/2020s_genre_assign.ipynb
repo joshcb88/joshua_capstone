{
 "cells": [
  {
   "cell_type": "code",
   "execution_count": null,
   "id": "795c9c4e",
   "metadata": {},
   "outputs": [],
   "source": [
    "import pandas as pd\n",
    "import numpy as np"
   ]
  },
  {
   "cell_type": "code",
   "execution_count": null,
   "id": "b3006363",
   "metadata": {},
   "outputs": [],
   "source": [
    "the20s=pd.read_csv('../data/merged_years/genres_csvs/2020s_cleanedup.csv',nrows=337)"
   ]
  },
  {
   "cell_type": "code",
   "execution_count": null,
   "id": "5fa32767",
   "metadata": {},
   "outputs": [],
   "source": [
    "the20s=the20s.drop(columns=['Unnamed: 0','Artist','Genres','Sub_Genre'])"
   ]
  },
  {
   "cell_type": "code",
   "execution_count": null,
   "id": "4d02428a",
   "metadata": {},
   "outputs": [],
   "source": [
    "the20s=the20s.rename(columns={'Sub_Genre_Trimmed':'Sub_Genre', 'Genres_cleaned':'Genres','Artist_Replace':'Artist'})"
   ]
  },
  {
   "cell_type": "code",
   "execution_count": null,
   "id": "e8349274",
   "metadata": {},
   "outputs": [],
   "source": [
    "the20s"
   ]
  },
  {
   "cell_type": "code",
   "execution_count": null,
   "id": "d85c3ca9",
   "metadata": {},
   "outputs": [],
   "source": [
    "pd.set_option('display.max_rows', None)"
   ]
  },
  {
   "cell_type": "code",
   "execution_count": null,
   "id": "5c91b899",
   "metadata": {
    "scrolled": true
   },
   "outputs": [],
   "source": [
    "the20s['Sub_Genre'].value_counts()"
   ]
  },
  {
   "cell_type": "code",
   "execution_count": null,
   "id": "3c65d620",
   "metadata": {},
   "outputs": [],
   "source": [
    "def get_broad_category(sub_category):\n",
    "    if sub_category == 'pop':\n",
    "         return \"Pop\"\n",
    "    if sub_category == 'canadian pop':\n",
    "         return \"Pop\"\n",
    "    if sub_category == 'rap':\n",
    "        return \"Rap\"\n",
    "    if sub_category == 'melodic rap':\n",
    "        return \"Rap\""
   ]
  }
 ],
 "metadata": {
  "kernelspec": {
   "display_name": "Python 3 (ipykernel)",
   "language": "python",
   "name": "python3"
  },
  "language_info": {
   "codemirror_mode": {
    "name": "ipython",
    "version": 3
   },
   "file_extension": ".py",
   "mimetype": "text/x-python",
   "name": "python",
   "nbconvert_exporter": "python",
   "pygments_lexer": "ipython3",
   "version": "3.10.9"
  }
 },
 "nbformat": 4,
 "nbformat_minor": 5
}

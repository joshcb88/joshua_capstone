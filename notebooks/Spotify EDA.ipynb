{
 "cells": [
  {
   "cell_type": "code",
   "execution_count": null,
   "id": "60e546dd",
   "metadata": {},
   "outputs": [],
   "source": [
    "import pandas as pd\n",
    "import numpy as np\n",
    "import matplotlib.pyplot as plt\n",
    "import seaborn as sns"
   ]
  },
  {
   "cell_type": "markdown",
   "id": "bbe9ded2",
   "metadata": {},
   "source": [
    "## Reading in and concating csv's"
   ]
  },
  {
   "cell_type": "code",
   "execution_count": null,
   "id": "a695702a",
   "metadata": {},
   "outputs": [],
   "source": [
    "spotify1 =pd.read_csv('../data/merged_years\\complete_genre_artist_cleans/fifties_complete.csv')"
   ]
  },
  {
   "cell_type": "code",
   "execution_count": null,
   "id": "85888d04",
   "metadata": {},
   "outputs": [],
   "source": [
    "spotify2 = pd.read_csv('../data/merged_years\\complete_genre_artist_cleans/sixties_complete.csv')"
   ]
  },
  {
   "cell_type": "code",
   "execution_count": null,
   "id": "78779332",
   "metadata": {},
   "outputs": [],
   "source": [
    "spotifytracks1=pd.concat([spotify1,spotify2])"
   ]
  },
  {
   "cell_type": "code",
   "execution_count": null,
   "id": "598b44d4",
   "metadata": {},
   "outputs": [],
   "source": [
    "spotifytracks1.info()"
   ]
  },
  {
   "cell_type": "code",
   "execution_count": null,
   "id": "46318436",
   "metadata": {},
   "outputs": [],
   "source": [
    "spotify3 =pd.read_csv('../data/merged_years\\complete_genre_artist_cleans/seventies_complete.csv')"
   ]
  },
  {
   "cell_type": "code",
   "execution_count": null,
   "id": "2d58af56",
   "metadata": {},
   "outputs": [],
   "source": [
    "spotify4 =pd.read_csv('../data/merged_years\\complete_genre_artist_cleans/eighties_complete.csv')"
   ]
  },
  {
   "cell_type": "code",
   "execution_count": null,
   "id": "d44509ec",
   "metadata": {},
   "outputs": [],
   "source": [
    "spotifytracks2=pd.concat([spotify3,spotify4])"
   ]
  },
  {
   "cell_type": "code",
   "execution_count": null,
   "id": "cc89d133",
   "metadata": {},
   "outputs": [],
   "source": [
    "spotifytracks2.info()"
   ]
  },
  {
   "cell_type": "code",
   "execution_count": null,
   "id": "8f0b83c2",
   "metadata": {},
   "outputs": [],
   "source": [
    "spotify5 =pd.read_csv('../data/merged_years\\complete_genre_artist_cleans/nineties_completed.csv')"
   ]
  },
  {
   "cell_type": "code",
   "execution_count": null,
   "id": "517ca324",
   "metadata": {},
   "outputs": [],
   "source": [
    "spotify6 =pd.read_csv('../data/merged_years\\complete_genre_artist_cleans/twothousands_completed.csv')"
   ]
  },
  {
   "cell_type": "code",
   "execution_count": null,
   "id": "2bb2ea16",
   "metadata": {},
   "outputs": [],
   "source": [
    "spotifytracks3=pd.concat([spotify5,spotify6])"
   ]
  },
  {
   "cell_type": "code",
   "execution_count": null,
   "id": "9daf1efe",
   "metadata": {},
   "outputs": [],
   "source": [
    "spotifytracks3.info()"
   ]
  },
  {
   "cell_type": "code",
   "execution_count": null,
   "id": "119fe770",
   "metadata": {},
   "outputs": [],
   "source": [
    "spotify7 =pd.read_csv('../data/merged_years\\complete_genre_artist_cleans/thousandteen_complete.csv')"
   ]
  },
  {
   "cell_type": "code",
   "execution_count": null,
   "id": "95d9b8d2",
   "metadata": {},
   "outputs": [],
   "source": [
    "spotify8 =pd.read_csv('../data/merged_years\\complete_genre_artist_cleans/the20s_complete.csv')"
   ]
  },
  {
   "cell_type": "code",
   "execution_count": null,
   "id": "d32f07e4",
   "metadata": {},
   "outputs": [],
   "source": [
    "spotifytracks4=pd.concat([spotify7,spotify8])"
   ]
  },
  {
   "cell_type": "code",
   "execution_count": null,
   "id": "f4833bb9",
   "metadata": {},
   "outputs": [],
   "source": [
    "spotifytracks4.info()"
   ]
  },
  {
   "cell_type": "code",
   "execution_count": null,
   "id": "b2ecadbb",
   "metadata": {},
   "outputs": [],
   "source": [
    "spotify_merged = pd.concat([spotifytracks1,spotifytracks2])"
   ]
  },
  {
   "cell_type": "code",
   "execution_count": null,
   "id": "ea130613",
   "metadata": {},
   "outputs": [],
   "source": [
    "spotify_merged.info()"
   ]
  },
  {
   "cell_type": "code",
   "execution_count": null,
   "id": "53244142",
   "metadata": {},
   "outputs": [],
   "source": [
    "sptofiy_merge2=pd.concat([spotifytracks3,spotifytracks4])"
   ]
  },
  {
   "cell_type": "code",
   "execution_count": null,
   "id": "a2fec380",
   "metadata": {
    "scrolled": true
   },
   "outputs": [],
   "source": [
    "sptofiy_merge2.info()"
   ]
  },
  {
   "cell_type": "code",
   "execution_count": null,
   "id": "4c1d8cc4",
   "metadata": {},
   "outputs": [],
   "source": [
    "spotifytracks=pd.concat([spotify_merged,sptofiy_merge2])"
   ]
  },
  {
   "cell_type": "code",
   "execution_count": null,
   "id": "8ee40938",
   "metadata": {
    "scrolled": false
   },
   "outputs": [],
   "source": [
    "spotifytracks.info()"
   ]
  },
  {
   "cell_type": "code",
   "execution_count": null,
   "id": "bc6804ed",
   "metadata": {},
   "outputs": [],
   "source": [
    "##Dropping columns not needed\n",
    "spotifytracks=spotifytracks.drop(columns=['Unnamed: 0','Artist', 'Play Count', 'Genres'])"
   ]
  },
  {
   "cell_type": "code",
   "execution_count": null,
   "id": "90254a1f",
   "metadata": {},
   "outputs": [],
   "source": [
    "##Renaming columns to show Artist and specificng Release as Year (since some tracks appear more times than one in top hits)\n",
    "spotifytracks=spotifytracks.rename(columns={'Artist_Clean':'Artist','Release Year':'Year'})"
   ]
  },
  {
   "cell_type": "code",
   "execution_count": null,
   "id": "f9a7df9e",
   "metadata": {
    "scrolled": true
   },
   "outputs": [],
   "source": [
    "spotifytracks"
   ]
  },
  {
   "cell_type": "markdown",
   "id": "64e844fd",
   "metadata": {},
   "source": [
    "## General stats for dataframe"
   ]
  },
  {
   "cell_type": "code",
   "execution_count": null,
   "id": "f3d279a6",
   "metadata": {
    "scrolled": false
   },
   "outputs": [],
   "source": [
    "spotifytracks.describe()"
   ]
  },
  {
   "cell_type": "code",
   "execution_count": null,
   "id": "b88ae026",
   "metadata": {},
   "outputs": [],
   "source": [
    "##function to create decades column\n",
    "def decade(year):\n",
    "    if 2020 <= year <= 2022:\n",
    "        return \"2020's\"\n",
    "    elif 2010 <= year <= 2019:\n",
    "        return \"2010's\"\n",
    "    elif 2000 <= year <= 2009:\n",
    "        return \"2000's\"\n",
    "    elif 1990 <= year <= 1999:\n",
    "        return \"1990's\"\n",
    "    elif 1980 <= year <= 1989:\n",
    "        return \"1980's\"\n",
    "    elif 1970 <= year <= 1979:\n",
    "        return \"1970's\"\n",
    "    elif 1960 <= year <= 1969:\n",
    "        return \"1960's\"\n",
    "    elif 1950 <= year <= 1959:\n",
    "        return \"1950's\"\n",
    "    else:\n",
    "        return \"Other\""
   ]
  },
  {
   "cell_type": "code",
   "execution_count": null,
   "id": "12a7c735",
   "metadata": {},
   "outputs": [],
   "source": [
    "##Creating a new column to group years into decades\n",
    "spotifytracks['Decade'] = spotifytracks['Year'].apply(decade)"
   ]
  },
  {
   "cell_type": "code",
   "execution_count": null,
   "id": "d5ff18de",
   "metadata": {},
   "outputs": [],
   "source": []
  }
 ],
 "metadata": {
  "kernelspec": {
   "display_name": "Python 3 (ipykernel)",
   "language": "python",
   "name": "python3"
  },
  "language_info": {
   "codemirror_mode": {
    "name": "ipython",
    "version": 3
   },
   "file_extension": ".py",
   "mimetype": "text/x-python",
   "name": "python",
   "nbconvert_exporter": "python",
   "pygments_lexer": "ipython3",
   "version": "3.10.9"
  }
 },
 "nbformat": 4,
 "nbformat_minor": 5
}

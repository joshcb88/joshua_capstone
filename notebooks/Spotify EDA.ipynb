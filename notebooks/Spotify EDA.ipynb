{
 "cells": [
  {
   "cell_type": "code",
   "execution_count": 1,
   "id": "60e546dd",
   "metadata": {},
   "outputs": [],
   "source": [
    "import pandas as pd\n",
    "import numpy as np\n",
    "import matplotlib.pyplot as plt\n",
    "import seaborn as sns"
   ]
  },
  {
   "cell_type": "code",
   "execution_count": 9,
   "id": "0fe71a04",
   "metadata": {},
   "outputs": [],
   "source": [
    "spotify=pd.read_csv('../data/merged_years/complete_genre_artist_cleans/musicdecades.csv',nrows=6368)"
   ]
  },
  {
   "cell_type": "code",
   "execution_count": 10,
   "id": "997f249f",
   "metadata": {},
   "outputs": [
    {
     "name": "stdout",
     "output_type": "stream",
     "text": [
      "<class 'pandas.core.frame.DataFrame'>\n",
      "RangeIndex: 6368 entries, 0 to 6367\n",
      "Data columns (total 22 columns):\n",
      " #   Column            Non-Null Count  Dtype  \n",
      "---  ------            --------------  -----  \n",
      " 0   Unnamed: 0        6361 non-null   float64\n",
      " 1   Title             6368 non-null   object \n",
      " 2   Artist            6368 non-null   object \n",
      " 3   Artist_Cleaned    6368 non-null   object \n",
      " 4   Album             6368 non-null   object \n",
      " 5   Popularity        6368 non-null   object \n",
      " 6   Play Count        6368 non-null   object \n",
      " 7   Track URL         6368 non-null   object \n",
      " 8   Acousticness      6368 non-null   object \n",
      " 9   Danceability      6368 non-null   object \n",
      " 10  Loudness          6368 non-null   object \n",
      " 11  Valence           6368 non-null   object \n",
      " 12  Energy            6368 non-null   object \n",
      " 13  Liveness          6368 non-null   object \n",
      " 14  Tempo             6368 non-null   object \n",
      " 15  Explicit          6368 non-null   object \n",
      " 16  Instrumentalness  6368 non-null   object \n",
      " 17  Duration (ms)     6368 non-null   object \n",
      " 18  Genres            6368 non-null   object \n",
      " 19  Sub_Genre         6368 non-null   object \n",
      " 20  Main Genre        6368 non-null   object \n",
      " 21  Release Year      6368 non-null   object \n",
      "dtypes: float64(1), object(21)\n",
      "memory usage: 1.1+ MB\n"
     ]
    }
   ],
   "source": [
    "spotify.info()"
   ]
  },
  {
   "cell_type": "code",
   "execution_count": 12,
   "id": "6b0f645c",
   "metadata": {},
   "outputs": [],
   "source": [
    "spotify=spotify.drop(columns=['Unnamed: 0'])"
   ]
  },
  {
   "cell_type": "code",
   "execution_count": 13,
   "id": "8f0b83c2",
   "metadata": {},
   "outputs": [
    {
     "name": "stdout",
     "output_type": "stream",
     "text": [
      "<class 'pandas.core.frame.DataFrame'>\n",
      "RangeIndex: 6368 entries, 0 to 6367\n",
      "Data columns (total 21 columns):\n",
      " #   Column            Non-Null Count  Dtype \n",
      "---  ------            --------------  ----- \n",
      " 0   Title             6368 non-null   object\n",
      " 1   Artist            6368 non-null   object\n",
      " 2   Artist_Cleaned    6368 non-null   object\n",
      " 3   Album             6368 non-null   object\n",
      " 4   Popularity        6368 non-null   object\n",
      " 5   Play Count        6368 non-null   object\n",
      " 6   Track URL         6368 non-null   object\n",
      " 7   Acousticness      6368 non-null   object\n",
      " 8   Danceability      6368 non-null   object\n",
      " 9   Loudness          6368 non-null   object\n",
      " 10  Valence           6368 non-null   object\n",
      " 11  Energy            6368 non-null   object\n",
      " 12  Liveness          6368 non-null   object\n",
      " 13  Tempo             6368 non-null   object\n",
      " 14  Explicit          6368 non-null   object\n",
      " 15  Instrumentalness  6368 non-null   object\n",
      " 16  Duration (ms)     6368 non-null   object\n",
      " 17  Genres            6368 non-null   object\n",
      " 18  Sub_Genre         6368 non-null   object\n",
      " 19  Main Genre        6368 non-null   object\n",
      " 20  Release Year      6368 non-null   object\n",
      "dtypes: object(21)\n",
      "memory usage: 1.0+ MB\n"
     ]
    }
   ],
   "source": [
    "spotify.info()"
   ]
  },
  {
   "cell_type": "code",
   "execution_count": null,
   "id": "a5eafd73",
   "metadata": {},
   "outputs": [],
   "source": []
  }
 ],
 "metadata": {
  "kernelspec": {
   "display_name": "Python 3 (ipykernel)",
   "language": "python",
   "name": "python3"
  },
  "language_info": {
   "codemirror_mode": {
    "name": "ipython",
    "version": 3
   },
   "file_extension": ".py",
   "mimetype": "text/x-python",
   "name": "python",
   "nbconvert_exporter": "python",
   "pygments_lexer": "ipython3",
   "version": "3.10.9"
  }
 },
 "nbformat": 4,
 "nbformat_minor": 5
}

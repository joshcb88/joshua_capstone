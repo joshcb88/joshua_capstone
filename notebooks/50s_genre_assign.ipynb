{
 "cells": [
  {
   "cell_type": "code",
   "execution_count": null,
   "id": "dc1ce239",
   "metadata": {},
   "outputs": [],
   "source": [
    "import pandas as pd\n",
    "import numpy as np"
   ]
  },
  {
   "cell_type": "code",
   "execution_count": null,
   "id": "36b79c89",
   "metadata": {},
   "outputs": [],
   "source": [
    "fifties=pd.read_csv('../data/merged_years/genres_csvs/50scleanedup - Copy.csv',encoding='latin-1')"
   ]
  },
  {
   "cell_type": "code",
   "execution_count": null,
   "id": "053e1ae4",
   "metadata": {},
   "outputs": [],
   "source": [
    "fifties"
   ]
  },
  {
   "cell_type": "code",
   "execution_count": null,
   "id": "2d284fa2",
   "metadata": {},
   "outputs": [],
   "source": [
    "fifties=fifties.drop(columns=['Artist','Unnamed: 0','Unnamed: 21','Unnamed: 3','Sub_Genre','Genres_Cleaned'])"
   ]
  },
  {
   "cell_type": "code",
   "execution_count": null,
   "id": "b6aa78b0",
   "metadata": {
    "scrolled": true
   },
   "outputs": [],
   "source": [
    "fifties=fifties.rename(columns={'Artist_Replace':'Artist','Sub_Genre_Trimmed':'Sub_Genre'})"
   ]
  },
  {
   "cell_type": "code",
   "execution_count": null,
   "id": "3d5903e2",
   "metadata": {
    "scrolled": false
   },
   "outputs": [],
   "source": [
    "fifties"
   ]
  },
  {
   "cell_type": "code",
   "execution_count": null,
   "id": "8f8abf8a",
   "metadata": {},
   "outputs": [],
   "source": [
    "pd.reset_option('display.max_rows')"
   ]
  },
  {
   "cell_type": "code",
   "execution_count": null,
   "id": "0e4798e0",
   "metadata": {},
   "outputs": [],
   "source": [
    "def get_broad_category(sub_category):\n",
    "    if sub_category == 'rockabilly':\n",
    "        return \"Rock\"\n",
    "    elif sub_category == 'blues':\n",
    "        return \"Blues\"\n",
    "    elif sub_category == 'blues rock':\n",
    "        return \"Blues\"\n",
    "    elif sub_category == 'jump blues':\n",
    "        return \"Blues\"\n",
    "    elif sub_category == 'doo-wop':\n",
    "        return \"R&B\"\n",
    "    elif sub_category == 'jazz blues':\n",
    "        return \"Jazz\"\n",
    "    elif sub_category == 'easy listening':\n",
    "        return \"Pop\"\n",
    "    elif sub_category == 'rhythm and blues':\n",
    "        return \"R&B\"\n",
    "    elif sub_category == 'rock-and-roll':\n",
    "        return \"Rock\"\n",
    "    elif sub_category == 'honky tonk':\n",
    "        return \"Country\"\n",
    "    elif sub_category == 'chicago blues':\n",
    "        return \"Blues\"\n",
    "    elif sub_category == 'folk rock':\n",
    "        return \"Rock\"\n",
    "    elif sub_category == 'vocal harmony group':\n",
    "        return \"Easy Listening\"\n",
    "    elif sub_category == 'soul':\n",
    "        return \"Soul\"\n",
    "    elif sub_category == 'piano blues':\n",
    "        return \"Blues\"\n",
    "    elif sub_category == 'louisiana blues':\n",
    "        return \"Blues\"\n",
    "    elif sub_category == 'classic soul':\n",
    "        return \"Soul\"\n",
    "    elif sub_category == 'lounge':\n",
    "        return \"Jazz\"\n",
    "    elif sub_category == 'chicago blues':\n",
    "        return \"Blues\"\n",
    "    elif sub_category == 'new orleans blues':\n",
    "        return \"Blues\"\n",
    "    elif sub_category == 'southern soul':\n",
    "        return \"Soul\"\n",
    "    elif sub_category == 'northern soul':\n",
    "        return \"Soul\"\n",
    "    elif sub_category == 'deep adult standards':\n",
    "        return \"Alternative\"\n",
    "    elif sub_category == 'dpo-wop':\n",
    "        return \"R&B\"\n",
    "    elif sub_category == 'outlaw country':\n",
    "        return \"Country\"\n",
    "    elif sub_category == 'classic girl group':\n",
    "        return \"Pop\"\n",
    "    elif sub_category == 'skinhead reggae':\n",
    "        return \"Reggae\"\n",
    "    elif sub_category == 'cowboy western':\n",
    "        return \"Country\"\n",
    "    elif sub_category == 'classic rock':\n",
    "        return \"Rock\"\n",
    "    elif sub_category == 'vocal jazz':\n",
    "        return \"Jazz\"\n",
    "    elif sub_category == 'canadian pop':\n",
    "        return \"Pop\"\n",
    "    elif sub_category == 'country boogie':\n",
    "        return \"Country\"\n",
    "    elif sub_category == 'new orleans soul':\n",
    "        return \"Soul\"\n",
    "    elif sub_category == 'harmonica blues':\n",
    "        return \"Blues\"\n",
    "    elif sub_category == 'nashville sound':\n",
    "        return \"Country\"\n",
    "    elif sub_category == 'calypso':\n",
    "        return \"Kaiso\"\n",
    "    elif sub_category == 'funk':\n",
    "        return \"Funk\"\n",
    "    elif sub_category == 'post-romantic era':\n",
    "        return \"Classical\"\n",
    "    elif sub_category == 'novelty':\n",
    "        return \"Soundtrack\"\n",
    "    elif sub_category == 'classic garage rock':\n",
    "        return \"Rock\"\n",
    "    elif sub_category == 'vintage hollywood':\n",
    "        return \"Soundtrack\"\n",
    "    elif sub_category == 'nwocr':\n",
    "        return \"Rock\"\n",
    "    elif sub_category == 'skiffle':\n",
    "        return \"Folk\"\n",
    "    elif sub_category == 'classic greek pop':\n",
    "        return \"Pop\"\n",
    "    elif sub_category == 'memphis soul':\n",
    "        return \"Soul\"\n",
    "    elif sub_category == 'memphis blues, rhythm and blues':\n",
    "        return \"Blues\"\n",
    "    elif sub_category == 'jazz saxophone':\n",
    "        return \"Jazz\"\n",
    "    elif sub_category == 'jazz':\n",
    "        return \"Jazz\"\n",
    "    elif sub_category == 'space age pop':\n",
    "        return \"Pop\"\n",
    "    elif sub_category == 'modern free jazz':\n",
    "        return \"Jazz\"\n",
    "    elif sub_category == 'classic country pop':\n",
    "        return \"Country\"\n",
    "    elif sub_category == 'bluegrass gospel':\n",
    "        return \"Bluegrass\"\n",
    "    elif sub_category == 'swamp blues':\n",
    "        return \"Blues\"\n",
    "    elif sub_category == 'swing':\n",
    "        return \"Jazz\"\n",
    "    elif sub_category == 'folk':\n",
    "        return \"Folk\"\n",
    "    elif sub_category == 'traditional country':\n",
    "        return \"Country\"\n",
    "    elif sub_category == 'canadian rockabilly':\n",
    "        return \"Rock\"\n",
    "    elif sub_category == 'soul jazz':\n",
    "        return \"Jazz\"\n",
    "    else:\n",
    "        return 'Other'"
   ]
  },
  {
   "cell_type": "code",
   "execution_count": null,
   "id": "c60fd68a",
   "metadata": {},
   "outputs": [],
   "source": [
    "fifties['Main Genre'] = fifties['Sub_Genre'].apply(get_broad_category)"
   ]
  },
  {
   "cell_type": "code",
   "execution_count": null,
   "id": "d1a46815",
   "metadata": {},
   "outputs": [],
   "source": [
    "fifties['Main Genre'].value_counts()"
   ]
  },
  {
   "cell_type": "code",
   "execution_count": null,
   "id": "022f1841",
   "metadata": {},
   "outputs": [],
   "source": [
    "fifties=fifties[['Title','Artist','Album','Popularity','Play Count','Track URL','Acousticness','Danceability','Loudness','Valence','Energy','Liveness','Tempo','Explicit','Instrumentalness','Duration (ms)','Genres','Sub_Genre','Main Genre','Release Year']]"
   ]
  },
  {
   "cell_type": "code",
   "execution_count": null,
   "id": "2d6a621b",
   "metadata": {},
   "outputs": [],
   "source": [
    "fifties"
   ]
  },
  {
   "cell_type": "code",
   "execution_count": null,
   "id": "68f6f9a8",
   "metadata": {},
   "outputs": [],
   "source": [
    "fifties.info()"
   ]
  },
  {
   "cell_type": "code",
   "execution_count": null,
   "id": "671eea07",
   "metadata": {},
   "outputs": [],
   "source": [
    "fifties.loc[fifties['Artist']=='Chuck Berry','Main Genre']='Rock'"
   ]
  },
  {
   "cell_type": "code",
   "execution_count": null,
   "id": "86c05cda",
   "metadata": {},
   "outputs": [],
   "source": [
    "fifties.to_csv('../data/merged_years/full_cleans/fifties.csv')"
   ]
  },
  {
   "cell_type": "code",
   "execution_count": null,
   "id": "d223e7da",
   "metadata": {},
   "outputs": [],
   "source": [
    "fifties.loc[fifties['Sub_Genre']=='vocal harmony group']"
   ]
  },
  {
   "cell_type": "code",
   "execution_count": null,
   "id": "00a2cc41",
   "metadata": {},
   "outputs": [],
   "source": [
    "fifties.loc[fifties['Artist']=='Ivory Joe Hunter','Main Genre']= 'Blues'\n",
    "fifties.loc[fifties['Artist']=='Ray Charles','Main Genre']= 'Blues'\n",
    "fifties.loc[fifties['Artist']=='Chuck Willis','Main Genre']= 'Blues'"
   ]
  },
  {
   "cell_type": "code",
   "execution_count": null,
   "id": "881be896",
   "metadata": {},
   "outputs": [],
   "source": [
    "fifties.to_csv('../data/merged_years/full_cleans/fifties.csv')"
   ]
  },
  {
   "cell_type": "code",
   "execution_count": null,
   "id": "4dc63ed0",
   "metadata": {},
   "outputs": [],
   "source": [
    "fifties.loc[fifties['Artist']=='Buzz Clifford']"
   ]
  },
  {
   "cell_type": "code",
   "execution_count": null,
   "id": "277b2242",
   "metadata": {},
   "outputs": [],
   "source": [
    "fifties.loc[fifties['Artist']=='Chuck Berry', 'Main Genre']='Rock'"
   ]
  },
  {
   "cell_type": "code",
   "execution_count": null,
   "id": "c6dd0d13",
   "metadata": {},
   "outputs": [],
   "source": [
    "fifties.loc[fifties['Artist']=='Chuck Berry']"
   ]
  },
  {
   "cell_type": "code",
   "execution_count": null,
   "id": "a7c259d7",
   "metadata": {},
   "outputs": [],
   "source": [
    "fifties.to_csv('../data/merged_years/full_cleans/fifties.csv')"
   ]
  },
  {
   "cell_type": "code",
   "execution_count": null,
   "id": "64680386",
   "metadata": {},
   "outputs": [],
   "source": [
    "fifties.loc[fifties['Sub_Genre']=='jazz blues']"
   ]
  },
  {
   "cell_type": "code",
   "execution_count": null,
   "id": "dafe2ee2",
   "metadata": {},
   "outputs": [],
   "source": [
    "fifties.info()"
   ]
  },
  {
   "cell_type": "code",
   "execution_count": null,
   "id": "facb8d6b",
   "metadata": {},
   "outputs": [],
   "source": []
  }
 ],
 "metadata": {
  "kernelspec": {
   "display_name": "Python 3 (ipykernel)",
   "language": "python",
   "name": "python3"
  },
  "language_info": {
   "codemirror_mode": {
    "name": "ipython",
    "version": 3
   },
   "file_extension": ".py",
   "mimetype": "text/x-python",
   "name": "python",
   "nbconvert_exporter": "python",
   "pygments_lexer": "ipython3",
   "version": "3.10.9"
  }
 },
 "nbformat": 4,
 "nbformat_minor": 5
}

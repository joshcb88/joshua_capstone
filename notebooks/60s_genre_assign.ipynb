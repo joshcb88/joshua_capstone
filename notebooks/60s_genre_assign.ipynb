{
 "cells": [
  {
   "cell_type": "code",
   "execution_count": null,
   "id": "712af71f",
   "metadata": {},
   "outputs": [],
   "source": [
    "import pandas as pd\n",
    "import numpy as np"
   ]
  },
  {
   "cell_type": "code",
   "execution_count": null,
   "id": "91d974e7",
   "metadata": {},
   "outputs": [],
   "source": [
    "sixties=pd.read_csv('../data/merged_years/genres_csvs/1960s_cleanedup.csv', nrows=525)"
   ]
  },
  {
   "cell_type": "code",
   "execution_count": null,
   "id": "a581573e",
   "metadata": {},
   "outputs": [],
   "source": [
    "sixties"
   ]
  },
  {
   "cell_type": "code",
   "execution_count": null,
   "id": "57874807",
   "metadata": {},
   "outputs": [],
   "source": [
    "sixties=sixties.drop(columns=['Unnamed: 0.1','Unnamed: 0','Genres','Sub_Genre','Genres_Cleaned','Title'])"
   ]
  },
  {
   "cell_type": "code",
   "execution_count": null,
   "id": "1f0565ee",
   "metadata": {},
   "outputs": [],
   "source": [
    "sixties=sixties.rename(columns={'Title_Replaced':'Title','Sub_Genre_Trimmed':'Sub_Genre', 'Genre2':'Genres'})"
   ]
  },
  {
   "cell_type": "code",
   "execution_count": null,
   "id": "f9977761",
   "metadata": {},
   "outputs": [],
   "source": [
    "sixties=sixties.drop(columns=['Artist'])"
   ]
  },
  {
   "cell_type": "code",
   "execution_count": null,
   "id": "37a7b64a",
   "metadata": {},
   "outputs": [],
   "source": [
    "sixties=sixties.rename(columns={'Artist_Replace':'Artist'})"
   ]
  },
  {
   "cell_type": "code",
   "execution_count": null,
   "id": "b5ff742c",
   "metadata": {},
   "outputs": [],
   "source": [
    "sixties.info()"
   ]
  },
  {
   "cell_type": "code",
   "execution_count": null,
   "id": "921567b1",
   "metadata": {},
   "outputs": [],
   "source": [
    "pd.set_option('display.max_rows', None)"
   ]
  },
  {
   "cell_type": "code",
   "execution_count": null,
   "id": "1e65c687",
   "metadata": {},
   "outputs": [],
   "source": [
    "sixties['Sub_Genre'].value_counts()"
   ]
  },
  {
   "cell_type": "code",
   "execution_count": null,
   "id": "a205270a",
   "metadata": {},
   "outputs": [],
   "source": [
    "sixties.loc[sixties['Artist']=='Dusty Springfield','Sub_Genre']='pop'\n",
    "sixties.loc[sixties['Artist']=='Tom Jones','Sub_Genre']='pop'\n",
    "sixties.loc[sixties['Artist']=='Manfred Mann','Sub_Genre']='pop'"
   ]
  },
  {
   "cell_type": "code",
   "execution_count": null,
   "id": "ae4e24d3",
   "metadata": {
    "scrolled": false
   },
   "outputs": [],
   "source": [
    "sixties.loc[sixties['Artist']=='The Monkees']"
   ]
  },
  {
   "cell_type": "code",
   "execution_count": null,
   "id": "3ebd1c89",
   "metadata": {
    "scrolled": true
   },
   "outputs": [],
   "source": [
    "sixties.loc[sixties['Sub_Genre']=='arab groove']"
   ]
  },
  {
   "cell_type": "code",
   "execution_count": null,
   "id": "e27df77e",
   "metadata": {},
   "outputs": [],
   "source": [
    "sixties.loc[sixties['Artist']=='Rolling Stones','Artist']='The Rolling Stones'"
   ]
  },
  {
   "cell_type": "code",
   "execution_count": null,
   "id": "7e3093dc",
   "metadata": {},
   "outputs": [],
   "source": [
    "def get_broad_category(sub_category):\n",
    "    if sub_category == 'british invasion':\n",
    "         return \"Rock\"\n",
    "    if sub_category == 'soul':\n",
    "         return \"Soul\"\n",
    "    if sub_category == 'motown':\n",
    "         return \"R&B\"\n",
    "    if sub_category == 'rock-and-roll':\n",
    "         return \"Rock\"\n",
    "    if sub_category == 'classic rock':\n",
    "         return \"Rock\"\n",
    "    if sub_category == 'doo-wop':\n",
    "         return \"R&B\"\n",
    "    if sub_category == 'classic garage rock':\n",
    "         return \"Rock\"\n",
    "    if sub_category == 'album rock':\n",
    "         return \"Rock\"\n",
    "    if sub_category == 'bubblegum pop':\n",
    "         return \"Pop\"\n",
    "    if sub_category == 'classic soul':\n",
    "         return \"Soul\"\n",
    "    if sub_category == 'rockabilly':\n",
    "         return \"Rock\"\n",
    "    if sub_category == 'brill building pop':\n",
    "         return \"Pop\"\n",
    "    if sub_category == 'disco':\n",
    "         return \"Disco\"\n",
    "    if sub_category == 'blues rock':\n",
    "         return \"Rock\"\n",
    "    if sub_category == 'memphis soul':\n",
    "         return \"Soul\"\n",
    "    if sub_category == 'country rock':\n",
    "         return \"Rock\"\n",
    "    if sub_category == 'funk':\n",
    "         return \"Funk\"\n",
    "    if sub_category == 'folk':\n",
    "         return \"Folk\"\n",
    "    if sub_category == 'rhythm and blues':\n",
    "         return \"R&B\"\n",
    "    if sub_category == 'jazz blues':\n",
    "         return \"Blues\"\n",
    "    if sub_category == 'easy listening':\n",
    "         return \"Pop\"\n",
    "    if sub_category == 'rhythm and blues':\n",
    "         return \"R&B\"\n",
    "    if sub_category == 'folk rock':\n",
    "         return \"Rock\"\n",
    "    if sub_category == 'northern soul':\n",
    "         return \"Soul\"\n",
    "    if sub_category == 'southern soul':\n",
    "         return \"Soul\"\n",
    "    if sub_category == 'art rock':\n",
    "         return \"Rock\"\n",
    "    if sub_category == 'classic girl group':\n",
    "         return \"Pop\"\n",
    "    if sub_category == 'surf music':\n",
    "         return \"Rock\"\n",
    "    if sub_category == 'classic canadian rock':\n",
    "         return \"Rock\"\n",
    "    if sub_category == 'protopunk':\n",
    "         return \"Rock\"\n",
    "    if sub_category == 'nashville sound':\n",
    "         return \"Country\"\n",
    "    if sub_category == 'beatlesque':\n",
    "         return \"Rock\"\n",
    "    if sub_category == 'soul blues':\n",
    "         return \"Soul\"\n",
    "    if sub_category == 'canadian pop':\n",
    "         return \"Pop\"\n",
    "    if sub_category == 'merseybeat':\n",
    "         return \"Pop\"\n",
    "    if sub_category == 'new orleans blues':\n",
    "         return \"Blues\"\n",
    "    if sub_category == 'nederpop':\n",
    "         return \"Pop\"\n",
    "    if sub_category == 'british blues':\n",
    "         return \"Rock\"\n",
    "    if sub_category == 'novelty':\n",
    "         return \"Soundtrack\"\n",
    "    if sub_category == 'sunshine pop':\n",
    "         return \"Pop\"\n",
    "    if sub_category == 'outsider':\n",
    "         return \"Alternative\"\n",
    "    if sub_category == 'pop':\n",
    "         return \"Pop\"\n",
    "    if sub_category == 'seemannslieder':\n",
    "         return \"Folk\"\n",
    "    if sub_category == 'psychedelic soul':\n",
    "         return \"Soul\"\n",
    "    if sub_category == 'mellow gold':\n",
    "         return \"Pop\"\n",
    "    if sub_category == 'jazz saxophone':\n",
    "         return \"Jazz\"\n",
    "    if sub_category == 'dance rock':\n",
    "         return \"Rock\"\n",
    "    if sub_category == 'country dawn':\n",
    "         return \"Country\"\n",
    "    if sub_category == 'new orleans soul':\n",
    "         return \"Soul\"\n",
    "    if sub_category == 'indie rock':\n",
    "         return \"Rock\"\n",
    "    if sub_category == 'arkansas country':\n",
    "         return \"Country\"\n",
    "    if sub_category == 'roots reggae':\n",
    "         return \"Reggae\"\n",
    "    if sub_category == 'moog':\n",
    "         return \"Rock\"\n",
    "    if sub_category == 'instrumental soul':\n",
    "         return \"Soul\"\n",
    "    if sub_category == 'garage rock':\n",
    "         return \"Rock\"\n",
    "    if sub_category == 'spanish invasion':\n",
    "         return \"Rock\"\n",
    "    if sub_category == 'beach music':\n",
    "         return \"Rock\"\n",
    "    if sub_category == 'detroit rock':\n",
    "         return \"Rock\"\n",
    "    if sub_category == 'neo soul':\n",
    "         return \"Soul\"\n",
    "    if sub_category == 'calypso':\n",
    "         return \"Kaiso\"\n",
    "    if sub_category == 'polka':\n",
    "         return \"Polka\"\n",
    "    if sub_category == 'classic soundtrack':\n",
    "         return \"Soundtrack\"\n",
    "    if sub_category == 'pop rock':\n",
    "         return \"Pop\"\n",
    "    if sub_category == 'funk soul':\n",
    "         return \"Soul\"\n",
    "    if sub_category == 'outlaw country':\n",
    "         return \"Country\"\n",
    "    if sub_category == 'pop rock':\n",
    "         return \"Pop\"\n",
    "    if sub_category == 'honky-tonk piano':\n",
    "         return \"Country\"\n",
    "    if sub_category == 'deep adult standards':\n",
    "         return \"Pop\"\n",
    "    if sub_category == 'arab groove':\n",
    "         return \"Pop\"\n",
    "    if sub_category == 'pop rap':\n",
    "        return \"Hip-Hop\"\n",
    "    if sub_category == 'classic italian pop':\n",
    "         return \"Pop\"\n",
    "    if sub_category == 'cowboy western':\n",
    "         return \"Country\"\n",
    "    if sub_category == 'melancholia':\n",
    "         return \"Folk\"\n",
    "    if sub_category == 'vocal harmony group':\n",
    "         return \"Easy Listening\"\n",
    "    if sub_category == 'jazz':\n",
    "         return \"Jazz\"\n",
    "    if sub_category == 'classic uk pop':\n",
    "         return \"Pop\"\n",
    "    else:\n",
    "        return 'Other'"
   ]
  },
  {
   "cell_type": "code",
   "execution_count": null,
   "id": "3c7b6ad5",
   "metadata": {},
   "outputs": [],
   "source": [
    "sixties['Main Genre'] = sixties['Sub_Genre'].apply(get_broad_category)"
   ]
  },
  {
   "cell_type": "code",
   "execution_count": null,
   "id": "cadb183e",
   "metadata": {},
   "outputs": [],
   "source": [
    "sixties.loc[sixties['Artist']=='Mick Jagger & Keith Richards & The Rolling Stones']"
   ]
  },
  {
   "cell_type": "code",
   "execution_count": null,
   "id": "01a79238",
   "metadata": {},
   "outputs": [],
   "source": [
    "sixties.loc[sixties['Artist']=='Blind Faith','Main Genre']='Blues'\n",
    "sixties.loc[sixties['Artist']=='B.B. King','Main Genre']='Blues'\n",
    "sixties.loc[sixties['Artist']=='John Lee Hooker','Main Genre']='Blues'\n",
    "sixties.loc[sixties['Artist']=='Monkees','Main Genre']='Pop'"
   ]
  },
  {
   "cell_type": "code",
   "execution_count": null,
   "id": "b503bd88",
   "metadata": {
    "scrolled": true
   },
   "outputs": [],
   "source": [
    "sixties['Main Genre'].value_counts()"
   ]
  },
  {
   "cell_type": "code",
   "execution_count": null,
   "id": "6c2223a6",
   "metadata": {},
   "outputs": [],
   "source": [
    "sixties=sixties[['Title','Artist','Album','Popularity','Play Count','Track URL','Acousticness','Danceability','Loudness','Valence','Energy','Liveness','Tempo','Explicit','Instrumentalness','Duration (ms)','Genres','Sub_Genre','Main Genre','Release Year']]"
   ]
  },
  {
   "cell_type": "code",
   "execution_count": null,
   "id": "470915f9",
   "metadata": {},
   "outputs": [],
   "source": [
    "sixties.head()"
   ]
  },
  {
   "cell_type": "code",
   "execution_count": null,
   "id": "4a247916",
   "metadata": {},
   "outputs": [],
   "source": [
    "sixties.to_csv('../data/merged_years/full_cleans/sixties.csv')"
   ]
  },
  {
   "cell_type": "code",
   "execution_count": null,
   "id": "b9c44131",
   "metadata": {},
   "outputs": [],
   "source": [
    "sixties.info()"
   ]
  }
 ],
 "metadata": {
  "kernelspec": {
   "display_name": "Python 3 (ipykernel)",
   "language": "python",
   "name": "python3"
  },
  "language_info": {
   "codemirror_mode": {
    "name": "ipython",
    "version": 3
   },
   "file_extension": ".py",
   "mimetype": "text/x-python",
   "name": "python",
   "nbconvert_exporter": "python",
   "pygments_lexer": "ipython3",
   "version": "3.10.9"
  }
 },
 "nbformat": 4,
 "nbformat_minor": 5
}

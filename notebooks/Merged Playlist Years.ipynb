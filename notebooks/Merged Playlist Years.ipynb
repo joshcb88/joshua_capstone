{
 "cells": [
  {
   "cell_type": "code",
   "execution_count": null,
   "id": "fd8ca7e4",
   "metadata": {},
   "outputs": [],
   "source": [
    "import pandas as pd\n",
    "import glob as glob"
   ]
  },
  {
   "cell_type": "code",
   "execution_count": null,
   "id": "5ffea809",
   "metadata": {},
   "outputs": [],
   "source": [
    "all_50=glob.glob('../data/Playlists/50/*.csv')"
   ]
  },
  {
   "cell_type": "code",
   "execution_count": null,
   "id": "2a7d0538",
   "metadata": {},
   "outputs": [],
   "source": [
    "list_fifties=[]\n",
    "\n",
    "for csvfile in all_50:\n",
    "    fifties=pd.read_csv(csvfile)\n",
    "    list_fifties.append(fifties)"
   ]
  },
  {
   "cell_type": "code",
   "execution_count": null,
   "id": "ce24f67a",
   "metadata": {},
   "outputs": [],
   "source": [
    "fifties_df=pd.concat(list_fifties,axis=0,ignore_index=True)"
   ]
  },
  {
   "cell_type": "code",
   "execution_count": null,
   "id": "7231c329",
   "metadata": {},
   "outputs": [],
   "source": [
    "fifties_df.head()"
   ]
  },
  {
   "cell_type": "code",
   "execution_count": null,
   "id": "d4f01537",
   "metadata": {},
   "outputs": [],
   "source": [
    "fifties_df.to_csv('../data/merged_years/1950s.csv')"
   ]
  },
  {
   "cell_type": "code",
   "execution_count": null,
   "id": "92892274",
   "metadata": {},
   "outputs": [],
   "source": [
    "all_60=glob.glob('../data/Playlists/60/*.csv')"
   ]
  },
  {
   "cell_type": "code",
   "execution_count": null,
   "id": "34dcd53b",
   "metadata": {},
   "outputs": [],
   "source": [
    "list_sixties=[]\n",
    "\n",
    "for csvfile in all_60:\n",
    "    sixties=pd.read_csv(csvfile)\n",
    "    list_sixties.append(sixties)"
   ]
  },
  {
   "cell_type": "code",
   "execution_count": null,
   "id": "00368e71",
   "metadata": {},
   "outputs": [],
   "source": [
    "sixties_df=pd.concat(list_sixties,axis=0,ignore_index=True)"
   ]
  },
  {
   "cell_type": "code",
   "execution_count": null,
   "id": "c6832dd3",
   "metadata": {},
   "outputs": [],
   "source": [
    "sixties_df.head()"
   ]
  },
  {
   "cell_type": "code",
   "execution_count": null,
   "id": "8382821b",
   "metadata": {},
   "outputs": [],
   "source": [
    "sixties_df.to_csv('../data/merged_years/1960s.csv')"
   ]
  },
  {
   "cell_type": "code",
   "execution_count": null,
   "id": "1f66ea65",
   "metadata": {},
   "outputs": [],
   "source": [
    "all_70=glob.glob('../data/Playlists/70/*.csv')"
   ]
  },
  {
   "cell_type": "code",
   "execution_count": null,
   "id": "66b3664b",
   "metadata": {},
   "outputs": [],
   "source": [
    "list_seventies=[]\n",
    "\n",
    "for csvfile in all_70:\n",
    "    seventies=pd.read_csv(csvfile)\n",
    "    list_seventies.append(seventies)"
   ]
  },
  {
   "cell_type": "code",
   "execution_count": null,
   "id": "39e14651",
   "metadata": {},
   "outputs": [],
   "source": [
    "seventies_df=pd.concat(list_seventies,axis=0,ignore_index=True)"
   ]
  },
  {
   "cell_type": "code",
   "execution_count": null,
   "id": "13e3af45",
   "metadata": {},
   "outputs": [],
   "source": [
    "seventies_df.head()"
   ]
  },
  {
   "cell_type": "code",
   "execution_count": null,
   "id": "da654075",
   "metadata": {},
   "outputs": [],
   "source": [
    "seventies_df.to_csv('../data/merged_years/1970s.csv')"
   ]
  },
  {
   "cell_type": "code",
   "execution_count": null,
   "id": "95ecf1b3",
   "metadata": {},
   "outputs": [],
   "source": [
    "all_80=glob.glob('../data/Playlists/80/*.csv')"
   ]
  },
  {
   "cell_type": "code",
   "execution_count": null,
   "id": "9dcda4ab",
   "metadata": {},
   "outputs": [],
   "source": [
    "list_eighties=[]\n",
    "\n",
    "for csvfile in all_80:\n",
    "    eighties=pd.read_csv(csvfile)\n",
    "    list_eighties.append(eighties)"
   ]
  },
  {
   "cell_type": "code",
   "execution_count": null,
   "id": "39d3dee0",
   "metadata": {},
   "outputs": [],
   "source": [
    "eighties_df=pd.concat(list_eighties,axis=0,ignore_index=True)"
   ]
  },
  {
   "cell_type": "code",
   "execution_count": null,
   "id": "3be05ffd",
   "metadata": {},
   "outputs": [],
   "source": [
    "eighties_df.head()"
   ]
  },
  {
   "cell_type": "code",
   "execution_count": null,
   "id": "c83e923d",
   "metadata": {},
   "outputs": [],
   "source": [
    "eighties_df.to_csv('../data/merged_years/1980s.csv')"
   ]
  },
  {
   "cell_type": "code",
   "execution_count": null,
   "id": "6e515292",
   "metadata": {},
   "outputs": [],
   "source": [
    "all_90=glob.glob('../data/Playlists/90/*.csv')"
   ]
  },
  {
   "cell_type": "code",
   "execution_count": null,
   "id": "658af1cf",
   "metadata": {},
   "outputs": [],
   "source": [
    "list_nineties=[]\n",
    "\n",
    "for csvfile in all_90:\n",
    "    nineties=pd.read_csv(csvfile)\n",
    "    list_nineties.append(nineties)"
   ]
  },
  {
   "cell_type": "code",
   "execution_count": null,
   "id": "62d36e08",
   "metadata": {},
   "outputs": [],
   "source": [
    "nineties_df=pd.concat(list_nineties,axis=0,ignore_index=True)"
   ]
  },
  {
   "cell_type": "code",
   "execution_count": null,
   "id": "1ec0692c",
   "metadata": {},
   "outputs": [],
   "source": [
    "nineties_df.head()"
   ]
  },
  {
   "cell_type": "code",
   "execution_count": null,
   "id": "f63f0946",
   "metadata": {},
   "outputs": [],
   "source": [
    "nineties_df.to_csv('../data/merged_years/1990s.csv')"
   ]
  },
  {
   "cell_type": "code",
   "execution_count": null,
   "id": "4fc8467a",
   "metadata": {},
   "outputs": [],
   "source": [
    "all_2000=glob.glob('../data/Playlists/2000s/*.csv')"
   ]
  },
  {
   "cell_type": "code",
   "execution_count": null,
   "id": "f2f095e6",
   "metadata": {},
   "outputs": [],
   "source": [
    "list_2000=[]\n",
    "\n",
    "for csvfile in all_2000:\n",
    "    two000=pd.read_csv(csvfile)\n",
    "    list_2000.append(two000)"
   ]
  },
  {
   "cell_type": "code",
   "execution_count": null,
   "id": "fddb6519",
   "metadata": {},
   "outputs": [],
   "source": [
    "twothousand_df=pd.concat(list_2000,axis=0,ignore_index=True)"
   ]
  },
  {
   "cell_type": "code",
   "execution_count": null,
   "id": "b7e0e0e9",
   "metadata": {},
   "outputs": [],
   "source": [
    "twothousand_df.head()"
   ]
  },
  {
   "cell_type": "code",
   "execution_count": null,
   "id": "f753b4a0",
   "metadata": {},
   "outputs": [],
   "source": [
    "twothousand_df.to_csv('../data/merged_years/2000s.csv')"
   ]
  },
  {
   "cell_type": "code",
   "execution_count": null,
   "id": "857b691d",
   "metadata": {},
   "outputs": [],
   "source": [
    "all_2010=glob.glob('../data/Playlists/2010s/*.csv')"
   ]
  },
  {
   "cell_type": "code",
   "execution_count": null,
   "id": "d0cfc9d6",
   "metadata": {},
   "outputs": [],
   "source": [
    "list_2010=[]\n",
    "\n",
    "for csvfile in all_2010:\n",
    "    two010=pd.read_csv(csvfile)\n",
    "    list_2010.append(two010)"
   ]
  },
  {
   "cell_type": "code",
   "execution_count": null,
   "id": "a8bde7a2",
   "metadata": {},
   "outputs": [],
   "source": [
    "twoten_df=pd.concat(list_2010,axis=0,ignore_index=True)"
   ]
  },
  {
   "cell_type": "code",
   "execution_count": null,
   "id": "23967272",
   "metadata": {},
   "outputs": [],
   "source": [
    "twoten_df.head()"
   ]
  },
  {
   "cell_type": "code",
   "execution_count": null,
   "id": "d02dc1f9",
   "metadata": {},
   "outputs": [],
   "source": [
    "twoten_df.to_csv('../data/merged_years/2010s.csv')"
   ]
  },
  {
   "cell_type": "code",
   "execution_count": null,
   "id": "02533001",
   "metadata": {},
   "outputs": [],
   "source": [
    "all_2020=glob.glob('../data/Playlists/2020s/*.csv')"
   ]
  },
  {
   "cell_type": "code",
   "execution_count": null,
   "id": "02b32342",
   "metadata": {},
   "outputs": [],
   "source": [
    "list_2020=[]\n",
    "\n",
    "for csvfile in all_2020:\n",
    "    two020=pd.read_csv(csvfile)\n",
    "    list_2020.append(two020)"
   ]
  },
  {
   "cell_type": "code",
   "execution_count": null,
   "id": "d309d4ad",
   "metadata": {},
   "outputs": [],
   "source": [
    "two20_df=pd.concat(list_2020,axis=0,ignore_index=True)"
   ]
  },
  {
   "cell_type": "code",
   "execution_count": null,
   "id": "5599b321",
   "metadata": {},
   "outputs": [],
   "source": [
    "two20_df.head()"
   ]
  },
  {
   "cell_type": "code",
   "execution_count": null,
   "id": "69731f34",
   "metadata": {},
   "outputs": [],
   "source": [
    "two20_df.to_csv('../data/merged_years/2020s.csv')"
   ]
  }
 ],
 "metadata": {
  "kernelspec": {
   "display_name": "Python 3 (ipykernel)",
   "language": "python",
   "name": "python3"
  },
  "language_info": {
   "codemirror_mode": {
    "name": "ipython",
    "version": 3
   },
   "file_extension": ".py",
   "mimetype": "text/x-python",
   "name": "python",
   "nbconvert_exporter": "python",
   "pygments_lexer": "ipython3",
   "version": "3.10.9"
  }
 },
 "nbformat": 4,
 "nbformat_minor": 5
}
